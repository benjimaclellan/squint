{
 "cells": [
  {
   "cell_type": "markdown",
   "id": "Hbol",
   "metadata": {
    "marimo": {
     "config": {
      "hide_code": true
     }
    }
   },
   "source": [
    "# Benchmarking `squint`"
   ]
  },
  {
   "cell_type": "code",
   "execution_count": null,
   "id": "MJUe",
   "metadata": {},
   "outputs": [],
   "source": [
    "import itertools\n",
    "import timeit\n",
    "from functools import partial\n",
    "from typing import Literal\n",
    "\n",
    "import equinox as eqx\n",
    "import jax\n",
    "import jax.numpy as jnp\n",
    "import polars as pl\n",
    "import seaborn as sns\n",
    "from beartype import beartype\n",
    "from rich.pretty import pprint\n",
    "\n",
    "from squint.circuit import Circuit\n",
    "from squint.ops.base import SharedGate\n",
    "from squint.ops.dv import Conditional, DiscreteVariableState, HGate, Phase, XGate"
   ]
  },
  {
   "cell_type": "code",
   "execution_count": null,
   "id": "vblA",
   "metadata": {},
   "outputs": [
    {
     "name": "stdout",
     "output_type": "stream",
     "text": [
      "Circuit(\n",
      "  ops={\n",
      "│   0:\n",
      "│   DiscreteVariableState(wires=(0,), n=[(1.0, (0,))]),\n",
      "│   1:\n",
      "│   DiscreteVariableState(wires=(1,), n=[(1.0, (0,))]),\n",
      "│   2:\n",
      "│   HGate(wires=(0,)),\n",
      "│   3:\n",
      "│   Conditional(wires=(0, 1), gate=XGate(wires=(1,))),\n",
      "│   'phase0':\n",
      "│   SharedGate(\n",
      "│     wires=(0, 1),\n",
      "│     op=Phase(wires=(0,), phi=weak_f32[]),\n",
      "│     copies=[Phase(wires=(1,), phi=None)],\n",
      "│     where=<function <lambda>>,\n",
      "│     get=<function <lambda>>\n",
      "│   ),\n",
      "│   5:\n",
      "│   HGate(wires=(0,)),\n",
      "│   6:\n",
      "│   HGate(wires=(1,)),\n",
      "│   7:\n",
      "│   HGate(wires=(0,)),\n",
      "│   8:\n",
      "│   HGate(wires=(1,)),\n",
      "│   9:\n",
      "│   HGate(wires=(0,)),\n",
      "│   10:\n",
      "│   HGate(wires=(1,))\n",
      "  }\n",
      ")\n"
     ]
    }
   ],
   "source": [
    "def circuit_factory(dim: int, n: int, n_phi: int, depth: int):\n",
    "    circuit = Circuit()\n",
    "    for i in range(n):\n",
    "        circuit.add(DiscreteVariableState(wires=(i,), n=(0,)))\n",
    "\n",
    "    circuit.add(HGate(wires=(0,)))\n",
    "    for i in range(n - 1):\n",
    "        circuit.add(Conditional(gate=XGate, wires=(i, i + 1)))\n",
    "\n",
    "    block_width = n // n_phi\n",
    "    for k, phi in enumerate(range(n_phi)):\n",
    "        wires = [i + k * block_width for i in (range(1, block_width))]\n",
    "\n",
    "        circuit.add(\n",
    "            SharedGate(\n",
    "                op=Phase(wires=(k * block_width,), phi=0.1 * jnp.pi), wires=tuple(wires)\n",
    "            ),\n",
    "            f\"phase{k}\",\n",
    "        )\n",
    "\n",
    "    for ell in range(depth):\n",
    "        for i in range(n):\n",
    "            circuit.add(HGate(wires=(i,)))\n",
    "\n",
    "    for i in range(n):\n",
    "        circuit.add(HGate(wires=(i,)))\n",
    "\n",
    "    get = lambda pytree: jnp.array(\n",
    "        [pytree.ops[f\"phase{k}\"].op.phi for k in range(n_phi)]\n",
    "    )\n",
    "\n",
    "    return circuit, get\n",
    "\n",
    "\n",
    "circuit, get = circuit_factory(dim=2, n=2, n_phi=1, depth=2)\n",
    "params, static = eqx.partition(circuit, eqx.is_inexact_array)\n",
    "sim = circuit.compile(params, static, dim=2, optimize=\"greedy\")\n",
    "\n",
    "pprint(circuit)"
   ]
  },
  {
   "cell_type": "code",
   "execution_count": null,
   "id": "bkHC",
   "metadata": {},
   "outputs": [],
   "source": [
    "@beartype\n",
    "def benchmark(\n",
    "    dim: int, n: int, n_phi: int, depth: int, jit: bool, device: Literal[\"cpu\", \"gpu\"]\n",
    "):\n",
    "    circuit, get = circuit_factory(dim, n, n_phi, depth)\n",
    "    params, static = eqx.partition(circuit, eqx.is_inexact_array)\n",
    "    sim = circuit.compile(params, static, dim=dim, optimize=\"greedy\")\n",
    "    if jit:\n",
    "        sim = sim.jit(device=jax.devices(device)[0])\n",
    "\n",
    "    times = {\n",
    "        \"prob.forward\": timeit.Timer(partial(sim.probabilities.forward, params)).repeat(3, 1),\n",
    "        \"prob.grad\": timeit.Timer(partial(sim.probabilities.grad, params)).repeat(3, 1),\n",
    "        \"prob.cfim\": timeit.Timer(partial(sim.probabilities.cfim, get, params)).repeat(3, 1),\n",
    "    }\n",
    "    return {\n",
    "        \"dim\": dim,\n",
    "        \"n\": n,\n",
    "        \"n_phi\": n_phi,\n",
    "        \"depth\": depth,\n",
    "        \"jit\": jit,\n",
    "        \"device\": device,\n",
    "        \"max(prob.forward)\": max(times[\"prob.forward\"]),\n",
    "        \"max(prob.grad)\": max(times[\"prob.grad\"]),\n",
    "        \"max(prob.cfim)\": max(times[\"prob.cfim\"]),\n",
    "        \"min(prob.forward)\": min(times[\"prob.forward\"]),\n",
    "        \"min(prob.grad)\": min(times[\"prob.grad\"]),\n",
    "        \"min(prob.cfim)\": min(times[\"prob.cfim\"]),\n",
    "    }\n",
    "\n",
    "\n",
    "def batch(dims, ns, n_phis, depths, jits, devices):\n",
    "    df = []\n",
    "    config = list(itertools.product(dims, ns, n_phis, depths, jits, devices))\n",
    "    for i, (dim, n, n_phi, depth, jit, device) in enumerate(config):\n",
    "        print(dim, n, n_phi, depth, jit, device)\n",
    "        df.append(benchmark(dim, n, n_phi, depth, jit, device))\n",
    "    return pl.DataFrame(df)"
   ]
  },
  {
   "cell_type": "code",
   "execution_count": null,
   "id": "lEQa",
   "metadata": {},
   "outputs": [
    {
     "name": "stdout",
     "output_type": "stream",
     "text": [
      "1 4 1 0 True cpu\n"
     ]
    },
    {
     "name": "stdout",
     "output_type": "stream",
     "text": [
      "2 4 1 0 True cpu\n"
     ]
    },
    {
     "name": "stdout",
     "output_type": "stream",
     "text": [
      "3 4 1 0 True cpu\n"
     ]
    },
    {
     "name": "stdout",
     "output_type": "stream",
     "text": [
      "4 4 1 0 True cpu\n"
     ]
    }
   ],
   "source": [
    "df1 = batch(\n",
    "    dims=(1, 2, 3, 4), ns=(4,), n_phis=(1,), depths=(0,), jits=(True,), devices=(\"cpu\",)\n",
    ")"
   ]
  },
  {
   "cell_type": "code",
   "execution_count": null,
   "id": "PKri",
   "metadata": {},
   "outputs": [],
   "source": [
    "# df1.hvplot.scatter(x=\"dim\", y=\"min(prob.forward)\")"
   ]
  },
  {
   "cell_type": "code",
   "execution_count": null,
   "id": "Xref",
   "metadata": {},
   "outputs": [
    {
     "name": "stdout",
     "output_type": "stream",
     "text": [
      "2 2 2 0 True cpu\n"
     ]
    },
    {
     "name": "stdout",
     "output_type": "stream",
     "text": [
      "2 2 2 0 True gpu\n"
     ]
    },
    {
     "name": "stdout",
     "output_type": "stream",
     "text": [
      "2 2 2 0 False cpu\n"
     ]
    },
    {
     "name": "stdout",
     "output_type": "stream",
     "text": [
      "2 2 2 0 False gpu\n"
     ]
    },
    {
     "name": "stdout",
     "output_type": "stream",
     "text": [
      "2 3 2 0 True cpu\n"
     ]
    },
    {
     "name": "stdout",
     "output_type": "stream",
     "text": [
      "2 3 2 0 True gpu\n"
     ]
    },
    {
     "name": "stdout",
     "output_type": "stream",
     "text": [
      "2 3 2 0 False cpu\n"
     ]
    },
    {
     "name": "stdout",
     "output_type": "stream",
     "text": [
      "2 3 2 0 False gpu\n"
     ]
    },
    {
     "name": "stdout",
     "output_type": "stream",
     "text": [
      "2 4 2 0 True cpu\n"
     ]
    },
    {
     "name": "stdout",
     "output_type": "stream",
     "text": [
      "2 4 2 0 True gpu\n"
     ]
    },
    {
     "name": "stdout",
     "output_type": "stream",
     "text": [
      "2 4 2 0 False cpu\n"
     ]
    },
    {
     "name": "stdout",
     "output_type": "stream",
     "text": [
      "2 4 2 0 False gpu\n"
     ]
    },
    {
     "name": "stdout",
     "output_type": "stream",
     "text": [
      "2 5 2 0 True cpu\n"
     ]
    },
    {
     "name": "stdout",
     "output_type": "stream",
     "text": [
      "2 5 2 0 True gpu\n"
     ]
    },
    {
     "name": "stdout",
     "output_type": "stream",
     "text": [
      "2 5 2 0 False cpu\n"
     ]
    },
    {
     "name": "stdout",
     "output_type": "stream",
     "text": [
      "2 5 2 0 False gpu\n"
     ]
    },
    {
     "name": "stdout",
     "output_type": "stream",
     "text": [
      "2 6 2 0 True cpu\n"
     ]
    },
    {
     "name": "stdout",
     "output_type": "stream",
     "text": [
      "2 6 2 0 True gpu\n"
     ]
    },
    {
     "name": "stdout",
     "output_type": "stream",
     "text": [
      "2 6 2 0 False cpu\n"
     ]
    },
    {
     "name": "stdout",
     "output_type": "stream",
     "text": [
      "2 6 2 0 False gpu\n"
     ]
    },
    {
     "name": "stdout",
     "output_type": "stream",
     "text": [
      "2 7 2 0 True cpu\n"
     ]
    },
    {
     "name": "stdout",
     "output_type": "stream",
     "text": [
      "2 7 2 0 True gpu\n"
     ]
    },
    {
     "name": "stdout",
     "output_type": "stream",
     "text": [
      "2 7 2 0 False cpu\n"
     ]
    },
    {
     "name": "stdout",
     "output_type": "stream",
     "text": [
      "2 7 2 0 False gpu\n"
     ]
    },
    {
     "name": "stdout",
     "output_type": "stream",
     "text": [
      "2 8 2 0 True cpu\n"
     ]
    },
    {
     "name": "stdout",
     "output_type": "stream",
     "text": [
      "2 8 2 0 True gpu\n"
     ]
    },
    {
     "name": "stdout",
     "output_type": "stream",
     "text": [
      "2 8 2 0 False cpu\n"
     ]
    },
    {
     "name": "stdout",
     "output_type": "stream",
     "text": [
      "2 8 2 0 False gpu\n"
     ]
    },
    {
     "name": "stdout",
     "output_type": "stream",
     "text": [
      "2 9 2 0 True cpu\n"
     ]
    },
    {
     "name": "stdout",
     "output_type": "stream",
     "text": [
      "2 9 2 0 True gpu\n"
     ]
    },
    {
     "name": "stdout",
     "output_type": "stream",
     "text": [
      "2 9 2 0 False cpu\n"
     ]
    },
    {
     "name": "stdout",
     "output_type": "stream",
     "text": [
      "2 9 2 0 False gpu\n"
     ]
    },
    {
     "name": "stdout",
     "output_type": "stream",
     "text": [
      "2 10 2 0 True cpu\n"
     ]
    },
    {
     "name": "stdout",
     "output_type": "stream",
     "text": [
      "2 10 2 0 True gpu\n"
     ]
    },
    {
     "name": "stdout",
     "output_type": "stream",
     "text": [
      "2 10 2 0 False cpu\n"
     ]
    },
    {
     "name": "stdout",
     "output_type": "stream",
     "text": [
      "2 10 2 0 False gpu\n"
     ]
    },
    {
     "name": "stdout",
     "output_type": "stream",
     "text": [
      "2 11 2 0 True cpu\n"
     ]
    },
    {
     "name": "stdout",
     "output_type": "stream",
     "text": [
      "2 11 2 0 True gpu\n"
     ]
    },
    {
     "name": "stdout",
     "output_type": "stream",
     "text": [
      "2 11 2 0 False cpu\n"
     ]
    },
    {
     "name": "stdout",
     "output_type": "stream",
     "text": [
      "2 11 2 0 False gpu\n"
     ]
    },
    {
     "name": "stdout",
     "output_type": "stream",
     "text": [
      "2 12 2 0 True cpu\n"
     ]
    },
    {
     "name": "stdout",
     "output_type": "stream",
     "text": [
      "2 12 2 0 True gpu\n"
     ]
    },
    {
     "name": "stdout",
     "output_type": "stream",
     "text": [
      "2 12 2 0 False cpu\n"
     ]
    },
    {
     "name": "stdout",
     "output_type": "stream",
     "text": [
      "2 12 2 0 False gpu\n"
     ]
    },
    {
     "name": "stdout",
     "output_type": "stream",
     "text": [
      "2 13 2 0 True cpu\n"
     ]
    },
    {
     "name": "stdout",
     "output_type": "stream",
     "text": [
      "2 13 2 0 True gpu\n"
     ]
    },
    {
     "name": "stdout",
     "output_type": "stream",
     "text": [
      "2 13 2 0 False cpu\n"
     ]
    },
    {
     "name": "stdout",
     "output_type": "stream",
     "text": [
      "2 13 2 0 False gpu\n"
     ]
    }
   ],
   "source": [
    "df2 = batch(\n",
    "    dims=(2,),\n",
    "    ns=list(range(2, 16)),\n",
    "    n_phis=(2,),\n",
    "    depths=(0,),\n",
    "    jits=(True, False),\n",
    "    devices=(\"cpu\", \"gpu\"),\n",
    ")"
   ]
  },
  {
   "cell_type": "code",
   "execution_count": null,
   "id": "SFPL",
   "metadata": {},
   "outputs": [
    {
     "data": {
      "image/png": "[encoded data removed]"
     },
     "metadata": {},
     "output_type": "display_data"
    }
   ],
   "source": [
    "_g = sns.FacetGrid(df2, row=\"jit\", col=\"jit\", hue=\"device\")\n",
    "_g.map(sns.lineplot, \"n\", \"min(prob.cfim)\", markers=\"o\")\n",
    "_g.add_legend()"
   ]
  },
  {
   "cell_type": "code",
   "execution_count": null,
   "id": "BYtC",
   "metadata": {},
   "outputs": [
    {
     "name": "stdout",
     "output_type": "stream",
     "text": [
      "2 2 1 0 True cpu\n"
     ]
    },
    {
     "name": "stdout",
     "output_type": "stream",
     "text": [
      "2 2 1 0 True gpu\n"
     ]
    },
    {
     "name": "stdout",
     "output_type": "stream",
     "text": [
      "2 2 1 0 False cpu\n"
     ]
    },
    {
     "name": "stdout",
     "output_type": "stream",
     "text": [
      "2 2 1 0 False gpu\n"
     ]
    },
    {
     "name": "stdout",
     "output_type": "stream",
     "text": [
      "2 3 1 0 True cpu\n"
     ]
    },
    {
     "name": "stdout",
     "output_type": "stream",
     "text": [
      "2 3 1 0 True gpu\n"
     ]
    },
    {
     "name": "stdout",
     "output_type": "stream",
     "text": [
      "2 3 1 0 False cpu\n"
     ]
    },
    {
     "name": "stdout",
     "output_type": "stream",
     "text": [
      "2 3 1 0 False gpu\n"
     ]
    },
    {
     "name": "stdout",
     "output_type": "stream",
     "text": [
      "2 4 1 0 True cpu\n"
     ]
    },
    {
     "name": "stdout",
     "output_type": "stream",
     "text": [
      "2 4 1 0 True gpu\n"
     ]
    },
    {
     "name": "stdout",
     "output_type": "stream",
     "text": [
      "2 4 1 0 False cpu\n"
     ]
    },
    {
     "name": "stdout",
     "output_type": "stream",
     "text": [
      "2 4 1 0 False gpu\n"
     ]
    },
    {
     "name": "stdout",
     "output_type": "stream",
     "text": [
      "2 5 1 0 True cpu\n"
     ]
    },
    {
     "name": "stdout",
     "output_type": "stream",
     "text": [
      "2 5 1 0 True gpu\n"
     ]
    },
    {
     "name": "stdout",
     "output_type": "stream",
     "text": [
      "2 5 1 0 False cpu\n"
     ]
    },
    {
     "name": "stdout",
     "output_type": "stream",
     "text": [
      "2 5 1 0 False gpu\n"
     ]
    },
    {
     "name": "stdout",
     "output_type": "stream",
     "text": [
      "3 2 1 0 True cpu\n"
     ]
    },
    {
     "name": "stdout",
     "output_type": "stream",
     "text": [
      "3 2 1 0 True gpu\n"
     ]
    },
    {
     "name": "stdout",
     "output_type": "stream",
     "text": [
      "3 2 1 0 False cpu\n"
     ]
    },
    {
     "name": "stdout",
     "output_type": "stream",
     "text": [
      "3 2 1 0 False gpu\n"
     ]
    },
    {
     "name": "stdout",
     "output_type": "stream",
     "text": [
      "3 3 1 0 True cpu\n"
     ]
    },
    {
     "name": "stdout",
     "output_type": "stream",
     "text": [
      "3 3 1 0 True gpu\n"
     ]
    },
    {
     "name": "stdout",
     "output_type": "stream",
     "text": [
      "3 3 1 0 False cpu\n"
     ]
    },
    {
     "name": "stdout",
     "output_type": "stream",
     "text": [
      "3 3 1 0 False gpu\n"
     ]
    },
    {
     "name": "stdout",
     "output_type": "stream",
     "text": [
      "3 4 1 0 True cpu\n"
     ]
    },
    {
     "name": "stdout",
     "output_type": "stream",
     "text": [
      "3 4 1 0 True gpu\n"
     ]
    },
    {
     "name": "stdout",
     "output_type": "stream",
     "text": [
      "3 4 1 0 False cpu\n"
     ]
    },
    {
     "name": "stdout",
     "output_type": "stream",
     "text": [
      "3 4 1 0 False gpu\n"
     ]
    },
    {
     "name": "stdout",
     "output_type": "stream",
     "text": [
      "3 5 1 0 True cpu\n"
     ]
    },
    {
     "name": "stdout",
     "output_type": "stream",
     "text": [
      "3 5 1 0 True gpu\n"
     ]
    },
    {
     "name": "stdout",
     "output_type": "stream",
     "text": [
      "3 5 1 0 False cpu\n"
     ]
    },
    {
     "name": "stdout",
     "output_type": "stream",
     "text": [
      "3 5 1 0 False gpu\n"
     ]
    },
    {
     "name": "stdout",
     "output_type": "stream",
     "text": [
      "4 2 1 0 True cpu\n"
     ]
    },
    {
     "name": "stdout",
     "output_type": "stream",
     "text": [
      "4 2 1 0 True gpu\n"
     ]
    },
    {
     "name": "stdout",
     "output_type": "stream",
     "text": [
      "4 2 1 0 False cpu\n"
     ]
    },
    {
     "name": "stdout",
     "output_type": "stream",
     "text": [
      "4 2 1 0 False gpu\n"
     ]
    },
    {
     "name": "stdout",
     "output_type": "stream",
     "text": [
      "4 3 1 0 True cpu\n"
     ]
    },
    {
     "name": "stdout",
     "output_type": "stream",
     "text": [
      "4 3 1 0 True gpu\n"
     ]
    },
    {
     "name": "stdout",
     "output_type": "stream",
     "text": [
      "4 3 1 0 False cpu\n"
     ]
    },
    {
     "name": "stdout",
     "output_type": "stream",
     "text": [
      "4 3 1 0 False gpu\n"
     ]
    },
    {
     "name": "stdout",
     "output_type": "stream",
     "text": [
      "4 4 1 0 True cpu\n"
     ]
    },
    {
     "name": "stdout",
     "output_type": "stream",
     "text": [
      "4 4 1 0 True gpu\n"
     ]
    },
    {
     "name": "stdout",
     "output_type": "stream",
     "text": [
      "4 4 1 0 False cpu\n"
     ]
    },
    {
     "name": "stdout",
     "output_type": "stream",
     "text": [
      "4 4 1 0 False gpu\n"
     ]
    },
    {
     "name": "stdout",
     "output_type": "stream",
     "text": [
      "4 5 1 0 True cpu\n"
     ]
    },
    {
     "name": "stdout",
     "output_type": "stream",
     "text": [
      "4 5 1 0 True gpu\n"
     ]
    },
    {
     "name": "stdout",
     "output_type": "stream",
     "text": [
      "4 5 1 0 False cpu\n"
     ]
    },
    {
     "name": "stdout",
     "output_type": "stream",
     "text": [
      "4 5 1 0 False gpu\n"
     ]
    }
   ],
   "source": [
    "df3 = batch(\n",
    "    dims=(2, 3, 4),\n",
    "    ns=list(range(2, 6)),\n",
    "    n_phis=(1,),\n",
    "    depths=(0,),\n",
    "    jits=(True, False),\n",
    "    devices=(\"cpu\", \"gpu\"),\n",
    "    # devices = ('cpu', )\n",
    ")"
   ]
  },
  {
   "cell_type": "code",
   "execution_count": null,
   "id": "RGSE",
   "metadata": {},
   "outputs": [
    {
     "data": {
      "image/png": "[encoded data removed]"
     },
     "metadata": {},
     "output_type": "display_data"
    }
   ],
   "source": [
    "_g = sns.FacetGrid(df3, row=\"jit\", col=\"dim\", hue=\"device\")\n",
    "_g.map(sns.lineplot, \"n\", \"min(prob.cfim)\", markers=\"o\")\n",
    "_g.add_legend()"
   ]
  },
  {
   "cell_type": "code",
   "execution_count": null,
   "id": "Kclp",
   "metadata": {},
   "outputs": [
    {
     "data": {
      "image/png": "[encoded data removed]"
     },
     "metadata": {},
     "output_type": "display_data"
    }
   ],
   "source": [
    "_g = sns.FacetGrid(df3.filter(pl.col(\"jit\") == True), col=\"dim\", hue=\"device\")\n",
    "_g.map(sns.lineplot, \"n\", \"min(prob.cfim)\", markers=\"o\")\n",
    "_g.add_legend()"
   ]
  },
  {
   "cell_type": "code",
   "execution_count": null,
   "id": "emfo",
   "metadata": {},
   "outputs": [],
   "source": []
  }
 ],
 "metadata": {
  "language_info": {
   "name": "python"
  }
 },
 "nbformat": 4,
 "nbformat_minor": 5
}
