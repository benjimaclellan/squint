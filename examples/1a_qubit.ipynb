{
 "cells": [
  {
   "cell_type": "markdown",
   "metadata": {},
   "source": [
    "# Single qubit: phase estimation\n",
    "This example shows a one-qubit interference experiment."
   ]
  },
  {
   "cell_type": "code",
   "execution_count": 8,
   "metadata": {},
   "outputs": [],
   "source": [
    "import itertools\n",
    "\n",
    "import equinox as eqx\n",
    "import jax.numpy as jnp\n",
    "import matplotlib.pyplot as plt\n",
    "import seaborn as sns\n",
    "from rich.pretty import pprint\n",
    "\n",
    "from squint.circuit import Circuit\n",
    "from squint.ops.dv import DiscreteVariableState, HGate, RZGate\n",
    "from squint.ops.noise import BitFlipChannel"
   ]
  },
  {
   "cell_type": "code",
   "execution_count": 9,
   "metadata": {},
   "outputs": [
    {
     "data": {
      "text/html": [
       "<pre style=\"white-space:pre;overflow-x:auto;line-height:normal;font-family:Menlo,'DejaVu Sans Mono',consolas,'Courier New',monospace\"><span style=\"color: #800080; text-decoration-color: #800080; font-weight: bold\">Circuit</span><span style=\"font-weight: bold\">(</span>\n",
       "<span style=\"color: #7fbf7f; text-decoration-color: #7fbf7f\">  </span><span style=\"color: #808000; text-decoration-color: #808000\">dims</span>=<span style=\"color: #800080; text-decoration-color: #800080; font-style: italic\">None</span>,\n",
       "<span style=\"color: #7fbf7f; text-decoration-color: #7fbf7f\">  </span><span style=\"color: #808000; text-decoration-color: #808000\">ops</span>=<span style=\"font-weight: bold\">{</span>\n",
       "<span style=\"color: #7fbf7f; text-decoration-color: #7fbf7f\">│   </span><span style=\"color: #008080; text-decoration-color: #008080; font-weight: bold\">0</span>:\n",
       "<span style=\"color: #7fbf7f; text-decoration-color: #7fbf7f\">│   </span><span style=\"color: #800080; text-decoration-color: #800080; font-weight: bold\">DiscreteVariableState</span><span style=\"font-weight: bold\">(</span><span style=\"color: #808000; text-decoration-color: #808000\">wires</span>=<span style=\"font-weight: bold\">(</span><span style=\"color: #008080; text-decoration-color: #008080; font-weight: bold\">0</span>,<span style=\"font-weight: bold\">)</span>, <span style=\"color: #808000; text-decoration-color: #808000\">n</span>=<span style=\"font-weight: bold\">[(</span><span style=\"color: #008080; text-decoration-color: #008080; font-weight: bold\">1.0</span>, <span style=\"font-weight: bold\">(</span><span style=\"color: #008080; text-decoration-color: #008080; font-weight: bold\">0</span>,<span style=\"font-weight: bold\">))])</span>,\n",
       "<span style=\"color: #7fbf7f; text-decoration-color: #7fbf7f\">│   </span><span style=\"color: #008080; text-decoration-color: #008080; font-weight: bold\">1</span>:\n",
       "<span style=\"color: #7fbf7f; text-decoration-color: #7fbf7f\">│   </span><span style=\"color: #800080; text-decoration-color: #800080; font-weight: bold\">HGate</span><span style=\"font-weight: bold\">(</span><span style=\"color: #808000; text-decoration-color: #808000\">wires</span>=<span style=\"font-weight: bold\">(</span><span style=\"color: #008080; text-decoration-color: #008080; font-weight: bold\">0</span>,<span style=\"font-weight: bold\">))</span>,\n",
       "<span style=\"color: #7fbf7f; text-decoration-color: #7fbf7f\">│   </span><span style=\"color: #008000; text-decoration-color: #008000\">'phase'</span>:\n",
       "<span style=\"color: #7fbf7f; text-decoration-color: #7fbf7f\">│   </span><span style=\"color: #800080; text-decoration-color: #800080; font-weight: bold\">RZGate</span><span style=\"font-weight: bold\">(</span><span style=\"color: #808000; text-decoration-color: #808000\">wires</span>=<span style=\"font-weight: bold\">(</span><span style=\"color: #008080; text-decoration-color: #008080; font-weight: bold\">0</span>,<span style=\"font-weight: bold\">)</span>, <span style=\"color: #808000; text-decoration-color: #808000\">phi</span>=<span style=\"color: #800080; text-decoration-color: #800080\">weak_f64</span><span style=\"font-weight: bold\">[])</span>,\n",
       "<span style=\"color: #7fbf7f; text-decoration-color: #7fbf7f\">│   </span><span style=\"color: #008080; text-decoration-color: #008080; font-weight: bold\">3</span>:\n",
       "<span style=\"color: #7fbf7f; text-decoration-color: #7fbf7f\">│   </span><span style=\"color: #800080; text-decoration-color: #800080; font-weight: bold\">HGate</span><span style=\"font-weight: bold\">(</span><span style=\"color: #808000; text-decoration-color: #808000\">wires</span>=<span style=\"font-weight: bold\">(</span><span style=\"color: #008080; text-decoration-color: #008080; font-weight: bold\">0</span>,<span style=\"font-weight: bold\">))</span>,\n",
       "<span style=\"color: #7fbf7f; text-decoration-color: #7fbf7f\">│   </span><span style=\"color: #008080; text-decoration-color: #008080; font-weight: bold\">4</span>:\n",
       "<span style=\"color: #7fbf7f; text-decoration-color: #7fbf7f\">│   </span><span style=\"color: #800080; text-decoration-color: #800080; font-weight: bold\">BitFlipChannel</span><span style=\"font-weight: bold\">(</span><span style=\"color: #808000; text-decoration-color: #808000\">wires</span>=<span style=\"font-weight: bold\">(</span><span style=\"color: #008080; text-decoration-color: #008080; font-weight: bold\">0</span>,<span style=\"font-weight: bold\">)</span>, <span style=\"color: #808000; text-decoration-color: #808000\">p</span>=<span style=\"color: #800080; text-decoration-color: #800080\">weak_f64</span><span style=\"font-weight: bold\">[])</span>\n",
       "<span style=\"color: #7fbf7f; text-decoration-color: #7fbf7f\">  </span><span style=\"font-weight: bold\">}</span>,\n",
       "<span style=\"color: #7fbf7f; text-decoration-color: #7fbf7f\">  </span><span style=\"color: #808000; text-decoration-color: #808000\">_backend</span>=<span style=\"color: #008000; text-decoration-color: #008000\">'mixed'</span>\n",
       "<span style=\"font-weight: bold\">)</span>\n",
       "</pre>\n"
      ],
      "text/plain": [
       "\u001b[1;35mCircuit\u001b[0m\u001b[1m(\u001b[0m\n",
       "\u001b[2;32m  \u001b[0m\u001b[33mdims\u001b[0m=\u001b[3;35mNone\u001b[0m,\n",
       "\u001b[2;32m  \u001b[0m\u001b[33mops\u001b[0m=\u001b[1m{\u001b[0m\n",
       "\u001b[2;32m│   \u001b[0m\u001b[1;36m0\u001b[0m:\n",
       "\u001b[2;32m│   \u001b[0m\u001b[1;35mDiscreteVariableState\u001b[0m\u001b[1m(\u001b[0m\u001b[33mwires\u001b[0m=\u001b[1m(\u001b[0m\u001b[1;36m0\u001b[0m,\u001b[1m)\u001b[0m, \u001b[33mn\u001b[0m=\u001b[1m[\u001b[0m\u001b[1m(\u001b[0m\u001b[1;36m1.0\u001b[0m, \u001b[1m(\u001b[0m\u001b[1;36m0\u001b[0m,\u001b[1m)\u001b[0m\u001b[1m)\u001b[0m\u001b[1m]\u001b[0m\u001b[1m)\u001b[0m,\n",
       "\u001b[2;32m│   \u001b[0m\u001b[1;36m1\u001b[0m:\n",
       "\u001b[2;32m│   \u001b[0m\u001b[1;35mHGate\u001b[0m\u001b[1m(\u001b[0m\u001b[33mwires\u001b[0m=\u001b[1m(\u001b[0m\u001b[1;36m0\u001b[0m,\u001b[1m)\u001b[0m\u001b[1m)\u001b[0m,\n",
       "\u001b[2;32m│   \u001b[0m\u001b[32m'phase'\u001b[0m:\n",
       "\u001b[2;32m│   \u001b[0m\u001b[1;35mRZGate\u001b[0m\u001b[1m(\u001b[0m\u001b[33mwires\u001b[0m=\u001b[1m(\u001b[0m\u001b[1;36m0\u001b[0m,\u001b[1m)\u001b[0m, \u001b[33mphi\u001b[0m=\u001b[35mweak_f64\u001b[0m\u001b[1m[\u001b[0m\u001b[1m]\u001b[0m\u001b[1m)\u001b[0m,\n",
       "\u001b[2;32m│   \u001b[0m\u001b[1;36m3\u001b[0m:\n",
       "\u001b[2;32m│   \u001b[0m\u001b[1;35mHGate\u001b[0m\u001b[1m(\u001b[0m\u001b[33mwires\u001b[0m=\u001b[1m(\u001b[0m\u001b[1;36m0\u001b[0m,\u001b[1m)\u001b[0m\u001b[1m)\u001b[0m,\n",
       "\u001b[2;32m│   \u001b[0m\u001b[1;36m4\u001b[0m:\n",
       "\u001b[2;32m│   \u001b[0m\u001b[1;35mBitFlipChannel\u001b[0m\u001b[1m(\u001b[0m\u001b[33mwires\u001b[0m=\u001b[1m(\u001b[0m\u001b[1;36m0\u001b[0m,\u001b[1m)\u001b[0m, \u001b[33mp\u001b[0m=\u001b[35mweak_f64\u001b[0m\u001b[1m[\u001b[0m\u001b[1m]\u001b[0m\u001b[1m)\u001b[0m\n",
       "\u001b[2;32m  \u001b[0m\u001b[1m}\u001b[0m,\n",
       "\u001b[2;32m  \u001b[0m\u001b[33m_backend\u001b[0m=\u001b[32m'mixed'\u001b[0m\n",
       "\u001b[1m)\u001b[0m\n"
      ]
     },
     "metadata": {},
     "output_type": "display_data"
    }
   ],
   "source": [
    "circuit = Circuit(backend=\"mixed\")\n",
    "\n",
    "#          ____      ___________      ____\n",
    "# |0> --- | H | --- | Rz(\\phi) | --- | H | ----\n",
    "#         ----      -----------      ----\n",
    "\n",
    "circuit.add(DiscreteVariableState(wires=(0,), n=(0,)))\n",
    "circuit.add(HGate(wires=(0,)))\n",
    "circuit.add(RZGate(wires=(0,), phi=0.1 * jnp.pi), \"phase\")\n",
    "circuit.add(HGate(wires=(0,)))\n",
    "circuit.add(BitFlipChannel(wires=(0,), p=0.1))\n",
    "\n",
    "pprint(circuit)"
   ]
  },
  {
   "cell_type": "code",
   "execution_count": 10,
   "metadata": {},
   "outputs": [
    {
     "data": {
      "text/html": [
       "<pre style=\"white-space:pre;overflow-x:auto;line-height:normal;font-family:Menlo,'DejaVu Sans Mono',consolas,'Courier New',monospace\"><span style=\"color: #008000; text-decoration-color: #008000\">'a,b,ac,bd,ce,df,eg,fh,쏜gi,쏜hj-&gt;ij'</span>\n",
       "</pre>\n"
      ],
      "text/plain": [
       "\u001b[32m'a,b,ac,bd,ce,df,eg,fh,쏜gi,쏜hj->ij'\u001b[0m\n"
      ]
     },
     "metadata": {},
     "output_type": "display_data"
    }
   ],
   "source": [
    "pprint(circuit.subscripts)"
   ]
  },
  {
   "cell_type": "code",
   "execution_count": 11,
   "metadata": {},
   "outputs": [
    {
     "data": {
      "text/plain": [
       "Array(0.31415927, dtype=float64, weak_type=True)"
      ]
     },
     "execution_count": 11,
     "metadata": {},
     "output_type": "execute_result"
    }
   ],
   "source": [
    "circuit.ops[\"phase\"].phi"
   ]
  },
  {
   "cell_type": "code",
   "execution_count": 12,
   "metadata": {},
   "outputs": [
    {
     "data": {
      "text/html": [
       "<pre style=\"white-space:pre;overflow-x:auto;line-height:normal;font-family:Menlo,'DejaVu Sans Mono',consolas,'Courier New',monospace\"><span style=\"color: #800080; text-decoration-color: #800080; font-weight: bold\">Circuit</span><span style=\"font-weight: bold\">(</span>\n",
       "<span style=\"color: #7fbf7f; text-decoration-color: #7fbf7f\">  </span><span style=\"color: #808000; text-decoration-color: #808000\">dims</span>=<span style=\"color: #800080; text-decoration-color: #800080; font-style: italic\">None</span>,\n",
       "<span style=\"color: #7fbf7f; text-decoration-color: #7fbf7f\">  </span><span style=\"color: #808000; text-decoration-color: #808000\">ops</span>=<span style=\"font-weight: bold\">{</span>\n",
       "<span style=\"color: #7fbf7f; text-decoration-color: #7fbf7f\">│   </span><span style=\"color: #008080; text-decoration-color: #008080; font-weight: bold\">0</span>:\n",
       "<span style=\"color: #7fbf7f; text-decoration-color: #7fbf7f\">│   </span><span style=\"color: #800080; text-decoration-color: #800080; font-weight: bold\">DiscreteVariableState</span><span style=\"font-weight: bold\">(</span><span style=\"color: #808000; text-decoration-color: #808000\">wires</span>=<span style=\"font-weight: bold\">(</span><span style=\"color: #800080; text-decoration-color: #800080; font-style: italic\">None</span>,<span style=\"font-weight: bold\">)</span>, <span style=\"color: #808000; text-decoration-color: #808000\">n</span>=<span style=\"font-weight: bold\">[(</span><span style=\"color: #800080; text-decoration-color: #800080; font-style: italic\">None</span>, <span style=\"font-weight: bold\">(</span><span style=\"color: #800080; text-decoration-color: #800080; font-style: italic\">None</span>,<span style=\"font-weight: bold\">))])</span>,\n",
       "<span style=\"color: #7fbf7f; text-decoration-color: #7fbf7f\">│   </span><span style=\"color: #008080; text-decoration-color: #008080; font-weight: bold\">1</span>:\n",
       "<span style=\"color: #7fbf7f; text-decoration-color: #7fbf7f\">│   </span><span style=\"color: #800080; text-decoration-color: #800080; font-weight: bold\">HGate</span><span style=\"font-weight: bold\">(</span><span style=\"color: #808000; text-decoration-color: #808000\">wires</span>=<span style=\"font-weight: bold\">(</span><span style=\"color: #800080; text-decoration-color: #800080; font-style: italic\">None</span>,<span style=\"font-weight: bold\">))</span>,\n",
       "<span style=\"color: #7fbf7f; text-decoration-color: #7fbf7f\">│   </span><span style=\"color: #008000; text-decoration-color: #008000\">'phase'</span>:\n",
       "<span style=\"color: #7fbf7f; text-decoration-color: #7fbf7f\">│   </span><span style=\"color: #800080; text-decoration-color: #800080; font-weight: bold\">RZGate</span><span style=\"font-weight: bold\">(</span><span style=\"color: #808000; text-decoration-color: #808000\">wires</span>=<span style=\"font-weight: bold\">(</span><span style=\"color: #800080; text-decoration-color: #800080; font-style: italic\">None</span>,<span style=\"font-weight: bold\">)</span>, <span style=\"color: #808000; text-decoration-color: #808000\">phi</span>=<span style=\"color: #800080; text-decoration-color: #800080\">weak_f64</span><span style=\"font-weight: bold\">[])</span>,\n",
       "<span style=\"color: #7fbf7f; text-decoration-color: #7fbf7f\">│   </span><span style=\"color: #008080; text-decoration-color: #008080; font-weight: bold\">3</span>:\n",
       "<span style=\"color: #7fbf7f; text-decoration-color: #7fbf7f\">│   </span><span style=\"color: #800080; text-decoration-color: #800080; font-weight: bold\">HGate</span><span style=\"font-weight: bold\">(</span><span style=\"color: #808000; text-decoration-color: #808000\">wires</span>=<span style=\"font-weight: bold\">(</span><span style=\"color: #800080; text-decoration-color: #800080; font-style: italic\">None</span>,<span style=\"font-weight: bold\">))</span>,\n",
       "<span style=\"color: #7fbf7f; text-decoration-color: #7fbf7f\">│   </span><span style=\"color: #008080; text-decoration-color: #008080; font-weight: bold\">4</span>:\n",
       "<span style=\"color: #7fbf7f; text-decoration-color: #7fbf7f\">│   </span><span style=\"color: #800080; text-decoration-color: #800080; font-weight: bold\">BitFlipChannel</span><span style=\"font-weight: bold\">(</span><span style=\"color: #808000; text-decoration-color: #808000\">wires</span>=<span style=\"font-weight: bold\">(</span><span style=\"color: #800080; text-decoration-color: #800080; font-style: italic\">None</span>,<span style=\"font-weight: bold\">)</span>, <span style=\"color: #808000; text-decoration-color: #808000\">p</span>=<span style=\"color: #800080; text-decoration-color: #800080\">weak_f64</span><span style=\"font-weight: bold\">[])</span>\n",
       "<span style=\"color: #7fbf7f; text-decoration-color: #7fbf7f\">  </span><span style=\"font-weight: bold\">}</span>,\n",
       "<span style=\"color: #7fbf7f; text-decoration-color: #7fbf7f\">  </span><span style=\"color: #808000; text-decoration-color: #808000\">_backend</span>=<span style=\"color: #800080; text-decoration-color: #800080; font-style: italic\">None</span>\n",
       "<span style=\"font-weight: bold\">)</span>\n",
       "</pre>\n"
      ],
      "text/plain": [
       "\u001b[1;35mCircuit\u001b[0m\u001b[1m(\u001b[0m\n",
       "\u001b[2;32m  \u001b[0m\u001b[33mdims\u001b[0m=\u001b[3;35mNone\u001b[0m,\n",
       "\u001b[2;32m  \u001b[0m\u001b[33mops\u001b[0m=\u001b[1m{\u001b[0m\n",
       "\u001b[2;32m│   \u001b[0m\u001b[1;36m0\u001b[0m:\n",
       "\u001b[2;32m│   \u001b[0m\u001b[1;35mDiscreteVariableState\u001b[0m\u001b[1m(\u001b[0m\u001b[33mwires\u001b[0m=\u001b[1m(\u001b[0m\u001b[3;35mNone\u001b[0m,\u001b[1m)\u001b[0m, \u001b[33mn\u001b[0m=\u001b[1m[\u001b[0m\u001b[1m(\u001b[0m\u001b[3;35mNone\u001b[0m, \u001b[1m(\u001b[0m\u001b[3;35mNone\u001b[0m,\u001b[1m)\u001b[0m\u001b[1m)\u001b[0m\u001b[1m]\u001b[0m\u001b[1m)\u001b[0m,\n",
       "\u001b[2;32m│   \u001b[0m\u001b[1;36m1\u001b[0m:\n",
       "\u001b[2;32m│   \u001b[0m\u001b[1;35mHGate\u001b[0m\u001b[1m(\u001b[0m\u001b[33mwires\u001b[0m=\u001b[1m(\u001b[0m\u001b[3;35mNone\u001b[0m,\u001b[1m)\u001b[0m\u001b[1m)\u001b[0m,\n",
       "\u001b[2;32m│   \u001b[0m\u001b[32m'phase'\u001b[0m:\n",
       "\u001b[2;32m│   \u001b[0m\u001b[1;35mRZGate\u001b[0m\u001b[1m(\u001b[0m\u001b[33mwires\u001b[0m=\u001b[1m(\u001b[0m\u001b[3;35mNone\u001b[0m,\u001b[1m)\u001b[0m, \u001b[33mphi\u001b[0m=\u001b[35mweak_f64\u001b[0m\u001b[1m[\u001b[0m\u001b[1m]\u001b[0m\u001b[1m)\u001b[0m,\n",
       "\u001b[2;32m│   \u001b[0m\u001b[1;36m3\u001b[0m:\n",
       "\u001b[2;32m│   \u001b[0m\u001b[1;35mHGate\u001b[0m\u001b[1m(\u001b[0m\u001b[33mwires\u001b[0m=\u001b[1m(\u001b[0m\u001b[3;35mNone\u001b[0m,\u001b[1m)\u001b[0m\u001b[1m)\u001b[0m,\n",
       "\u001b[2;32m│   \u001b[0m\u001b[1;36m4\u001b[0m:\n",
       "\u001b[2;32m│   \u001b[0m\u001b[1;35mBitFlipChannel\u001b[0m\u001b[1m(\u001b[0m\u001b[33mwires\u001b[0m=\u001b[1m(\u001b[0m\u001b[3;35mNone\u001b[0m,\u001b[1m)\u001b[0m, \u001b[33mp\u001b[0m=\u001b[35mweak_f64\u001b[0m\u001b[1m[\u001b[0m\u001b[1m]\u001b[0m\u001b[1m)\u001b[0m\n",
       "\u001b[2;32m  \u001b[0m\u001b[1m}\u001b[0m,\n",
       "\u001b[2;32m  \u001b[0m\u001b[33m_backend\u001b[0m=\u001b[3;35mNone\u001b[0m\n",
       "\u001b[1m)\u001b[0m\n"
      ]
     },
     "metadata": {},
     "output_type": "display_data"
    },
    {
     "data": {
      "text/html": [
       "<pre style=\"white-space:pre;overflow-x:auto;line-height:normal;font-family:Menlo,'DejaVu Sans Mono',consolas,'Courier New',monospace\"><span style=\"color: #800080; text-decoration-color: #800080; font-weight: bold\">Circuit</span><span style=\"font-weight: bold\">(</span>\n",
       "<span style=\"color: #7fbf7f; text-decoration-color: #7fbf7f\">  </span><span style=\"color: #808000; text-decoration-color: #808000\">dims</span>=<span style=\"color: #800080; text-decoration-color: #800080; font-style: italic\">None</span>,\n",
       "<span style=\"color: #7fbf7f; text-decoration-color: #7fbf7f\">  </span><span style=\"color: #808000; text-decoration-color: #808000\">ops</span>=<span style=\"font-weight: bold\">{</span>\n",
       "<span style=\"color: #7fbf7f; text-decoration-color: #7fbf7f\">│   </span><span style=\"color: #008080; text-decoration-color: #008080; font-weight: bold\">0</span>:\n",
       "<span style=\"color: #7fbf7f; text-decoration-color: #7fbf7f\">│   </span><span style=\"color: #800080; text-decoration-color: #800080; font-weight: bold\">DiscreteVariableState</span><span style=\"font-weight: bold\">(</span><span style=\"color: #808000; text-decoration-color: #808000\">wires</span>=<span style=\"font-weight: bold\">(</span><span style=\"color: #008080; text-decoration-color: #008080; font-weight: bold\">0</span>,<span style=\"font-weight: bold\">)</span>, <span style=\"color: #808000; text-decoration-color: #808000\">n</span>=<span style=\"font-weight: bold\">[(</span><span style=\"color: #008080; text-decoration-color: #008080; font-weight: bold\">1.0</span>, <span style=\"font-weight: bold\">(</span><span style=\"color: #008080; text-decoration-color: #008080; font-weight: bold\">0</span>,<span style=\"font-weight: bold\">))])</span>,\n",
       "<span style=\"color: #7fbf7f; text-decoration-color: #7fbf7f\">│   </span><span style=\"color: #008080; text-decoration-color: #008080; font-weight: bold\">1</span>:\n",
       "<span style=\"color: #7fbf7f; text-decoration-color: #7fbf7f\">│   </span><span style=\"color: #800080; text-decoration-color: #800080; font-weight: bold\">HGate</span><span style=\"font-weight: bold\">(</span><span style=\"color: #808000; text-decoration-color: #808000\">wires</span>=<span style=\"font-weight: bold\">(</span><span style=\"color: #008080; text-decoration-color: #008080; font-weight: bold\">0</span>,<span style=\"font-weight: bold\">))</span>,\n",
       "<span style=\"color: #7fbf7f; text-decoration-color: #7fbf7f\">│   </span><span style=\"color: #008000; text-decoration-color: #008000\">'phase'</span>:\n",
       "<span style=\"color: #7fbf7f; text-decoration-color: #7fbf7f\">│   </span><span style=\"color: #800080; text-decoration-color: #800080; font-weight: bold\">RZGate</span><span style=\"font-weight: bold\">(</span><span style=\"color: #808000; text-decoration-color: #808000\">wires</span>=<span style=\"font-weight: bold\">(</span><span style=\"color: #008080; text-decoration-color: #008080; font-weight: bold\">0</span>,<span style=\"font-weight: bold\">)</span>, <span style=\"color: #808000; text-decoration-color: #808000\">phi</span>=<span style=\"color: #800080; text-decoration-color: #800080; font-style: italic\">None</span><span style=\"font-weight: bold\">)</span>,\n",
       "<span style=\"color: #7fbf7f; text-decoration-color: #7fbf7f\">│   </span><span style=\"color: #008080; text-decoration-color: #008080; font-weight: bold\">3</span>:\n",
       "<span style=\"color: #7fbf7f; text-decoration-color: #7fbf7f\">│   </span><span style=\"color: #800080; text-decoration-color: #800080; font-weight: bold\">HGate</span><span style=\"font-weight: bold\">(</span><span style=\"color: #808000; text-decoration-color: #808000\">wires</span>=<span style=\"font-weight: bold\">(</span><span style=\"color: #008080; text-decoration-color: #008080; font-weight: bold\">0</span>,<span style=\"font-weight: bold\">))</span>,\n",
       "<span style=\"color: #7fbf7f; text-decoration-color: #7fbf7f\">│   </span><span style=\"color: #008080; text-decoration-color: #008080; font-weight: bold\">4</span>:\n",
       "<span style=\"color: #7fbf7f; text-decoration-color: #7fbf7f\">│   </span><span style=\"color: #800080; text-decoration-color: #800080; font-weight: bold\">BitFlipChannel</span><span style=\"font-weight: bold\">(</span><span style=\"color: #808000; text-decoration-color: #808000\">wires</span>=<span style=\"font-weight: bold\">(</span><span style=\"color: #008080; text-decoration-color: #008080; font-weight: bold\">0</span>,<span style=\"font-weight: bold\">)</span>, <span style=\"color: #808000; text-decoration-color: #808000\">p</span>=<span style=\"color: #800080; text-decoration-color: #800080; font-style: italic\">None</span><span style=\"font-weight: bold\">)</span>\n",
       "<span style=\"color: #7fbf7f; text-decoration-color: #7fbf7f\">  </span><span style=\"font-weight: bold\">}</span>,\n",
       "<span style=\"color: #7fbf7f; text-decoration-color: #7fbf7f\">  </span><span style=\"color: #808000; text-decoration-color: #808000\">_backend</span>=<span style=\"color: #008000; text-decoration-color: #008000\">'mixed'</span>\n",
       "<span style=\"font-weight: bold\">)</span>\n",
       "</pre>\n"
      ],
      "text/plain": [
       "\u001b[1;35mCircuit\u001b[0m\u001b[1m(\u001b[0m\n",
       "\u001b[2;32m  \u001b[0m\u001b[33mdims\u001b[0m=\u001b[3;35mNone\u001b[0m,\n",
       "\u001b[2;32m  \u001b[0m\u001b[33mops\u001b[0m=\u001b[1m{\u001b[0m\n",
       "\u001b[2;32m│   \u001b[0m\u001b[1;36m0\u001b[0m:\n",
       "\u001b[2;32m│   \u001b[0m\u001b[1;35mDiscreteVariableState\u001b[0m\u001b[1m(\u001b[0m\u001b[33mwires\u001b[0m=\u001b[1m(\u001b[0m\u001b[1;36m0\u001b[0m,\u001b[1m)\u001b[0m, \u001b[33mn\u001b[0m=\u001b[1m[\u001b[0m\u001b[1m(\u001b[0m\u001b[1;36m1.0\u001b[0m, \u001b[1m(\u001b[0m\u001b[1;36m0\u001b[0m,\u001b[1m)\u001b[0m\u001b[1m)\u001b[0m\u001b[1m]\u001b[0m\u001b[1m)\u001b[0m,\n",
       "\u001b[2;32m│   \u001b[0m\u001b[1;36m1\u001b[0m:\n",
       "\u001b[2;32m│   \u001b[0m\u001b[1;35mHGate\u001b[0m\u001b[1m(\u001b[0m\u001b[33mwires\u001b[0m=\u001b[1m(\u001b[0m\u001b[1;36m0\u001b[0m,\u001b[1m)\u001b[0m\u001b[1m)\u001b[0m,\n",
       "\u001b[2;32m│   \u001b[0m\u001b[32m'phase'\u001b[0m:\n",
       "\u001b[2;32m│   \u001b[0m\u001b[1;35mRZGate\u001b[0m\u001b[1m(\u001b[0m\u001b[33mwires\u001b[0m=\u001b[1m(\u001b[0m\u001b[1;36m0\u001b[0m,\u001b[1m)\u001b[0m, \u001b[33mphi\u001b[0m=\u001b[3;35mNone\u001b[0m\u001b[1m)\u001b[0m,\n",
       "\u001b[2;32m│   \u001b[0m\u001b[1;36m3\u001b[0m:\n",
       "\u001b[2;32m│   \u001b[0m\u001b[1;35mHGate\u001b[0m\u001b[1m(\u001b[0m\u001b[33mwires\u001b[0m=\u001b[1m(\u001b[0m\u001b[1;36m0\u001b[0m,\u001b[1m)\u001b[0m\u001b[1m)\u001b[0m,\n",
       "\u001b[2;32m│   \u001b[0m\u001b[1;36m4\u001b[0m:\n",
       "\u001b[2;32m│   \u001b[0m\u001b[1;35mBitFlipChannel\u001b[0m\u001b[1m(\u001b[0m\u001b[33mwires\u001b[0m=\u001b[1m(\u001b[0m\u001b[1;36m0\u001b[0m,\u001b[1m)\u001b[0m, \u001b[33mp\u001b[0m=\u001b[3;35mNone\u001b[0m\u001b[1m)\u001b[0m\n",
       "\u001b[2;32m  \u001b[0m\u001b[1m}\u001b[0m,\n",
       "\u001b[2;32m  \u001b[0m\u001b[33m_backend\u001b[0m=\u001b[32m'mixed'\u001b[0m\n",
       "\u001b[1m)\u001b[0m\n"
      ]
     },
     "metadata": {},
     "output_type": "display_data"
    }
   ],
   "source": [
    "params, static = eqx.partition(circuit, eqx.is_inexact_array)\n",
    "\n",
    "pprint(params)\n",
    "pprint(static)"
   ]
  },
  {
   "cell_type": "code",
   "execution_count": 13,
   "metadata": {},
   "outputs": [],
   "source": [
    "sim = circuit.compile(params, static, dim=2, optimize=\"greedy\")"
   ]
  },
  {
   "cell_type": "code",
   "execution_count": null,
   "metadata": {},
   "outputs": [
    {
     "name": "stdout",
     "output_type": "stream",
     "text": [
      "(2, 2), complex64\n",
      "(2,), float32\n"
     ]
    }
   ],
   "source": [
    "ket = sim.amplitudes.forward(params)\n",
    "dket = sim.amplitudes.grad(params)\n",
    "prob = sim.probabilities.forward(params)\n",
    "dprob = sim.probabilities.grad(params)\n",
    "\n",
    "print(f\"{ket.shape}, {ket.dtype}\")\n",
    "print(f\"{prob.shape}, {prob.dtype}\")"
   ]
  },
  {
   "cell_type": "code",
   "execution_count": null,
   "metadata": {},
   "outputs": [
    {
     "ename": "ValueError",
     "evalue": "vmap was requested to map its argument along axis 0, which implies that its rank should be at least 1, but is only 0 (its shape is ())",
     "output_type": "error",
     "traceback": [
      "\u001b[0;31m---------------------------------------------------------------------------\u001b[0m",
      "\u001b[0;31mIndexError\u001b[0m                                Traceback (most recent call last)",
      "File \u001b[0;32m~/Desktop/1 - Projects/Quantum Intelligence Lab/repos/squint/.venv/lib/python3.12/site-packages/jax/_src/api.py:1021\u001b[0m, in \u001b[0;36m_mapped_axis_size.<locals>._get_axis_size\u001b[0;34m(name, shape, axis)\u001b[0m\n\u001b[1;32m   1020\u001b[0m \u001b[38;5;28;01mtry\u001b[39;00m:\n\u001b[0;32m-> 1021\u001b[0m   \u001b[38;5;28;01mreturn\u001b[39;00m \u001b[43mshape\u001b[49m\u001b[43m[\u001b[49m\u001b[43maxis\u001b[49m\u001b[43m]\u001b[49m\n\u001b[1;32m   1022\u001b[0m \u001b[38;5;28;01mexcept\u001b[39;00m (\u001b[38;5;167;01mIndexError\u001b[39;00m, \u001b[38;5;167;01mTypeError\u001b[39;00m) \u001b[38;5;28;01mas\u001b[39;00m e:\n",
      "\u001b[0;31mIndexError\u001b[0m: tuple index out of range",
      "\nThe above exception was the direct cause of the following exception:\n",
      "\u001b[0;31mValueError\u001b[0m                                Traceback (most recent call last)",
      "Cell \u001b[0;32mIn[15], line 10\u001b[0m\n\u001b[1;32m      5\u001b[0m phis \u001b[38;5;241m=\u001b[39m jnp\u001b[38;5;241m.\u001b[39mlinspace(\u001b[38;5;241m-\u001b[39mjnp\u001b[38;5;241m.\u001b[39mpi, jnp\u001b[38;5;241m.\u001b[39mpi, \u001b[38;5;241m100\u001b[39m)\n\u001b[1;32m      6\u001b[0m params \u001b[38;5;241m=\u001b[39m eqx\u001b[38;5;241m.\u001b[39mtree_at(\n\u001b[1;32m      7\u001b[0m     \u001b[38;5;28;01mlambda\u001b[39;00m pytree: pytree\u001b[38;5;241m.\u001b[39mops[\u001b[38;5;124m\"\u001b[39m\u001b[38;5;124mphase\u001b[39m\u001b[38;5;124m\"\u001b[39m]\u001b[38;5;241m.\u001b[39mphi, params, jnp\u001b[38;5;241m.\u001b[39mexpand_dims(phis, axis\u001b[38;5;241m=\u001b[39m\u001b[38;5;241m1\u001b[39m)\n\u001b[1;32m      8\u001b[0m )\n\u001b[0;32m---> 10\u001b[0m probs \u001b[38;5;241m=\u001b[39m \u001b[43meqx\u001b[49m\u001b[38;5;241;43m.\u001b[39;49m\u001b[43mfilter_vmap\u001b[49m\u001b[43m(\u001b[49m\u001b[43msim\u001b[49m\u001b[38;5;241;43m.\u001b[39;49m\u001b[43mprob\u001b[49m\u001b[38;5;241;43m.\u001b[39;49m\u001b[43mforward\u001b[49m\u001b[43m)\u001b[49m\u001b[43m(\u001b[49m\u001b[43mparams\u001b[49m\u001b[43m)\u001b[49m\n\u001b[1;32m     11\u001b[0m cfims \u001b[38;5;241m=\u001b[39m eqx\u001b[38;5;241m.\u001b[39mfilter_vmap(sim\u001b[38;5;241m.\u001b[39mprob\u001b[38;5;241m.\u001b[39mcfim, in_axes\u001b[38;5;241m=\u001b[39m(\u001b[38;5;28;01mNone\u001b[39;00m, \u001b[38;5;241m0\u001b[39m))(get, params)\n\u001b[1;32m     12\u001b[0m qfims \u001b[38;5;241m=\u001b[39m eqx\u001b[38;5;241m.\u001b[39mfilter_vmap(sim\u001b[38;5;241m.\u001b[39mamplitudes\u001b[38;5;241m.\u001b[39mqfim, in_axes\u001b[38;5;241m=\u001b[39m(\u001b[38;5;28;01mNone\u001b[39;00m, \u001b[38;5;241m0\u001b[39m))(get, params)\n",
      "File \u001b[0;32m~/Desktop/1 - Projects/Quantum Intelligence Lab/repos/squint/.venv/lib/python3.12/site-packages/equinox/_vmap_pmap.py:169\u001b[0m, in \u001b[0;36m_VmapWrapper.__call__\u001b[0;34m(***failed resolving arguments***)\u001b[0m\n\u001b[1;32m    164\u001b[0m         \u001b[38;5;28;01mraise\u001b[39;00m \u001b[38;5;167;01mValueError\u001b[39;00m(\n\u001b[1;32m    165\u001b[0m             \u001b[38;5;124m\"\u001b[39m\u001b[38;5;124mCannot resolve batch dimension. Non-`None` `out_axes` requires \u001b[39m\u001b[38;5;124m\"\u001b[39m\n\u001b[1;32m    166\u001b[0m             \u001b[38;5;124m\"\u001b[39m\u001b[38;5;124meither `in_axes` or `axis_size` to be not `None`.\u001b[39m\u001b[38;5;124m\"\u001b[39m\n\u001b[1;32m    167\u001b[0m         )\n\u001b[1;32m    168\u001b[0m \u001b[38;5;28;01melse\u001b[39;00m:\n\u001b[0;32m--> 169\u001b[0m     vmapd, nonvmapd_arr, static \u001b[38;5;241m=\u001b[39m \u001b[43mjax\u001b[49m\u001b[38;5;241;43m.\u001b[39;49m\u001b[43mvmap\u001b[49m\u001b[43m(\u001b[49m\n\u001b[1;32m    170\u001b[0m \u001b[43m        \u001b[49m\u001b[43m_fun_wrapper\u001b[49m\u001b[43m,\u001b[49m\n\u001b[1;32m    171\u001b[0m \u001b[43m        \u001b[49m\u001b[43min_axes\u001b[49m\u001b[38;5;241;43m=\u001b[39;49m\u001b[43m(\u001b[49m\u001b[43min_axes\u001b[49m\u001b[43m,\u001b[49m\u001b[43m)\u001b[49m\u001b[43m,\u001b[49m\n\u001b[1;32m    172\u001b[0m \u001b[43m        \u001b[49m\u001b[43mout_axes\u001b[49m\u001b[38;5;241;43m=\u001b[39;49m\u001b[43m(\u001b[49m\u001b[38;5;241;43m0\u001b[39;49m\u001b[43m,\u001b[49m\u001b[43m \u001b[49m\u001b[38;5;28;43;01mNone\u001b[39;49;00m\u001b[43m,\u001b[49m\u001b[43m \u001b[49m\u001b[38;5;28;43;01mNone\u001b[39;49;00m\u001b[43m)\u001b[49m\u001b[43m,\u001b[49m\n\u001b[1;32m    173\u001b[0m \u001b[43m        \u001b[49m\u001b[43maxis_name\u001b[49m\u001b[38;5;241;43m=\u001b[39;49m\u001b[38;5;28;43mself\u001b[39;49m\u001b[38;5;241;43m.\u001b[39;49m\u001b[43m_axis_name\u001b[49m\u001b[43m,\u001b[49m\n\u001b[1;32m    174\u001b[0m \u001b[43m        \u001b[49m\u001b[43maxis_size\u001b[49m\u001b[38;5;241;43m=\u001b[39;49m\u001b[38;5;28;43mself\u001b[39;49m\u001b[38;5;241;43m.\u001b[39;49m\u001b[43m_axis_size\u001b[49m\u001b[43m,\u001b[49m\n\u001b[1;32m    175\u001b[0m \u001b[43m        \u001b[49m\u001b[38;5;241;43m*\u001b[39;49m\u001b[38;5;241;43m*\u001b[39;49m\u001b[38;5;28;43mself\u001b[39;49m\u001b[38;5;241;43m.\u001b[39;49m\u001b[43m_vmapkwargs\u001b[49m\u001b[43m,\u001b[49m\n\u001b[1;32m    176\u001b[0m \u001b[43m    \u001b[49m\u001b[43m)\u001b[49m\u001b[43m(\u001b[49m\u001b[43mdynamic_args\u001b[49m\u001b[43m)\u001b[49m\n\u001b[1;32m    178\u001b[0m nonvmapd_static, out_axes \u001b[38;5;241m=\u001b[39m static\u001b[38;5;241m.\u001b[39mvalue\n\u001b[1;32m    179\u001b[0m nonvmapd \u001b[38;5;241m=\u001b[39m combine(nonvmapd_arr, nonvmapd_static)\n",
      "    \u001b[0;31m[... skipping hidden 5 frame]\u001b[0m\n",
      "File \u001b[0;32m~/Desktop/1 - Projects/Quantum Intelligence Lab/repos/squint/.venv/lib/python3.12/site-packages/jax/_src/api.py:1025\u001b[0m, in \u001b[0;36m_mapped_axis_size.<locals>._get_axis_size\u001b[0;34m(name, shape, axis)\u001b[0m\n\u001b[1;32m   1023\u001b[0m min_rank \u001b[38;5;241m=\u001b[39m axis \u001b[38;5;241m+\u001b[39m \u001b[38;5;241m1\u001b[39m \u001b[38;5;28;01mif\u001b[39;00m axis \u001b[38;5;241m>\u001b[39m\u001b[38;5;241m=\u001b[39m \u001b[38;5;241m0\u001b[39m \u001b[38;5;28;01melse\u001b[39;00m \u001b[38;5;241m-\u001b[39maxis\n\u001b[1;32m   1024\u001b[0m \u001b[38;5;66;03m# TODO(mattjj): better error message here\u001b[39;00m\n\u001b[0;32m-> 1025\u001b[0m \u001b[38;5;28;01mraise\u001b[39;00m \u001b[38;5;167;01mValueError\u001b[39;00m(\n\u001b[1;32m   1026\u001b[0m     \u001b[38;5;124mf\u001b[39m\u001b[38;5;124m\"\u001b[39m\u001b[38;5;132;01m{\u001b[39;00mname\u001b[38;5;132;01m}\u001b[39;00m\u001b[38;5;124m was requested to map its argument along axis \u001b[39m\u001b[38;5;132;01m{\u001b[39;00maxis\u001b[38;5;132;01m}\u001b[39;00m\u001b[38;5;124m, \u001b[39m\u001b[38;5;124m\"\u001b[39m\n\u001b[1;32m   1027\u001b[0m     \u001b[38;5;124mf\u001b[39m\u001b[38;5;124m\"\u001b[39m\u001b[38;5;124mwhich implies that its rank should be at least \u001b[39m\u001b[38;5;132;01m{\u001b[39;00mmin_rank\u001b[38;5;132;01m}\u001b[39;00m\u001b[38;5;124m, \u001b[39m\u001b[38;5;124m\"\u001b[39m\n\u001b[1;32m   1028\u001b[0m     \u001b[38;5;124mf\u001b[39m\u001b[38;5;124m\"\u001b[39m\u001b[38;5;124mbut is only \u001b[39m\u001b[38;5;132;01m{\u001b[39;00m\u001b[38;5;28mlen\u001b[39m(shape)\u001b[38;5;132;01m}\u001b[39;00m\u001b[38;5;124m (its shape is \u001b[39m\u001b[38;5;132;01m{\u001b[39;00mshape\u001b[38;5;132;01m}\u001b[39;00m\u001b[38;5;124m)\u001b[39m\u001b[38;5;124m\"\u001b[39m) \u001b[38;5;28;01mfrom\u001b[39;00m\u001b[38;5;250m \u001b[39m\u001b[38;5;21;01me\u001b[39;00m\n",
      "\u001b[0;31mValueError\u001b[0m: vmap was requested to map its argument along axis 0, which implies that its rank should be at least 1, but is only 0 (its shape is ())"
     ]
    }
   ],
   "source": [
    "sim = circuit.compile(params, static, dim=2, optimize=\"greedy\")\n",
    "\n",
    "get = lambda pytree: jnp.array([pytree.ops[\"phase\"].phi])\n",
    "\n",
    "phis = jnp.linspace(-jnp.pi, jnp.pi, 100)\n",
    "params = eqx.tree_at(\n",
    "    lambda pytree: pytree.ops[\"phase\"].phi, params, jnp.expand_dims(phis, axis=1)\n",
    ")\n",
    "\n",
    "probs = eqx.filter_vmap(sim.probabilities.forward)(params)\n",
    "cfims = eqx.filter_vmap(sim.probabilities.cfim, in_axes=(None, 0))(get, params)\n",
    "qfims = eqx.filter_vmap(sim.amplitudes.qfim, in_axes=(None, 0))(get, params)\n",
    "\n",
    "colors = sns.color_palette(\"crest\", n_colors=jnp.prod(jnp.array(probs.shape[1:])))\n",
    "fig, ax = plt.subplots()\n",
    "for i, idx in enumerate(\n",
    "    itertools.product(*[list(range(ell)) for ell in probs.shape[1:]])\n",
    "):\n",
    "    ax.plot(phis, probs[:, *idx], label=f\"{idx}\", color=colors[i])\n",
    "ax.legend()\n",
    "ax.set(xlabel=r\"Phase, $\\varphi$\", ylabel=r\"Probability, $p(\\mathbf{x} | \\varphi)$\")\n",
    "\n",
    "\n",
    "fig, ax = plt.subplots()\n",
    "ax.plot(phis, qfims.squeeze(), color=colors[i])\n",
    "ax.set(\n",
    "    xlabel=r\"Phase, $\\varphi$\",\n",
    "    ylabel=r\"$\\mathcal{I}_\\varphi^Q$\",\n",
    "    ylim=[0, 1.05 * jnp.max(qfims)],\n",
    ")\n",
    "\n",
    "fig, ax = plt.subplots()\n",
    "ax.plot(phis, cfims.squeeze(), color=colors[i])\n",
    "ax.set(\n",
    "    xlabel=r\"Phase, $\\varphi$\",\n",
    "    ylabel=r\"$\\mathcal{I}_\\varphi^C$\",\n",
    "    ylim=[0, 1.05 * jnp.max(cfims)],\n",
    ")"
   ]
  },
  {
   "cell_type": "code",
   "execution_count": null,
   "metadata": {},
   "outputs": [],
   "source": []
  }
 ],
 "metadata": {
  "kernelspec": {
   "display_name": ".venv",
   "language": "python",
   "name": "python3"
  },
  "language_info": {
   "codemirror_mode": {
    "name": "ipython",
    "version": 3
   },
   "file_extension": ".py",
   "mimetype": "text/x-python",
   "name": "python",
   "nbconvert_exporter": "python",
   "pygments_lexer": "ipython3",
   "version": "3.12.1"
  }
 },
 "nbformat": 4,
 "nbformat_minor": 2
}
