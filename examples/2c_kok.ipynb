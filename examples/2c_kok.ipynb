{
 "cells": [
  {
   "cell_type": "markdown",
   "metadata": {},
   "source": [
    "# Fock space: \n",
    "## Kok quantum-enhanced telescope example\n",
    "\n",
    "Implements the original GJC scheme to compute & reproduce the classical Fisher information of this. \n",
    "Here, a phase shift is encoded into a photon in the superposition of being collected by the left and right telescopes. \n",
    "An ancilla photon is distributed in a quantum network between the telescopes, and enables a quantum interference measurement between the two photon arriving the telescope modes.\n",
    "\n",
    "<!-- ![10.1103/PhysRevLett.109.070503](assets/gjc_schematic.png) -->\n",
    "<img src=\"assets/gjc_schematic.png\" width=400 />\n",
    "Source: 10.1103/PhysRevLett.109.070503"
   ]
  },
  {
   "cell_type": "code",
   "execution_count": 1,
   "metadata": {},
   "outputs": [],
   "source": [
    "import functools\n",
    "\n",
    "import equinox as eqx\n",
    "import jax\n",
    "import jax.numpy as jnp\n",
    "import matplotlib.pyplot as plt\n",
    "import optax\n",
    "import polars as pl\n",
    "import tqdm\n",
    "from rich.pretty import pprint\n",
    "\n",
    "from squint.circuit import Circuit\n",
    "from squint.ops.fock import LOPC, FockState, Phase\n",
    "from squint.utils import print_nonzero_entries\n",
    "\n",
    "jax.config.update(\"jax_enable_x64\", True)"
   ]
  },
  {
   "cell_type": "code",
   "execution_count": 2,
   "metadata": {},
   "outputs": [
    {
     "data": {
      "text/html": [
       "<pre style=\"white-space:pre;overflow-x:auto;line-height:normal;font-family:Menlo,'DejaVu Sans Mono',consolas,'Courier New',monospace\"><span style=\"color: #800080; text-decoration-color: #800080; font-weight: bold\">Circuit</span><span style=\"font-weight: bold\">(</span>\n",
       "<span style=\"color: #7fbf7f; text-decoration-color: #7fbf7f\">  </span><span style=\"color: #808000; text-decoration-color: #808000\">ops</span>=<span style=\"font-weight: bold\">{</span>\n",
       "<span style=\"color: #7fbf7f; text-decoration-color: #7fbf7f\">│   </span><span style=\"color: #008080; text-decoration-color: #008080; font-weight: bold\">0</span>:\n",
       "<span style=\"color: #7fbf7f; text-decoration-color: #7fbf7f\">│   </span><span style=\"color: #800080; text-decoration-color: #800080; font-weight: bold\">FockState</span><span style=\"font-weight: bold\">(</span>\n",
       "<span style=\"color: #7fbf7f; text-decoration-color: #7fbf7f\">│     </span><span style=\"color: #808000; text-decoration-color: #808000\">wires</span>=<span style=\"font-weight: bold\">(</span><span style=\"color: #800080; text-decoration-color: #800080; font-style: italic\">None</span>, <span style=\"color: #800080; text-decoration-color: #800080; font-style: italic\">None</span><span style=\"font-weight: bold\">)</span>,\n",
       "<span style=\"color: #7fbf7f; text-decoration-color: #7fbf7f\">│     </span><span style=\"color: #808000; text-decoration-color: #808000\">n</span>=<span style=\"font-weight: bold\">[(</span><span style=\"color: #800080; text-decoration-color: #800080; font-style: italic\">None</span>, <span style=\"font-weight: bold\">(</span><span style=\"color: #800080; text-decoration-color: #800080; font-style: italic\">None</span>, <span style=\"color: #800080; text-decoration-color: #800080; font-style: italic\">None</span><span style=\"font-weight: bold\">))</span>, <span style=\"font-weight: bold\">(</span><span style=\"color: #800080; text-decoration-color: #800080; font-style: italic\">None</span>, <span style=\"font-weight: bold\">(</span><span style=\"color: #800080; text-decoration-color: #800080; font-style: italic\">None</span>, <span style=\"color: #800080; text-decoration-color: #800080; font-style: italic\">None</span><span style=\"font-weight: bold\">))]</span>\n",
       "<span style=\"color: #7fbf7f; text-decoration-color: #7fbf7f\">│   </span><span style=\"font-weight: bold\">)</span>,\n",
       "<span style=\"color: #7fbf7f; text-decoration-color: #7fbf7f\">│   </span><span style=\"color: #008080; text-decoration-color: #008080; font-weight: bold\">1</span>:\n",
       "<span style=\"color: #7fbf7f; text-decoration-color: #7fbf7f\">│   </span><span style=\"color: #800080; text-decoration-color: #800080; font-weight: bold\">FockState</span><span style=\"font-weight: bold\">(</span>\n",
       "<span style=\"color: #7fbf7f; text-decoration-color: #7fbf7f\">│     </span><span style=\"color: #808000; text-decoration-color: #808000\">wires</span>=<span style=\"font-weight: bold\">(</span><span style=\"color: #800080; text-decoration-color: #800080; font-style: italic\">None</span>, <span style=\"color: #800080; text-decoration-color: #800080; font-style: italic\">None</span><span style=\"font-weight: bold\">)</span>,\n",
       "<span style=\"color: #7fbf7f; text-decoration-color: #7fbf7f\">│     </span><span style=\"color: #808000; text-decoration-color: #808000\">n</span>=<span style=\"font-weight: bold\">[(</span><span style=\"color: #800080; text-decoration-color: #800080; font-style: italic\">None</span>, <span style=\"font-weight: bold\">(</span><span style=\"color: #800080; text-decoration-color: #800080; font-style: italic\">None</span>, <span style=\"color: #800080; text-decoration-color: #800080; font-style: italic\">None</span><span style=\"font-weight: bold\">))</span>, <span style=\"font-weight: bold\">(</span><span style=\"color: #800080; text-decoration-color: #800080; font-style: italic\">None</span>, <span style=\"font-weight: bold\">(</span><span style=\"color: #800080; text-decoration-color: #800080; font-style: italic\">None</span>, <span style=\"color: #800080; text-decoration-color: #800080; font-style: italic\">None</span><span style=\"font-weight: bold\">))]</span>\n",
       "<span style=\"color: #7fbf7f; text-decoration-color: #7fbf7f\">│   </span><span style=\"font-weight: bold\">)</span>,\n",
       "<span style=\"color: #7fbf7f; text-decoration-color: #7fbf7f\">│   </span><span style=\"color: #008080; text-decoration-color: #008080; font-weight: bold\">2</span>:\n",
       "<span style=\"color: #7fbf7f; text-decoration-color: #7fbf7f\">│   </span><span style=\"color: #800080; text-decoration-color: #800080; font-weight: bold\">FockState</span><span style=\"font-weight: bold\">(</span>\n",
       "<span style=\"color: #7fbf7f; text-decoration-color: #7fbf7f\">│     </span><span style=\"color: #808000; text-decoration-color: #808000\">wires</span>=<span style=\"font-weight: bold\">(</span><span style=\"color: #800080; text-decoration-color: #800080; font-style: italic\">None</span>, <span style=\"color: #800080; text-decoration-color: #800080; font-style: italic\">None</span><span style=\"font-weight: bold\">)</span>,\n",
       "<span style=\"color: #7fbf7f; text-decoration-color: #7fbf7f\">│     </span><span style=\"color: #808000; text-decoration-color: #808000\">n</span>=<span style=\"font-weight: bold\">[(</span><span style=\"color: #800080; text-decoration-color: #800080; font-style: italic\">None</span>, <span style=\"font-weight: bold\">(</span><span style=\"color: #800080; text-decoration-color: #800080; font-style: italic\">None</span>, <span style=\"color: #800080; text-decoration-color: #800080; font-style: italic\">None</span><span style=\"font-weight: bold\">))</span>, <span style=\"font-weight: bold\">(</span><span style=\"color: #800080; text-decoration-color: #800080; font-style: italic\">None</span>, <span style=\"font-weight: bold\">(</span><span style=\"color: #800080; text-decoration-color: #800080; font-style: italic\">None</span>, <span style=\"color: #800080; text-decoration-color: #800080; font-style: italic\">None</span><span style=\"font-weight: bold\">))]</span>\n",
       "<span style=\"color: #7fbf7f; text-decoration-color: #7fbf7f\">│   </span><span style=\"font-weight: bold\">)</span>,\n",
       "<span style=\"color: #7fbf7f; text-decoration-color: #7fbf7f\">│   </span><span style=\"color: #008000; text-decoration-color: #008000\">'phase'</span>:\n",
       "<span style=\"color: #7fbf7f; text-decoration-color: #7fbf7f\">│   </span><span style=\"color: #800080; text-decoration-color: #800080; font-weight: bold\">Phase</span><span style=\"font-weight: bold\">(</span><span style=\"color: #808000; text-decoration-color: #808000\">wires</span>=<span style=\"font-weight: bold\">(</span><span style=\"color: #800080; text-decoration-color: #800080; font-style: italic\">None</span>,<span style=\"font-weight: bold\">)</span>, <span style=\"color: #808000; text-decoration-color: #808000\">phi</span>=<span style=\"color: #800080; text-decoration-color: #800080\">weak_f64</span><span style=\"font-weight: bold\">[])</span>,\n",
       "<span style=\"color: #7fbf7f; text-decoration-color: #7fbf7f\">│   </span><span style=\"color: #008080; text-decoration-color: #008080; font-weight: bold\">4</span>:\n",
       "<span style=\"color: #7fbf7f; text-decoration-color: #7fbf7f\">│   </span><span style=\"color: #800080; text-decoration-color: #800080; font-weight: bold\">LOPC</span><span style=\"font-weight: bold\">(</span><span style=\"color: #808000; text-decoration-color: #808000\">wires</span>=<span style=\"font-weight: bold\">(</span><span style=\"color: #800080; text-decoration-color: #800080; font-style: italic\">None</span>, <span style=\"color: #800080; text-decoration-color: #800080; font-style: italic\">None</span>, <span style=\"color: #800080; text-decoration-color: #800080; font-style: italic\">None</span><span style=\"font-weight: bold\">)</span>, <span style=\"color: #808000; text-decoration-color: #808000\">rs</span>=<span style=\"color: #800080; text-decoration-color: #800080\">f64</span><span style=\"font-weight: bold\">[</span><span style=\"color: #008080; text-decoration-color: #008080; font-weight: bold\">3</span><span style=\"font-weight: bold\">])</span>,\n",
       "<span style=\"color: #7fbf7f; text-decoration-color: #7fbf7f\">│   </span><span style=\"color: #008080; text-decoration-color: #008080; font-weight: bold\">5</span>:\n",
       "<span style=\"color: #7fbf7f; text-decoration-color: #7fbf7f\">│   </span><span style=\"color: #800080; text-decoration-color: #800080; font-weight: bold\">LOPC</span><span style=\"font-weight: bold\">(</span><span style=\"color: #808000; text-decoration-color: #808000\">wires</span>=<span style=\"font-weight: bold\">(</span><span style=\"color: #800080; text-decoration-color: #800080; font-style: italic\">None</span>, <span style=\"color: #800080; text-decoration-color: #800080; font-style: italic\">None</span>, <span style=\"color: #800080; text-decoration-color: #800080; font-style: italic\">None</span><span style=\"font-weight: bold\">)</span>, <span style=\"color: #808000; text-decoration-color: #808000\">rs</span>=<span style=\"color: #800080; text-decoration-color: #800080\">f64</span><span style=\"font-weight: bold\">[</span><span style=\"color: #008080; text-decoration-color: #008080; font-weight: bold\">3</span><span style=\"font-weight: bold\">])</span>\n",
       "<span style=\"color: #7fbf7f; text-decoration-color: #7fbf7f\">  </span><span style=\"font-weight: bold\">}</span>\n",
       "<span style=\"font-weight: bold\">)</span>\n",
       "</pre>\n"
      ],
      "text/plain": [
       "\u001b[1;35mCircuit\u001b[0m\u001b[1m(\u001b[0m\n",
       "\u001b[2;32m  \u001b[0m\u001b[33mops\u001b[0m=\u001b[1m{\u001b[0m\n",
       "\u001b[2;32m│   \u001b[0m\u001b[1;36m0\u001b[0m:\n",
       "\u001b[2;32m│   \u001b[0m\u001b[1;35mFockState\u001b[0m\u001b[1m(\u001b[0m\n",
       "\u001b[2;32m│     \u001b[0m\u001b[33mwires\u001b[0m=\u001b[1m(\u001b[0m\u001b[3;35mNone\u001b[0m, \u001b[3;35mNone\u001b[0m\u001b[1m)\u001b[0m,\n",
       "\u001b[2;32m│     \u001b[0m\u001b[33mn\u001b[0m=\u001b[1m[\u001b[0m\u001b[1m(\u001b[0m\u001b[3;35mNone\u001b[0m, \u001b[1m(\u001b[0m\u001b[3;35mNone\u001b[0m, \u001b[3;35mNone\u001b[0m\u001b[1m)\u001b[0m\u001b[1m)\u001b[0m, \u001b[1m(\u001b[0m\u001b[3;35mNone\u001b[0m, \u001b[1m(\u001b[0m\u001b[3;35mNone\u001b[0m, \u001b[3;35mNone\u001b[0m\u001b[1m)\u001b[0m\u001b[1m)\u001b[0m\u001b[1m]\u001b[0m\n",
       "\u001b[2;32m│   \u001b[0m\u001b[1m)\u001b[0m,\n",
       "\u001b[2;32m│   \u001b[0m\u001b[1;36m1\u001b[0m:\n",
       "\u001b[2;32m│   \u001b[0m\u001b[1;35mFockState\u001b[0m\u001b[1m(\u001b[0m\n",
       "\u001b[2;32m│     \u001b[0m\u001b[33mwires\u001b[0m=\u001b[1m(\u001b[0m\u001b[3;35mNone\u001b[0m, \u001b[3;35mNone\u001b[0m\u001b[1m)\u001b[0m,\n",
       "\u001b[2;32m│     \u001b[0m\u001b[33mn\u001b[0m=\u001b[1m[\u001b[0m\u001b[1m(\u001b[0m\u001b[3;35mNone\u001b[0m, \u001b[1m(\u001b[0m\u001b[3;35mNone\u001b[0m, \u001b[3;35mNone\u001b[0m\u001b[1m)\u001b[0m\u001b[1m)\u001b[0m, \u001b[1m(\u001b[0m\u001b[3;35mNone\u001b[0m, \u001b[1m(\u001b[0m\u001b[3;35mNone\u001b[0m, \u001b[3;35mNone\u001b[0m\u001b[1m)\u001b[0m\u001b[1m)\u001b[0m\u001b[1m]\u001b[0m\n",
       "\u001b[2;32m│   \u001b[0m\u001b[1m)\u001b[0m,\n",
       "\u001b[2;32m│   \u001b[0m\u001b[1;36m2\u001b[0m:\n",
       "\u001b[2;32m│   \u001b[0m\u001b[1;35mFockState\u001b[0m\u001b[1m(\u001b[0m\n",
       "\u001b[2;32m│     \u001b[0m\u001b[33mwires\u001b[0m=\u001b[1m(\u001b[0m\u001b[3;35mNone\u001b[0m, \u001b[3;35mNone\u001b[0m\u001b[1m)\u001b[0m,\n",
       "\u001b[2;32m│     \u001b[0m\u001b[33mn\u001b[0m=\u001b[1m[\u001b[0m\u001b[1m(\u001b[0m\u001b[3;35mNone\u001b[0m, \u001b[1m(\u001b[0m\u001b[3;35mNone\u001b[0m, \u001b[3;35mNone\u001b[0m\u001b[1m)\u001b[0m\u001b[1m)\u001b[0m, \u001b[1m(\u001b[0m\u001b[3;35mNone\u001b[0m, \u001b[1m(\u001b[0m\u001b[3;35mNone\u001b[0m, \u001b[3;35mNone\u001b[0m\u001b[1m)\u001b[0m\u001b[1m)\u001b[0m\u001b[1m]\u001b[0m\n",
       "\u001b[2;32m│   \u001b[0m\u001b[1m)\u001b[0m,\n",
       "\u001b[2;32m│   \u001b[0m\u001b[32m'phase'\u001b[0m:\n",
       "\u001b[2;32m│   \u001b[0m\u001b[1;35mPhase\u001b[0m\u001b[1m(\u001b[0m\u001b[33mwires\u001b[0m=\u001b[1m(\u001b[0m\u001b[3;35mNone\u001b[0m,\u001b[1m)\u001b[0m, \u001b[33mphi\u001b[0m=\u001b[35mweak_f64\u001b[0m\u001b[1m[\u001b[0m\u001b[1m]\u001b[0m\u001b[1m)\u001b[0m,\n",
       "\u001b[2;32m│   \u001b[0m\u001b[1;36m4\u001b[0m:\n",
       "\u001b[2;32m│   \u001b[0m\u001b[1;35mLOPC\u001b[0m\u001b[1m(\u001b[0m\u001b[33mwires\u001b[0m=\u001b[1m(\u001b[0m\u001b[3;35mNone\u001b[0m, \u001b[3;35mNone\u001b[0m, \u001b[3;35mNone\u001b[0m\u001b[1m)\u001b[0m, \u001b[33mrs\u001b[0m=\u001b[35mf64\u001b[0m\u001b[1m[\u001b[0m\u001b[1;36m3\u001b[0m\u001b[1m]\u001b[0m\u001b[1m)\u001b[0m,\n",
       "\u001b[2;32m│   \u001b[0m\u001b[1;36m5\u001b[0m:\n",
       "\u001b[2;32m│   \u001b[0m\u001b[1;35mLOPC\u001b[0m\u001b[1m(\u001b[0m\u001b[33mwires\u001b[0m=\u001b[1m(\u001b[0m\u001b[3;35mNone\u001b[0m, \u001b[3;35mNone\u001b[0m, \u001b[3;35mNone\u001b[0m\u001b[1m)\u001b[0m, \u001b[33mrs\u001b[0m=\u001b[35mf64\u001b[0m\u001b[1m[\u001b[0m\u001b[1;36m3\u001b[0m\u001b[1m]\u001b[0m\u001b[1m)\u001b[0m\n",
       "\u001b[2;32m  \u001b[0m\u001b[1m}\u001b[0m\n",
       "\u001b[1m)\u001b[0m\n"
      ]
     },
     "metadata": {},
     "output_type": "display_data"
    }
   ],
   "source": [
    "cut = 2\n",
    "circuit = Circuit()\n",
    "\n",
    "m = 3\n",
    "\n",
    "# we add in the stellar photon, which is in an even superposition of spatial modes 0 and 2 (left and right telescopes)\n",
    "for i in range(m):\n",
    "    circuit.add(\n",
    "        FockState(\n",
    "            wires=(\n",
    "                i,\n",
    "                m + i,\n",
    "            ),\n",
    "            n=[(1 / jnp.sqrt(2).item(), (1, 0)), (1 / jnp.sqrt(2).item(), (0, 1))],\n",
    "        )\n",
    "    )\n",
    "\n",
    "circuit.add(Phase(wires=(0,), phi=0.01), \"phase\")\n",
    "\n",
    "\n",
    "# circuit.add(\n",
    "#     BeamSplitter(\n",
    "#         wires=tuple(range(0, m)),\n",
    "#         r=0.1\n",
    "#     )\n",
    "# )\n",
    "# circuit.add(\n",
    "#     BeamSplitter(\n",
    "#         wires=tuple(range(m, 2*m)),\n",
    "#         r=0.1\n",
    "#     )\n",
    "# )\n",
    "circuit.add(LOPC(wires=tuple(range(0, m)), rs=jnp.ones(m * (m - 1) // 2) * 0.1))\n",
    "circuit.add(LOPC(wires=tuple(range(m, 2 * m)), rs=jnp.ones(m * (m - 1) // 2) * 0.1))\n",
    "\n",
    "\n",
    "# we split out the params which can be varied (in this example, it is just the \"phase\" phi value), and all the static parameters (wires, etc.)\n",
    "# params, static = partition_op(circuit, \"phase\")\n",
    "params, static = eqx.partition(circuit, eqx.is_inexact_array)\n",
    "sim = circuit.compile(params, static, dim=cut, optimize=\"greedy\")  # .jit()\n",
    "get = lambda pytree: jnp.array([pytree.ops[\"phase\"].phi])\n",
    "pprint(params)"
   ]
  },
  {
   "cell_type": "code",
   "execution_count": 3,
   "metadata": {},
   "outputs": [
    {
     "name": "stdout",
     "output_type": "stream",
     "text": [
      "Basis: [0 0 0 1 1 1], Value: 0.12499997764825821\n",
      "Basis: [0 0 1 0 1 1], Value: 0.0048541110008955\n",
      "Basis: [0 0 1 1 0 1], Value: 0.0048468997702002525\n",
      "Basis: [0 0 1 1 1 0], Value: 0.11529899388551712\n",
      "Basis: [0 1 0 0 1 1], Value: 0.0048541110008955\n",
      "Basis: [0 1 0 1 0 1], Value: 0.11529899388551712\n",
      "Basis: [0 1 0 1 1 0], Value: 0.0048468997702002525\n",
      "Basis: [0 1 1 0 0 1], Value: 0.0048492224887013435\n",
      "Basis: [0 1 1 0 1 0], Value: 0.0048492224887013435\n",
      "Basis: [0 1 1 1 0 0], Value: 0.11530156433582306\n",
      "Basis: [1 0 0 0 1 1], Value: 0.1152917891740799\n",
      "Basis: [1 0 0 1 0 1], Value: 0.0048541110008955\n",
      "Basis: [1 0 0 1 1 0], Value: 0.0048541110008955\n",
      "Basis: [1 0 1 0 0 1], Value: 0.004856679122895002\n",
      "Basis: [1 0 1 0 1 0], Value: 0.11529411375522614\n",
      "Basis: [1 0 1 1 0 0], Value: 0.0048492224887013435\n",
      "Basis: [1 1 0 0 0 1], Value: 0.11529411375522614\n",
      "Basis: [1 1 0 0 1 0], Value: 0.004856679122895002\n",
      "Basis: [1 1 0 1 0 0], Value: 0.0048492224887013435\n",
      "Basis: [1 1 1 0 0 0], Value: 0.1249999925494194\n"
     ]
    }
   ],
   "source": [
    "# ket = sim.amplitudes.grad(params)\n",
    "prob = sim.prob.forward(params)\n",
    "# grad = sim.prob.grad(params)\n",
    "\n",
    "print_nonzero_entries(prob)"
   ]
  },
  {
   "cell_type": "code",
   "execution_count": 4,
   "metadata": {},
   "outputs": [
    {
     "name": "stdout",
     "output_type": "stream",
     "text": [
      "Classical Fisher information of starting parameterization is 0.0003027563013285381\n"
     ]
    }
   ],
   "source": [
    "# %% Differentiate with respect to parameters of interest\n",
    "def _loss_fn(params, sim, get):\n",
    "    return sim.prob.cfim(get, params).squeeze()\n",
    "\n",
    "\n",
    "loss_fn = functools.partial(_loss_fn, sim=sim, get=get)\n",
    "print(f\"Classical Fisher information of starting parameterization is {loss_fn(params)}\")\n",
    "\n",
    "# %%\n",
    "start_learning_rate = 1e-2\n",
    "optimizer = optax.chain(optax.adam(start_learning_rate), optax.scale(-1.0))\n",
    "opt_state = optimizer.init(params)"
   ]
  },
  {
   "cell_type": "code",
   "execution_count": 5,
   "metadata": {},
   "outputs": [
    {
     "name": "stderr",
     "output_type": "stream",
     "text": [
      "Training: 100%|██████████| 300/300 [00:04<00:00, 67.70it/s, loss=0.5472550289077782] \n",
      "/var/folders/fk/gsbw4p3n6wxb9cs3bj47j0p00000gn/T/ipykernel_61444/2143595474.py:28: UserWarning: FigureCanvasAgg is non-interactive, and thus cannot be shown\n",
      "  fig.show()\n"
     ]
    },
    {
     "name": "stdout",
     "output_type": "stream",
     "text": [
      "Basis: [0 0 0 1 1 1], Value: 0.12499997764825821\n",
      "Basis: [0 0 1 0 1 1], Value: 0.054640162736177444\n",
      "Basis: [0 0 1 1 0 1], Value: 0.053059227764606476\n",
      "Basis: [0 0 1 1 1 0], Value: 0.017300603911280632\n",
      "Basis: [0 1 0 0 1 1], Value: 0.054640162736177444\n",
      "Basis: [0 1 0 1 0 1], Value: 0.017300603911280632\n",
      "Basis: [0 1 0 1 1 0], Value: 0.053059227764606476\n",
      "Basis: [0 1 1 0 0 1], Value: 0.054640162736177444\n",
      "Basis: [0 1 1 0 1 0], Value: 0.054640162736177444\n",
      "Basis: [0 1 1 1 0 0], Value: 0.01571965403854847\n",
      "Basis: [1 0 0 0 1 1], Value: 0.01571967639029026\n",
      "Basis: [1 0 0 1 0 1], Value: 0.05464014783501625\n",
      "Basis: [1 0 0 1 1 0], Value: 0.05464014783501625\n",
      "Basis: [1 0 1 0 0 1], Value: 0.053059209138154984\n",
      "Basis: [1 0 1 0 1 0], Value: 0.017300615087151527\n",
      "Basis: [1 0 1 1 0 0], Value: 0.05464017763733864\n",
      "Basis: [1 1 0 0 0 1], Value: 0.017300615087151527\n",
      "Basis: [1 1 0 0 1 0], Value: 0.053059209138154984\n",
      "Basis: [1 1 0 1 0 0], Value: 0.05464017763733864\n",
      "Basis: [1 1 1 0 0 0], Value: 0.12499997764825821\n",
      "Circuit(\n",
      "  ops={\n",
      "    0:\n",
      "    FockState(\n",
      "      wires=(None, None),\n",
      "      n=[(None, (None, None)), (None, (None, None))]\n",
      "    ),\n",
      "    1:\n",
      "    FockState(\n",
      "      wires=(None, None),\n",
      "      n=[(None, (None, None)), (None, (None, None))]\n",
      "    ),\n",
      "    2:\n",
      "    FockState(\n",
      "      wires=(None, None),\n",
      "      n=[(None, (None, None)), (None, (None, None))]\n",
      "    ),\n",
      "    'phase':\n",
      "    Phase(wires=(None,), phi=Array(-2.91020255e-07, dtype=float64)),\n",
      "    4:\n",
      "    LOPC(\n",
      "      wires=(None, None, None),\n",
      "      rs=Array([0.60805711, 0.60805712, 0.50985669], dtype=float64)\n",
      "    ),\n",
      "    5:\n",
      "    LOPC(\n",
      "      wires=(None, None, None),\n",
      "      rs=Array([0.60805711, 0.6080571 , 0.50985645], dtype=float64)\n",
      "    )\n",
      "  }\n",
      ")\n"
     ]
    },
    {
     "data": {
      "image/png": "[encoded data removed]",
      "text/plain": [
       "<Figure size 640x480 with 1 Axes>"
      ]
     },
     "metadata": {},
     "output_type": "display_data"
    }
   ],
   "source": [
    "# %%\n",
    "@jax.jit\n",
    "def update(_params, _opt_state):\n",
    "    _val, _grad = jax.value_and_grad(loss_fn)(_params)\n",
    "    _updates, _opt_state = optimizer.update(_grad, _opt_state)\n",
    "    _params = optax.apply_updates(_params, _updates)\n",
    "    return _params, _opt_state, _val\n",
    "\n",
    "\n",
    "# %%\n",
    "df = []\n",
    "update(params, opt_state)\n",
    "n_steps = 300\n",
    "pbar = tqdm.tqdm(range(n_steps), desc=\"Training\", unit=\"it\")\n",
    "for step in pbar:\n",
    "    params, opt_state, val = update(params, opt_state)\n",
    "\n",
    "    pbar.set_postfix({\"loss\": val})\n",
    "    pbar.update(1)\n",
    "\n",
    "    df.append({\"cfim\": val, \"step\": step})\n",
    "\n",
    "df = pl.DataFrame(df)\n",
    "\n",
    "# %%\n",
    "fig, ax = plt.subplots()\n",
    "ax.plot(df[\"step\"], df[\"cfim\"])\n",
    "fig.show()\n",
    "\n",
    "# %%\n",
    "prob = sim.prob.forward(params)\n",
    "print_nonzero_entries(prob)\n",
    "eqx.tree_pprint(params, short_arrays=False)"
   ]
  },
  {
   "cell_type": "code",
   "execution_count": 6,
   "metadata": {},
   "outputs": [],
   "source": [
    "# # we next compute the classical Fisher information\n",
    "# cfi = jnp.sum(get(grad)**2 / (prob + 1e-14))\n",
    "# print(f\"The classical Fisher information for `phi` is {cfi}\")\n",
    "\n",
    "# # this can also be performed from the `sim` object\n",
    "# cfim = sim.prob.cfim(get, params)\n",
    "# print(f\"The classical Fisher information is {cfim}\")"
   ]
  },
  {
   "cell_type": "code",
   "execution_count": 7,
   "metadata": {},
   "outputs": [],
   "source": [
    "# phis = jnp.linspace(-jnp.pi, jnp.pi, 100)\n",
    "# params = eqx.tree_at(\n",
    "#     lambda pytree: pytree.ops[\"phase\"].phi, params, jnp.expand_dims(phis, axis=1)\n",
    "# )\n",
    "\n",
    "# probs = eqx.filter_vmap(sim.prob.forward)(params)\n"
   ]
  },
  {
   "cell_type": "code",
   "execution_count": 8,
   "metadata": {},
   "outputs": [],
   "source": [
    "# colors = cycle(sns.color_palette(n_colors=jnp.prod(jnp.array(probs.shape[1:]))))\n",
    "# styles = cycle(['--', '-.', ':', 'solid', 'dashed', 'dashdot', 'dotted'])\n",
    "# fig, ax = plt.subplots()\n",
    "# for i, idx in enumerate(\n",
    "#     itertools.product(*[list(range(ell)) for ell in probs.shape[1:]])\n",
    "# ):\n",
    "#     if jnp.mean(probs[:, *idx]) < 1e-6:\n",
    "#         continue\n",
    "#     label = f\"{idx}\" if jnp.mean(probs[:, *idx]) > 1e-6 else None\n",
    "#     # print(label, jnp.mean(probs[:, *idx]))\n",
    "#     ax.plot(phis, probs[:, *idx], label=label, color=next(colors), ls=next(styles), alpha=0.8)\n",
    "# ax.legend()\n",
    "# ax.set(xlabel=r\"Phase, $\\varphi$\", ylabel=r\"Probability, $p(\\mathbf{x} | \\varphi)$\")\n"
   ]
  }
 ],
 "metadata": {
  "kernelspec": {
   "display_name": ".venv",
   "language": "python",
   "name": "python3"
  },
  "language_info": {
   "codemirror_mode": {
    "name": "ipython",
    "version": 3
   },
   "file_extension": ".py",
   "mimetype": "text/x-python",
   "name": "python",
   "nbconvert_exporter": "python",
   "pygments_lexer": "ipython3",
   "version": "3.12.1"
  }
 },
 "nbformat": 4,
 "nbformat_minor": 2
}
