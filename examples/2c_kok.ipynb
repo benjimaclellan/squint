{
 "cells": [
  {
   "cell_type": "markdown",
   "metadata": {},
   "source": [
    "# Quantum-enhanced telescopy: Marchese-Kok scheme"
   ]
  },
  {
   "cell_type": "code",
   "execution_count": 6,
   "metadata": {},
   "outputs": [],
   "source": [
    "import functools\n",
    "\n",
    "import equinox as eqx\n",
    "import jax\n",
    "import jax.numpy as jnp\n",
    "import matplotlib.pyplot as plt\n",
    "import optax\n",
    "import polars as pl\n",
    "import tqdm\n",
    "from rich.pretty import pprint\n",
    "\n",
    "from squint.circuit import Circuit\n",
    "from squint.ops.fock import LinearOpticalUnitaryGate, FockState, Phase\n",
    "from squint.utils import print_nonzero_entries"
   ]
  },
  {
   "cell_type": "code",
   "execution_count": null,
   "metadata": {},
   "outputs": [
    {
     "data": {
      "text/html": [
       "<pre style=\"white-space:pre;overflow-x:auto;line-height:normal;font-family:Menlo,'DejaVu Sans Mono',consolas,'Courier New',monospace\"><span style=\"color: #800080; text-decoration-color: #800080; font-weight: bold\">Circuit</span><span style=\"font-weight: bold\">(</span>\n",
       "<span style=\"color: #7fbf7f; text-decoration-color: #7fbf7f\">  </span><span style=\"color: #808000; text-decoration-color: #808000\">dims</span>=<span style=\"color: #800080; text-decoration-color: #800080; font-style: italic\">None</span>,\n",
       "<span style=\"color: #7fbf7f; text-decoration-color: #7fbf7f\">  </span><span style=\"color: #808000; text-decoration-color: #808000\">ops</span>=<span style=\"font-weight: bold\">{</span>\n",
       "<span style=\"color: #7fbf7f; text-decoration-color: #7fbf7f\">│   </span><span style=\"color: #008080; text-decoration-color: #008080; font-weight: bold\">0</span>:\n",
       "<span style=\"color: #7fbf7f; text-decoration-color: #7fbf7f\">│   </span><span style=\"color: #800080; text-decoration-color: #800080; font-weight: bold\">FockState</span><span style=\"font-weight: bold\">(</span>\n",
       "<span style=\"color: #7fbf7f; text-decoration-color: #7fbf7f\">│     </span><span style=\"color: #808000; text-decoration-color: #808000\">wires</span>=<span style=\"font-weight: bold\">(</span><span style=\"color: #008080; text-decoration-color: #008080; font-weight: bold\">0</span>, <span style=\"color: #008080; text-decoration-color: #008080; font-weight: bold\">2</span><span style=\"font-weight: bold\">)</span>,\n",
       "<span style=\"color: #7fbf7f; text-decoration-color: #7fbf7f\">│     </span><span style=\"color: #808000; text-decoration-color: #808000\">n</span>=<span style=\"font-weight: bold\">[(</span><span style=\"color: #008080; text-decoration-color: #008080; font-weight: bold\">0.7071067811865476</span>, <span style=\"font-weight: bold\">(</span><span style=\"color: #008080; text-decoration-color: #008080; font-weight: bold\">1</span>, <span style=\"color: #008080; text-decoration-color: #008080; font-weight: bold\">0</span><span style=\"font-weight: bold\">))</span>, <span style=\"font-weight: bold\">(</span><span style=\"color: #008080; text-decoration-color: #008080; font-weight: bold\">0.7071067811865476</span>, <span style=\"font-weight: bold\">(</span><span style=\"color: #008080; text-decoration-color: #008080; font-weight: bold\">0</span>, <span style=\"color: #008080; text-decoration-color: #008080; font-weight: bold\">1</span><span style=\"font-weight: bold\">))]</span>\n",
       "<span style=\"color: #7fbf7f; text-decoration-color: #7fbf7f\">│   </span><span style=\"font-weight: bold\">)</span>,\n",
       "<span style=\"color: #7fbf7f; text-decoration-color: #7fbf7f\">│   </span><span style=\"color: #008080; text-decoration-color: #008080; font-weight: bold\">1</span>:\n",
       "<span style=\"color: #7fbf7f; text-decoration-color: #7fbf7f\">│   </span><span style=\"color: #800080; text-decoration-color: #800080; font-weight: bold\">FockState</span><span style=\"font-weight: bold\">(</span>\n",
       "<span style=\"color: #7fbf7f; text-decoration-color: #7fbf7f\">│     </span><span style=\"color: #808000; text-decoration-color: #808000\">wires</span>=<span style=\"font-weight: bold\">(</span><span style=\"color: #008080; text-decoration-color: #008080; font-weight: bold\">1</span>, <span style=\"color: #008080; text-decoration-color: #008080; font-weight: bold\">3</span><span style=\"font-weight: bold\">)</span>,\n",
       "<span style=\"color: #7fbf7f; text-decoration-color: #7fbf7f\">│     </span><span style=\"color: #808000; text-decoration-color: #808000\">n</span>=<span style=\"font-weight: bold\">[(</span><span style=\"color: #008080; text-decoration-color: #008080; font-weight: bold\">0.7071067811865476</span>, <span style=\"font-weight: bold\">(</span><span style=\"color: #008080; text-decoration-color: #008080; font-weight: bold\">1</span>, <span style=\"color: #008080; text-decoration-color: #008080; font-weight: bold\">0</span><span style=\"font-weight: bold\">))</span>, <span style=\"font-weight: bold\">(</span><span style=\"color: #008080; text-decoration-color: #008080; font-weight: bold\">0.7071067811865476</span>, <span style=\"font-weight: bold\">(</span><span style=\"color: #008080; text-decoration-color: #008080; font-weight: bold\">0</span>, <span style=\"color: #008080; text-decoration-color: #008080; font-weight: bold\">1</span><span style=\"font-weight: bold\">))]</span>\n",
       "<span style=\"color: #7fbf7f; text-decoration-color: #7fbf7f\">│   </span><span style=\"font-weight: bold\">)</span>,\n",
       "<span style=\"color: #7fbf7f; text-decoration-color: #7fbf7f\">│   </span><span style=\"color: #008000; text-decoration-color: #008000\">'phase'</span>:\n",
       "<span style=\"color: #7fbf7f; text-decoration-color: #7fbf7f\">│   </span><span style=\"color: #800080; text-decoration-color: #800080; font-weight: bold\">Phase</span><span style=\"font-weight: bold\">(</span><span style=\"color: #808000; text-decoration-color: #808000\">wires</span>=<span style=\"font-weight: bold\">(</span><span style=\"color: #008080; text-decoration-color: #008080; font-weight: bold\">0</span>,<span style=\"font-weight: bold\">)</span>, <span style=\"color: #808000; text-decoration-color: #808000\">phi</span>=<span style=\"color: #800080; text-decoration-color: #800080\">weak_f64</span><span style=\"font-weight: bold\">[])</span>,\n",
       "<span style=\"color: #7fbf7f; text-decoration-color: #7fbf7f\">│   </span><span style=\"color: #008080; text-decoration-color: #008080; font-weight: bold\">3</span>:\n",
       "<span style=\"color: #7fbf7f; text-decoration-color: #7fbf7f\">│   </span><span style=\"color: #800080; text-decoration-color: #800080; font-weight: bold\">LinearOpticalUnitaryGate</span><span style=\"font-weight: bold\">(</span><span style=\"color: #808000; text-decoration-color: #808000\">wires</span>=<span style=\"font-weight: bold\">(</span><span style=\"color: #008080; text-decoration-color: #008080; font-weight: bold\">0</span>, <span style=\"color: #008080; text-decoration-color: #008080; font-weight: bold\">1</span><span style=\"font-weight: bold\">)</span>, <span style=\"color: #808000; text-decoration-color: #808000\">rs</span>=<span style=\"color: #800080; text-decoration-color: #800080\">f64</span><span style=\"font-weight: bold\">[</span><span style=\"color: #008080; text-decoration-color: #008080; font-weight: bold\">1</span><span style=\"font-weight: bold\">])</span>,\n",
       "<span style=\"color: #7fbf7f; text-decoration-color: #7fbf7f\">│   </span><span style=\"color: #008080; text-decoration-color: #008080; font-weight: bold\">4</span>:\n",
       "<span style=\"color: #7fbf7f; text-decoration-color: #7fbf7f\">│   </span><span style=\"color: #800080; text-decoration-color: #800080; font-weight: bold\">LinearOpticalUnitaryGate</span><span style=\"font-weight: bold\">(</span><span style=\"color: #808000; text-decoration-color: #808000\">wires</span>=<span style=\"font-weight: bold\">(</span><span style=\"color: #008080; text-decoration-color: #008080; font-weight: bold\">2</span>, <span style=\"color: #008080; text-decoration-color: #008080; font-weight: bold\">3</span><span style=\"font-weight: bold\">)</span>, <span style=\"color: #808000; text-decoration-color: #808000\">rs</span>=<span style=\"color: #800080; text-decoration-color: #800080\">f64</span><span style=\"font-weight: bold\">[</span><span style=\"color: #008080; text-decoration-color: #008080; font-weight: bold\">1</span><span style=\"font-weight: bold\">])</span>\n",
       "<span style=\"color: #7fbf7f; text-decoration-color: #7fbf7f\">  </span><span style=\"font-weight: bold\">}</span>,\n",
       "<span style=\"color: #7fbf7f; text-decoration-color: #7fbf7f\">  </span><span style=\"color: #808000; text-decoration-color: #808000\">_backend</span>=<span style=\"color: #800080; text-decoration-color: #800080; font-style: italic\">None</span>\n",
       "<span style=\"font-weight: bold\">)</span>\n",
       "</pre>\n"
      ],
      "text/plain": [
       "\u001b[1;35mCircuit\u001b[0m\u001b[1m(\u001b[0m\n",
       "\u001b[2;32m  \u001b[0m\u001b[33mdims\u001b[0m=\u001b[3;35mNone\u001b[0m,\n",
       "\u001b[2;32m  \u001b[0m\u001b[33mops\u001b[0m=\u001b[1m{\u001b[0m\n",
       "\u001b[2;32m│   \u001b[0m\u001b[1;36m0\u001b[0m:\n",
       "\u001b[2;32m│   \u001b[0m\u001b[1;35mFockState\u001b[0m\u001b[1m(\u001b[0m\n",
       "\u001b[2;32m│     \u001b[0m\u001b[33mwires\u001b[0m=\u001b[1m(\u001b[0m\u001b[1;36m0\u001b[0m, \u001b[1;36m2\u001b[0m\u001b[1m)\u001b[0m,\n",
       "\u001b[2;32m│     \u001b[0m\u001b[33mn\u001b[0m=\u001b[1m[\u001b[0m\u001b[1m(\u001b[0m\u001b[1;36m0.7071067811865476\u001b[0m, \u001b[1m(\u001b[0m\u001b[1;36m1\u001b[0m, \u001b[1;36m0\u001b[0m\u001b[1m)\u001b[0m\u001b[1m)\u001b[0m, \u001b[1m(\u001b[0m\u001b[1;36m0.7071067811865476\u001b[0m, \u001b[1m(\u001b[0m\u001b[1;36m0\u001b[0m, \u001b[1;36m1\u001b[0m\u001b[1m)\u001b[0m\u001b[1m)\u001b[0m\u001b[1m]\u001b[0m\n",
       "\u001b[2;32m│   \u001b[0m\u001b[1m)\u001b[0m,\n",
       "\u001b[2;32m│   \u001b[0m\u001b[1;36m1\u001b[0m:\n",
       "\u001b[2;32m│   \u001b[0m\u001b[1;35mFockState\u001b[0m\u001b[1m(\u001b[0m\n",
       "\u001b[2;32m│     \u001b[0m\u001b[33mwires\u001b[0m=\u001b[1m(\u001b[0m\u001b[1;36m1\u001b[0m, \u001b[1;36m3\u001b[0m\u001b[1m)\u001b[0m,\n",
       "\u001b[2;32m│     \u001b[0m\u001b[33mn\u001b[0m=\u001b[1m[\u001b[0m\u001b[1m(\u001b[0m\u001b[1;36m0.7071067811865476\u001b[0m, \u001b[1m(\u001b[0m\u001b[1;36m1\u001b[0m, \u001b[1;36m0\u001b[0m\u001b[1m)\u001b[0m\u001b[1m)\u001b[0m, \u001b[1m(\u001b[0m\u001b[1;36m0.7071067811865476\u001b[0m, \u001b[1m(\u001b[0m\u001b[1;36m0\u001b[0m, \u001b[1;36m1\u001b[0m\u001b[1m)\u001b[0m\u001b[1m)\u001b[0m\u001b[1m]\u001b[0m\n",
       "\u001b[2;32m│   \u001b[0m\u001b[1m)\u001b[0m,\n",
       "\u001b[2;32m│   \u001b[0m\u001b[32m'phase'\u001b[0m:\n",
       "\u001b[2;32m│   \u001b[0m\u001b[1;35mPhase\u001b[0m\u001b[1m(\u001b[0m\u001b[33mwires\u001b[0m=\u001b[1m(\u001b[0m\u001b[1;36m0\u001b[0m,\u001b[1m)\u001b[0m, \u001b[33mphi\u001b[0m=\u001b[35mweak_f64\u001b[0m\u001b[1m[\u001b[0m\u001b[1m]\u001b[0m\u001b[1m)\u001b[0m,\n",
       "\u001b[2;32m│   \u001b[0m\u001b[1;36m3\u001b[0m:\n",
       "\u001b[2;32m│   \u001b[0m\u001b[1;35mLinearOpticalUnitaryGate\u001b[0m\u001b[1m(\u001b[0m\u001b[33mwires\u001b[0m=\u001b[1m(\u001b[0m\u001b[1;36m0\u001b[0m, \u001b[1;36m1\u001b[0m\u001b[1m)\u001b[0m, \u001b[33mrs\u001b[0m=\u001b[35mf64\u001b[0m\u001b[1m[\u001b[0m\u001b[1;36m1\u001b[0m\u001b[1m]\u001b[0m\u001b[1m)\u001b[0m,\n",
       "\u001b[2;32m│   \u001b[0m\u001b[1;36m4\u001b[0m:\n",
       "\u001b[2;32m│   \u001b[0m\u001b[1;35mLinearOpticalUnitaryGate\u001b[0m\u001b[1m(\u001b[0m\u001b[33mwires\u001b[0m=\u001b[1m(\u001b[0m\u001b[1;36m2\u001b[0m, \u001b[1;36m3\u001b[0m\u001b[1m)\u001b[0m, \u001b[33mrs\u001b[0m=\u001b[35mf64\u001b[0m\u001b[1m[\u001b[0m\u001b[1;36m1\u001b[0m\u001b[1m]\u001b[0m\u001b[1m)\u001b[0m\n",
       "\u001b[2;32m  \u001b[0m\u001b[1m}\u001b[0m,\n",
       "\u001b[2;32m  \u001b[0m\u001b[33m_backend\u001b[0m=\u001b[3;35mNone\u001b[0m\n",
       "\u001b[1m)\u001b[0m\n"
      ]
     },
     "metadata": {},
     "output_type": "display_data"
    }
   ],
   "source": [
    "cut = 3\n",
    "circuit = Circuit()\n",
    "\n",
    "m = 2  # number of modes (m = 2 is equivalent to the GJC scheme)\n",
    "\n",
    "# we add in the stellar photon, which is in an even superposition of spatial modes 0 and 2 (left and right telescopes)\n",
    "for i in range(m):\n",
    "    circuit.add(\n",
    "        FockState(\n",
    "            wires=(\n",
    "                i,\n",
    "                m + i,\n",
    "            ),\n",
    "            n=[(1 / jnp.sqrt(2).item(), (1, 0)), (1 / jnp.sqrt(2).item(), (0, 1))],\n",
    "        )\n",
    "    )\n",
    "\n",
    "circuit.add(Phase(wires=(0,), phi=0.01), \"phase\")\n",
    "circuit.add(LinearOpticalUnitaryGate(wires=tuple(range(0, m)), rs=jnp.ones(m * (m - 1) // 2) * 0.1))\n",
    "circuit.add(LinearOpticalUnitaryGate(wires=tuple(range(m, 2 * m)), rs=jnp.ones(m * (m - 1) // 2) * 0.1))\n",
    "pprint(circuit)"
   ]
  },
  {
   "cell_type": "code",
   "execution_count": 8,
   "metadata": {},
   "outputs": [],
   "source": [
    "# we split out the params which can be varied (in this example, it is just the \"phase\" phi value), and all the static parameters (wires, etc.)\n",
    "# params, static = partition_op(circuit, \"phase\")\n",
    "params, static = eqx.partition(circuit, eqx.is_inexact_array)\n",
    "sim = circuit.compile(params, static, dim=cut, optimize=\"greedy\").jit()\n",
    "get = lambda pytree: jnp.array([pytree.ops[\"phase\"].phi])"
   ]
  },
  {
   "cell_type": "code",
   "execution_count": 9,
   "metadata": {},
   "outputs": [
    {
     "name": "stdout",
     "output_type": "stream",
     "text": [
      "Basis: [0 0 0 2], Value: 0.004933686461299658\n",
      "Basis: [0 0 1 1], Value: 0.24013260006904602\n",
      "Basis: [0 0 2 0], Value: 0.004933686461299658\n",
      "Basis: [0 1 0 1], Value: 0.009867127053439617\n",
      "Basis: [0 1 1 0], Value: 0.2401328682899475\n",
      "Basis: [0 2 0 0], Value: 0.00493368785828352\n",
      "Basis: [1 0 0 1], Value: 0.2401328682899475\n",
      "Basis: [1 0 1 0], Value: 0.009867127984762192\n",
      "Basis: [1 1 0 0], Value: 0.24013257026672363\n",
      "Basis: [2 0 0 0], Value: 0.00493368785828352\n"
     ]
    }
   ],
   "source": [
    "ket = sim.amplitudes.grad(params)\n",
    "prob = sim.probabilities.forward(params)\n",
    "grad = sim.probabilities.grad(params)\n",
    "\n",
    "print_nonzero_entries(prob)"
   ]
  },
  {
   "cell_type": "code",
   "execution_count": 10,
   "metadata": {},
   "outputs": [
    {
     "name": "stdout",
     "output_type": "stream",
     "text": [
      "Classical Fisher information of starting parameterization is 5.136369833470491e-07\n"
     ]
    }
   ],
   "source": [
    "# %% Differentiate with respect to parameters of interest\n",
    "def _loss_fn(params, sim, get):\n",
    "    return sim.probabilities.cfim(get, params).squeeze()\n",
    "\n",
    "\n",
    "loss_fn = functools.partial(_loss_fn, sim=sim, get=get)\n",
    "print(f\"Classical Fisher information of starting parameterization is {loss_fn(params)}\")\n",
    "\n",
    "# %%\n",
    "start_learning_rate = 1e-2\n",
    "optimizer = optax.chain(optax.adam(start_learning_rate), optax.scale(-1.0))\n",
    "opt_state = optimizer.init(params)"
   ]
  },
  {
   "cell_type": "code",
   "execution_count": 11,
   "metadata": {},
   "outputs": [
    {
     "name": "stderr",
     "output_type": "stream",
     "text": [
      "Training: 100%|██████████| 300/300 [00:05<00:00, 57.02it/s, loss=0.4999998838720263]   \n",
      "/var/folders/fk/gsbw4p3n6wxb9cs3bj47j0p00000gn/T/ipykernel_46891/2329134787.py:28: UserWarning: FigureCanvasAgg is non-interactive, and thus cannot be shown\n",
      "  fig.show()\n"
     ]
    },
    {
     "name": "stdout",
     "output_type": "stream",
     "text": [
      "Basis: [0 0 0 2], Value: 0.12499997764825821\n",
      "Basis: [0 0 1 1], Value: 6.814096812843284e-14\n",
      "Basis: [0 0 2 0], Value: 0.12499997764825821\n",
      "Basis: [0 1 0 1], Value: 0.20570361614227295\n",
      "Basis: [0 1 1 0], Value: 0.044296395033597946\n",
      "Basis: [0 2 0 0], Value: 0.1249999925494194\n",
      "Basis: [1 0 0 1], Value: 0.044296395033597946\n",
      "Basis: [1 0 1 0], Value: 0.20570361614227295\n",
      "Basis: [1 1 0 0], Value: 6.008966246676475e-14\n",
      "Basis: [2 0 0 0], Value: 0.1249999925494194\n",
      "Circuit(\n",
      "  dims=None,\n",
      "  ops={\n",
      "    0:\n",
      "    FockState(\n",
      "      wires=(None, None),\n",
      "      n=[(None, (None, None)), (None, (None, None))]\n",
      "    ),\n",
      "    1:\n",
      "    FockState(\n",
      "      wires=(None, None),\n",
      "      n=[(None, (None, None)), (None, (None, None))]\n",
      "    ),\n",
      "    'phase':\n",
      "    Phase(wires=(None,), phi=Array(0.86894994, dtype=float64)),\n",
      "    3:\n",
      "    LinearOpticalUnitaryGate(\n",
      "      wires=(None, None),\n",
      "      rs=Array([0.78539792], dtype=float64)\n",
      "    ),\n",
      "    4:\n",
      "    LinearOpticalUnitaryGate(\n",
      "      wires=(None, None),\n",
      "      rs=Array([0.7853979], dtype=float64)\n",
      "    )\n",
      "  },\n",
      "  _backend=None\n",
      ")\n"
     ]
    },
    {
     "data": {
      "image/png": "[encoded data removed]",
      "text/plain": [
       "<Figure size 640x480 with 1 Axes>"
      ]
     },
     "metadata": {},
     "output_type": "display_data"
    }
   ],
   "source": [
    "# %%\n",
    "@jax.jit\n",
    "def update(_params, _opt_state):\n",
    "    _val, _grad = jax.value_and_grad(loss_fn)(_params)\n",
    "    _updates, _opt_state = optimizer.update(_grad, _opt_state)\n",
    "    _params = optax.apply_updates(_params, _updates)\n",
    "    return _params, _opt_state, _val\n",
    "\n",
    "\n",
    "# %%\n",
    "df = []\n",
    "update(params, opt_state)\n",
    "n_steps = 300\n",
    "pbar = tqdm.tqdm(range(n_steps), desc=\"Training\", unit=\"it\")\n",
    "for step in pbar:\n",
    "    params, opt_state, val = update(params, opt_state)\n",
    "\n",
    "    pbar.set_postfix({\"loss\": val})\n",
    "    pbar.update(1)\n",
    "\n",
    "    df.append({\"cfim\": val, \"step\": step})\n",
    "\n",
    "df = pl.DataFrame(df)\n",
    "\n",
    "# %%\n",
    "fig, ax = plt.subplots()\n",
    "ax.plot(df[\"step\"], df[\"cfim\"])\n",
    "fig.show()\n",
    "\n",
    "# %%\n",
    "prob = sim.probabilities.forward(params)\n",
    "print_nonzero_entries(prob)\n",
    "eqx.tree_pprint(params, short_arrays=False)"
   ]
  }
 ],
 "metadata": {
  "kernelspec": {
   "display_name": ".venv",
   "language": "python",
   "name": "python3"
  },
  "language_info": {
   "codemirror_mode": {
    "name": "ipython",
    "version": 3
   },
   "file_extension": ".py",
   "mimetype": "text/x-python",
   "name": "python",
   "nbconvert_exporter": "python",
   "pygments_lexer": "ipython3",
   "version": "3.12.1"
  }
 },
 "nbformat": 4,
 "nbformat_minor": 2
}
