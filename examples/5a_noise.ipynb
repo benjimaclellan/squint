{
 "cells": [
  {
   "cell_type": "markdown",
   "metadata": {},
   "source": [
    "# Noise"
   ]
  },
  {
   "cell_type": "code",
   "execution_count": 76,
   "metadata": {},
   "outputs": [],
   "source": [
    "import itertools\n",
    "\n",
    "import equinox as eqx\n",
    "import jax.numpy as jnp\n",
    "import matplotlib.pyplot as plt\n",
    "import seaborn as sns\n",
    "from rich.pretty import pprint\n",
    "\n",
    "from squint.circuit import Circuit\n",
    "from squint.ops.dv import DiscreteState, RXXGate, HGate, Phase, XGate, Conditional\n",
    "from squint.ops.noise import BitFlipChannel, DepolarizingChannel\n",
    "from squint.ops.base import SharedGate\n",
    "from squint.utils import print_nonzero_entries"
   ]
  },
  {
   "cell_type": "code",
   "execution_count": 79,
   "metadata": {},
   "outputs": [
    {
     "data": {
      "text/plain": [
       "Array([0.31415927], dtype=float32)"
      ]
     },
     "execution_count": 79,
     "metadata": {},
     "output_type": "execute_result"
    }
   ],
   "source": [
    "dim = 2\n",
    "\n",
    "n = 5\n",
    "circuit = Circuit()\n",
    "for i in range(n):\n",
    "    circuit.add(DiscreteState(wires=(i,), n=(0,)))\n",
    "\n",
    "circuit.add(HGate(wires=(0,)))\n",
    "for i in range(n - 1):\n",
    "    circuit.add(Conditional(gate=XGate, wires=(i, i + 1)))\n",
    "\n",
    "# circuit.add(\n",
    "#     SharedGate(op=BitFlipChannel(wires=(0,), p=0.2), wires=tuple(range(1, n))),\n",
    "#     # SharedGate(op=DepolarizingChannel(wires=(0,), p=0.2), wires=tuple(range(1, n))),\n",
    "#     \"noise\",\n",
    "# )\n",
    "\n",
    "circuit.add(\n",
    "    SharedGate(op=Phase(wires=(0,), phi=0.1 * jnp.pi), wires=tuple(range(1, n))),\n",
    "    \"phase\",\n",
    ")\n",
    "\n",
    "for i in range(n):\n",
    "    circuit.add(HGate(wires=(i,)))\n",
    "\n",
    "\n",
    "circuit.add(\n",
    "    SharedGate(op=BitFlipChannel(wires=(0,), p=0.2), wires=tuple(range(1, n))),\n",
    "    # SharedGate(op=DepolarizingChannel(wires=(0,), p=0.2), wires=tuple(range(1, n))),\n",
    "    \"noise\",\n",
    ")\n",
    "\n",
    "params, static = eqx.partition(circuit, eqx.is_inexact_array)\n",
    "\n",
    "get = lambda pytree: jnp.array([pytree.ops[\"phase\"].op.phi])\n",
    "\n",
    "# pprint(params)\n",
    "get(circuit)"
   ]
  },
  {
   "cell_type": "code",
   "execution_count": 80,
   "metadata": {},
   "outputs": [
    {
     "name": "stdout",
     "output_type": "stream",
     "text": [
      "Basis: [0 0 0 0 0], Value: 0.03125002607703209\n",
      "Basis: [0 0 0 0 1], Value: 0.03125002980232239\n",
      "Basis: [0 0 0 1 0], Value: 0.03125002980232239\n",
      "Basis: [0 0 0 1 1], Value: 0.03125002607703209\n",
      "Basis: [0 0 1 0 0], Value: 0.03125002980232239\n",
      "Basis: [0 0 1 0 1], Value: 0.03125002607703209\n",
      "Basis: [0 0 1 1 0], Value: 0.03125002607703209\n",
      "Basis: [0 0 1 1 1], Value: 0.03125002980232239\n",
      "Basis: [0 1 0 0 0], Value: 0.03125002980232239\n",
      "Basis: [0 1 0 0 1], Value: 0.03125002980232239\n",
      "Basis: [0 1 0 1 0], Value: 0.03125002980232239\n",
      "Basis: [0 1 0 1 1], Value: 0.03125002980232239\n",
      "Basis: [0 1 1 0 0], Value: 0.03125002980232239\n",
      "Basis: [0 1 1 0 1], Value: 0.03125002980232239\n",
      "Basis: [0 1 1 1 0], Value: 0.03125002980232239\n",
      "Basis: [0 1 1 1 1], Value: 0.03125002607703209\n",
      "Basis: [1 0 0 0 0], Value: 0.03125002980232239\n",
      "Basis: [1 0 0 0 1], Value: 0.03125002607703209\n",
      "Basis: [1 0 0 1 0], Value: 0.03125002607703209\n",
      "Basis: [1 0 0 1 1], Value: 0.03125002980232239\n",
      "Basis: [1 0 1 0 0], Value: 0.03125002980232239\n",
      "Basis: [1 0 1 0 1], Value: 0.03125002980232239\n",
      "Basis: [1 0 1 1 0], Value: 0.03125002980232239\n",
      "Basis: [1 0 1 1 1], Value: 0.03125002607703209\n",
      "Basis: [1 1 0 0 0], Value: 0.03125002980232239\n",
      "Basis: [1 1 0 0 1], Value: 0.03125002980232239\n",
      "Basis: [1 1 0 1 0], Value: 0.03125002980232239\n",
      "Basis: [1 1 0 1 1], Value: 0.03125002607703209\n",
      "Basis: [1 1 1 0 0], Value: 0.03125002980232239\n",
      "Basis: [1 1 1 0 1], Value: 0.03125002980232239\n",
      "Basis: [1 1 1 1 0], Value: 0.03125002607703209\n",
      "Basis: [1 1 1 1 1], Value: 0.03125002980232239\n",
      "[[0.15116556]]\n"
     ]
    }
   ],
   "source": [
    "path = circuit.path(dim=dim)\n",
    "\n",
    "sim = circuit.compile(params, static, dim=2).jit()\n",
    "print_nonzero_entries(sim.prob.forward(params))\n",
    "print(sim.prob.cfim(get, params))"
   ]
  },
  {
   "cell_type": "code",
   "execution_count": 81,
   "metadata": {},
   "outputs": [
    {
     "name": "stdout",
     "output_type": "stream",
     "text": [
      "[[2.684357]]\n"
     ]
    }
   ],
   "source": [
    "params = eqx.tree_at(\n",
    "    lambda pytree: pytree.ops[\"noise\"].op.p, params, 0.1\n",
    ")\n",
    "print(sim.prob.cfim(get, params))"
   ]
  },
  {
   "cell_type": "code",
   "execution_count": 82,
   "metadata": {},
   "outputs": [
    {
     "name": "stdout",
     "output_type": "stream",
     "text": [
      "[1.00000001e-10 1.50497850e-10 2.26495531e-10 3.40870887e-10\n",
      " 5.13003362e-10 7.72058972e-10 1.16192966e-09 1.74867909e-09\n",
      " 2.63171862e-09 3.96067978e-09 5.96073768e-09 8.97078234e-09\n",
      " 1.35008191e-08 2.03184207e-08 3.05787502e-08 4.60203111e-08\n",
      " 6.92595776e-08 1.04234175e-07 1.56870016e-07 2.36085739e-07\n",
      " 3.55303968e-07 5.34724222e-07 8.04747572e-07 1.21112782e-06\n",
      " 1.82272129e-06 2.74315312e-06 4.12838199e-06 6.21311938e-06\n",
      " 9.35061053e-06 1.40724524e-05 2.11787374e-05 3.18735110e-05\n",
      " 4.79688933e-05 7.21921533e-05 1.08647575e-04 1.63512173e-04\n",
      " 2.46082025e-04 3.70347960e-04 5.57365420e-04 8.38821987e-04\n",
      " 1.26240833e-03 1.89989642e-03 2.85930163e-03 4.30318480e-03\n",
      " 6.47619367e-03 9.74652637e-03 1.46683045e-02 2.20754705e-02\n",
      " 3.32230888e-02 5.00000082e-02]\n"
     ]
    }
   ],
   "source": [
    "\n",
    "# ps = jnp.linspace(0, 0.5, 50)\n",
    "ps = jnp.logspace(-10, jnp.log10(0.05), 50)\n",
    "print(ps)\n",
    "params = eqx.tree_at(\n",
    "    lambda pytree: pytree.ops[\"noise\"].op.p, params, ps\n",
    ")\n",
    "params = eqx.tree_at(\n",
    "    lambda pytree: pytree.ops[\"phase\"].op.phi, params, jnp.ones_like(ps) * 0.01\n",
    ")\n",
    "# print(params)\n",
    "# probs = eqx.filter_vmap(sim.prob.forward)(params)\n",
    "cfims = eqx.filter_vmap(sim.prob.cfim, in_axes=(None, 0))(get, params)"
   ]
  },
  {
   "cell_type": "code",
   "execution_count": 83,
   "metadata": {},
   "outputs": [
    {
     "name": "stdout",
     "output_type": "stream",
     "text": [
      "[25.003252   25.003248   25.003244   25.003235   25.003222   25.003204\n",
      " 25.003172   25.003122   25.003052   25.002943   25.002787   25.002544\n",
      " 25.002182   25.00164    24.99488    24.99365    24.991892   24.979822\n",
      " 24.972256   24.954159   24.931208   24.893452   24.839499   24.765095\n",
      " 24.640615   24.461271   24.203405   23.816593   23.257866   22.467924\n",
      " 21.3756     19.916092   18.062565   15.837852   13.36309    10.815428\n",
      "  8.401981    6.28563     4.55362     3.213972    2.2223244   1.5119936\n",
      "  1.0150236   0.6730837   0.4405608   0.28377202  0.1787665   0.10893825\n",
      "  0.0629923   0.03338654]\n"
     ]
    }
   ],
   "source": [
    "print(cfims.squeeze())"
   ]
  },
  {
   "cell_type": "code",
   "execution_count": null,
   "metadata": {},
   "outputs": [
    {
     "data": {
      "text/plain": [
       "[Text(0.5, 0, 'Noise coefficient, $p$'),\n",
       " Text(0, 0.5, '$\\\\mathcal{I}_\\\\varphi^C$'),\n",
       " None]"
      ]
     },
     "execution_count": 84,
     "metadata": {},
     "output_type": "execute_result"
    },
    {
     "data": {
      "image/png": "[encoded data removed]",
      "text/plain": [
       "<Figure size 640x480 with 1 Axes>"
      ]
     },
     "metadata": {},
     "output_type": "display_data"
    }
   ],
   "source": [
    "colors = sns.color_palette(\"crest\", n_colors=jnp.prod(jnp.array(probs.shape[1:])))\n",
    "\n",
    "fig, ax = plt.subplots()\n",
    "ax.plot(ps, cfims.squeeze(), color=colors[0])\n",
    "ax.axhline(n)\n",
    "ax.set(\n",
    "    # xlabel=r\"Phase, $\\varphi$\",\n",
    "    xlabel=r\"Noise coefficient, $p$\",\n",
    "    ylabel=r\"$\\mathcal{I}_\\varphi^C$\",\n",
    "    # ylim=[0, 1.05 * jnp.max(cfims)],\n",
    "    yscale='log'\n",
    ")\n"
   ]
  },
  {
   "cell_type": "code",
   "execution_count": null,
   "metadata": {},
   "outputs": [],
   "source": []
  }
 ],
 "metadata": {
  "kernelspec": {
   "display_name": ".venv",
   "language": "python",
   "name": "python3"
  },
  "language_info": {
   "codemirror_mode": {
    "name": "ipython",
    "version": 3
   },
   "file_extension": ".py",
   "mimetype": "text/x-python",
   "name": "python",
   "nbconvert_exporter": "python",
   "pygments_lexer": "ipython3",
   "version": "3.12.1"
  }
 },
 "nbformat": 4,
 "nbformat_minor": 2
}
