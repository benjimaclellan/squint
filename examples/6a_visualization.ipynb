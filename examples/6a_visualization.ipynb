{
 "cells": [
  {
   "cell_type": "code",
   "execution_count": 22,
   "id": "ecce7bf2",
   "metadata": {},
   "outputs": [],
   "source": [
    "import itertools\n",
    "\n",
    "import equinox as eqx\n",
    "import jax.numpy as jnp\n",
    "import matplotlib.pyplot as plt\n",
    "import seaborn as sns\n",
    "from rich.pretty import pprint\n",
    "\n",
    "from squint.circuit import Circuit\n",
    "from squint.ops.base import SharedGate\n",
    "from squint.ops.dv import (\n",
    "    Conditional,\n",
    "    DiscreteVariableState,\n",
    "    HGate,\n",
    "    Phase,\n",
    "    XGate,\n",
    "    MaximallyMixedState,\n",
    ")\n",
    "from squint.ops.noise import ErasureChannel, BitFlipChannel\n",
    "from squint.diagram import draw"
   ]
  },
  {
   "cell_type": "code",
   "execution_count": 25,
   "id": "ceed5cd6",
   "metadata": {},
   "outputs": [
    {
     "data": {
      "text/html": [
       "<pre style=\"white-space:pre;overflow-x:auto;line-height:normal;font-family:Menlo,'DejaVu Sans Mono',consolas,'Courier New',monospace\"><span style=\"color: #800080; text-decoration-color: #800080; font-weight: bold\">Circuit</span><span style=\"font-weight: bold\">(</span>\n",
       "<span style=\"color: #7fbf7f; text-decoration-color: #7fbf7f\">  </span><span style=\"color: #808000; text-decoration-color: #808000\">dims</span>=<span style=\"color: #800080; text-decoration-color: #800080; font-style: italic\">None</span>,\n",
       "<span style=\"color: #7fbf7f; text-decoration-color: #7fbf7f\">  </span><span style=\"color: #808000; text-decoration-color: #808000\">ops</span>=<span style=\"font-weight: bold\">{</span>\n",
       "<span style=\"color: #7fbf7f; text-decoration-color: #7fbf7f\">│   </span><span style=\"color: #008080; text-decoration-color: #008080; font-weight: bold\">0</span>:\n",
       "<span style=\"color: #7fbf7f; text-decoration-color: #7fbf7f\">│   </span><span style=\"color: #800080; text-decoration-color: #800080; font-weight: bold\">MaximallyMixedState</span><span style=\"font-weight: bold\">(</span><span style=\"color: #808000; text-decoration-color: #808000\">wires</span>=<span style=\"font-weight: bold\">(</span><span style=\"color: #008080; text-decoration-color: #008080; font-weight: bold\">0</span>,<span style=\"font-weight: bold\">))</span>,\n",
       "<span style=\"color: #7fbf7f; text-decoration-color: #7fbf7f\">│   </span><span style=\"color: #008080; text-decoration-color: #008080; font-weight: bold\">1</span>:\n",
       "<span style=\"color: #7fbf7f; text-decoration-color: #7fbf7f\">│   </span><span style=\"color: #800080; text-decoration-color: #800080; font-weight: bold\">DiscreteVariableState</span><span style=\"font-weight: bold\">(</span><span style=\"color: #808000; text-decoration-color: #808000\">wires</span>=<span style=\"font-weight: bold\">(</span><span style=\"color: #008080; text-decoration-color: #008080; font-weight: bold\">1</span>,<span style=\"font-weight: bold\">)</span>, <span style=\"color: #808000; text-decoration-color: #808000\">n</span>=<span style=\"font-weight: bold\">[(</span><span style=\"color: #008080; text-decoration-color: #008080; font-weight: bold\">1.0</span>, <span style=\"font-weight: bold\">(</span><span style=\"color: #008080; text-decoration-color: #008080; font-weight: bold\">0</span>,<span style=\"font-weight: bold\">))])</span>,\n",
       "<span style=\"color: #7fbf7f; text-decoration-color: #7fbf7f\">│   </span><span style=\"color: #008080; text-decoration-color: #008080; font-weight: bold\">2</span>:\n",
       "<span style=\"color: #7fbf7f; text-decoration-color: #7fbf7f\">│   </span><span style=\"color: #800080; text-decoration-color: #800080; font-weight: bold\">HGate</span><span style=\"font-weight: bold\">(</span><span style=\"color: #808000; text-decoration-color: #808000\">wires</span>=<span style=\"font-weight: bold\">(</span><span style=\"color: #008080; text-decoration-color: #008080; font-weight: bold\">0</span>,<span style=\"font-weight: bold\">))</span>,\n",
       "<span style=\"color: #7fbf7f; text-decoration-color: #7fbf7f\">│   </span><span style=\"color: #008080; text-decoration-color: #008080; font-weight: bold\">3</span>:\n",
       "<span style=\"color: #7fbf7f; text-decoration-color: #7fbf7f\">│   </span><span style=\"color: #800080; text-decoration-color: #800080; font-weight: bold\">Conditional</span><span style=\"font-weight: bold\">(</span><span style=\"color: #808000; text-decoration-color: #808000\">wires</span>=<span style=\"font-weight: bold\">(</span><span style=\"color: #008080; text-decoration-color: #008080; font-weight: bold\">0</span>, <span style=\"color: #008080; text-decoration-color: #008080; font-weight: bold\">1</span><span style=\"font-weight: bold\">)</span>, <span style=\"color: #808000; text-decoration-color: #808000\">gate</span>=<span style=\"color: #800080; text-decoration-color: #800080; font-weight: bold\">XGate</span><span style=\"font-weight: bold\">(</span><span style=\"color: #808000; text-decoration-color: #808000\">wires</span>=<span style=\"font-weight: bold\">(</span><span style=\"color: #008080; text-decoration-color: #008080; font-weight: bold\">1</span>,<span style=\"font-weight: bold\">)))</span>,\n",
       "<span style=\"color: #7fbf7f; text-decoration-color: #7fbf7f\">│   </span><span style=\"color: #008000; text-decoration-color: #008000\">'phase'</span>:\n",
       "<span style=\"color: #7fbf7f; text-decoration-color: #7fbf7f\">│   </span><span style=\"color: #800080; text-decoration-color: #800080; font-weight: bold\">SharedGate</span><span style=\"font-weight: bold\">(</span>\n",
       "<span style=\"color: #7fbf7f; text-decoration-color: #7fbf7f\">│     </span><span style=\"color: #808000; text-decoration-color: #808000\">wires</span>=<span style=\"font-weight: bold\">(</span><span style=\"color: #008080; text-decoration-color: #008080; font-weight: bold\">0</span>, <span style=\"color: #008080; text-decoration-color: #008080; font-weight: bold\">1</span><span style=\"font-weight: bold\">)</span>,\n",
       "<span style=\"color: #7fbf7f; text-decoration-color: #7fbf7f\">│     </span><span style=\"color: #808000; text-decoration-color: #808000\">op</span>=<span style=\"color: #800080; text-decoration-color: #800080; font-weight: bold\">Phase</span><span style=\"font-weight: bold\">(</span><span style=\"color: #808000; text-decoration-color: #808000\">wires</span>=<span style=\"font-weight: bold\">(</span><span style=\"color: #008080; text-decoration-color: #008080; font-weight: bold\">0</span>,<span style=\"font-weight: bold\">)</span>, <span style=\"color: #808000; text-decoration-color: #808000\">phi</span>=<span style=\"color: #800080; text-decoration-color: #800080\">weak_f64</span><span style=\"font-weight: bold\">[])</span>,\n",
       "<span style=\"color: #7fbf7f; text-decoration-color: #7fbf7f\">│     </span><span style=\"color: #808000; text-decoration-color: #808000\">copies</span>=<span style=\"font-weight: bold\">[</span><span style=\"color: #800080; text-decoration-color: #800080; font-weight: bold\">Phase</span><span style=\"font-weight: bold\">(</span><span style=\"color: #808000; text-decoration-color: #808000\">wires</span>=<span style=\"font-weight: bold\">(</span><span style=\"color: #008080; text-decoration-color: #008080; font-weight: bold\">1</span>,<span style=\"font-weight: bold\">)</span>, <span style=\"color: #808000; text-decoration-color: #808000\">phi</span>=<span style=\"color: #800080; text-decoration-color: #800080; font-style: italic\">None</span><span style=\"font-weight: bold\">)]</span>,\n",
       "<span style=\"color: #7fbf7f; text-decoration-color: #7fbf7f\">│     </span><span style=\"color: #808000; text-decoration-color: #808000\">where</span>=<span style=\"font-weight: bold\">&lt;</span><span style=\"color: #ff00ff; text-decoration-color: #ff00ff; font-weight: bold\">function</span><span style=\"color: #000000; text-decoration-color: #000000\"> &lt;lambda&gt;&gt;,</span>\n",
       "<span style=\"color: #7fbf7f; text-decoration-color: #7fbf7f\">│     </span><span style=\"color: #808000; text-decoration-color: #808000\">get</span><span style=\"color: #000000; text-decoration-color: #000000\">=&lt;function &lt;lambda&gt;</span><span style=\"font-weight: bold\">&gt;</span>\n",
       "<span style=\"color: #7fbf7f; text-decoration-color: #7fbf7f\">│   </span><span style=\"font-weight: bold\">)</span>,\n",
       "<span style=\"color: #7fbf7f; text-decoration-color: #7fbf7f\">│   </span><span style=\"color: #008080; text-decoration-color: #008080; font-weight: bold\">5</span>:\n",
       "<span style=\"color: #7fbf7f; text-decoration-color: #7fbf7f\">│   </span><span style=\"color: #800080; text-decoration-color: #800080; font-weight: bold\">HGate</span><span style=\"font-weight: bold\">(</span><span style=\"color: #808000; text-decoration-color: #808000\">wires</span>=<span style=\"font-weight: bold\">(</span><span style=\"color: #008080; text-decoration-color: #008080; font-weight: bold\">0</span>,<span style=\"font-weight: bold\">))</span>,\n",
       "<span style=\"color: #7fbf7f; text-decoration-color: #7fbf7f\">│   </span><span style=\"color: #008080; text-decoration-color: #008080; font-weight: bold\">6</span>:\n",
       "<span style=\"color: #7fbf7f; text-decoration-color: #7fbf7f\">│   </span><span style=\"color: #800080; text-decoration-color: #800080; font-weight: bold\">HGate</span><span style=\"font-weight: bold\">(</span><span style=\"color: #808000; text-decoration-color: #808000\">wires</span>=<span style=\"font-weight: bold\">(</span><span style=\"color: #008080; text-decoration-color: #008080; font-weight: bold\">1</span>,<span style=\"font-weight: bold\">))</span>,\n",
       "<span style=\"color: #7fbf7f; text-decoration-color: #7fbf7f\">│   </span><span style=\"color: #008080; text-decoration-color: #008080; font-weight: bold\">7</span>:\n",
       "<span style=\"color: #7fbf7f; text-decoration-color: #7fbf7f\">│   </span><span style=\"color: #800080; text-decoration-color: #800080; font-weight: bold\">BitFlipChannel</span><span style=\"font-weight: bold\">(</span><span style=\"color: #808000; text-decoration-color: #808000\">wires</span>=<span style=\"font-weight: bold\">(</span><span style=\"color: #008080; text-decoration-color: #008080; font-weight: bold\">0</span>,<span style=\"font-weight: bold\">)</span>, <span style=\"color: #808000; text-decoration-color: #808000\">p</span>=<span style=\"color: #800080; text-decoration-color: #800080\">weak_f64</span><span style=\"font-weight: bold\">[])</span>,\n",
       "<span style=\"color: #7fbf7f; text-decoration-color: #7fbf7f\">│   </span><span style=\"color: #008080; text-decoration-color: #008080; font-weight: bold\">8</span>:\n",
       "<span style=\"color: #7fbf7f; text-decoration-color: #7fbf7f\">│   </span><span style=\"color: #800080; text-decoration-color: #800080; font-weight: bold\">BitFlipChannel</span><span style=\"font-weight: bold\">(</span><span style=\"color: #808000; text-decoration-color: #808000\">wires</span>=<span style=\"font-weight: bold\">(</span><span style=\"color: #008080; text-decoration-color: #008080; font-weight: bold\">1</span>,<span style=\"font-weight: bold\">)</span>, <span style=\"color: #808000; text-decoration-color: #808000\">p</span>=<span style=\"color: #800080; text-decoration-color: #800080\">weak_f64</span><span style=\"font-weight: bold\">[])</span>,\n",
       "<span style=\"color: #7fbf7f; text-decoration-color: #7fbf7f\">│   </span><span style=\"color: #008080; text-decoration-color: #008080; font-weight: bold\">9</span>:\n",
       "<span style=\"color: #7fbf7f; text-decoration-color: #7fbf7f\">│   </span><span style=\"color: #800080; text-decoration-color: #800080; font-weight: bold\">ErasureChannel</span><span style=\"font-weight: bold\">(</span><span style=\"color: #808000; text-decoration-color: #808000\">wires</span>=<span style=\"font-weight: bold\">(</span><span style=\"color: #008080; text-decoration-color: #008080; font-weight: bold\">0</span>,<span style=\"font-weight: bold\">))</span>\n",
       "<span style=\"color: #7fbf7f; text-decoration-color: #7fbf7f\">  </span><span style=\"font-weight: bold\">}</span>,\n",
       "<span style=\"color: #7fbf7f; text-decoration-color: #7fbf7f\">  </span><span style=\"color: #808000; text-decoration-color: #808000\">_backend</span>=<span style=\"color: #008000; text-decoration-color: #008000\">'mixed'</span>\n",
       "<span style=\"font-weight: bold\">)</span>\n",
       "</pre>\n"
      ],
      "text/plain": [
       "\u001b[1;35mCircuit\u001b[0m\u001b[1m(\u001b[0m\n",
       "\u001b[2;32m  \u001b[0m\u001b[33mdims\u001b[0m=\u001b[3;35mNone\u001b[0m,\n",
       "\u001b[2;32m  \u001b[0m\u001b[33mops\u001b[0m=\u001b[1m{\u001b[0m\n",
       "\u001b[2;32m│   \u001b[0m\u001b[1;36m0\u001b[0m:\n",
       "\u001b[2;32m│   \u001b[0m\u001b[1;35mMaximallyMixedState\u001b[0m\u001b[1m(\u001b[0m\u001b[33mwires\u001b[0m=\u001b[1m(\u001b[0m\u001b[1;36m0\u001b[0m,\u001b[1m)\u001b[0m\u001b[1m)\u001b[0m,\n",
       "\u001b[2;32m│   \u001b[0m\u001b[1;36m1\u001b[0m:\n",
       "\u001b[2;32m│   \u001b[0m\u001b[1;35mDiscreteState\u001b[0m\u001b[1m(\u001b[0m\u001b[33mwires\u001b[0m=\u001b[1m(\u001b[0m\u001b[1;36m1\u001b[0m,\u001b[1m)\u001b[0m, \u001b[33mn\u001b[0m=\u001b[1m[\u001b[0m\u001b[1m(\u001b[0m\u001b[1;36m1.0\u001b[0m, \u001b[1m(\u001b[0m\u001b[1;36m0\u001b[0m,\u001b[1m)\u001b[0m\u001b[1m)\u001b[0m\u001b[1m]\u001b[0m\u001b[1m)\u001b[0m,\n",
       "\u001b[2;32m│   \u001b[0m\u001b[1;36m2\u001b[0m:\n",
       "\u001b[2;32m│   \u001b[0m\u001b[1;35mHGate\u001b[0m\u001b[1m(\u001b[0m\u001b[33mwires\u001b[0m=\u001b[1m(\u001b[0m\u001b[1;36m0\u001b[0m,\u001b[1m)\u001b[0m\u001b[1m)\u001b[0m,\n",
       "\u001b[2;32m│   \u001b[0m\u001b[1;36m3\u001b[0m:\n",
       "\u001b[2;32m│   \u001b[0m\u001b[1;35mConditional\u001b[0m\u001b[1m(\u001b[0m\u001b[33mwires\u001b[0m=\u001b[1m(\u001b[0m\u001b[1;36m0\u001b[0m, \u001b[1;36m1\u001b[0m\u001b[1m)\u001b[0m, \u001b[33mgate\u001b[0m=\u001b[1;35mXGate\u001b[0m\u001b[1m(\u001b[0m\u001b[33mwires\u001b[0m=\u001b[1m(\u001b[0m\u001b[1;36m1\u001b[0m,\u001b[1m)\u001b[0m\u001b[1m)\u001b[0m\u001b[1m)\u001b[0m,\n",
       "\u001b[2;32m│   \u001b[0m\u001b[32m'phase'\u001b[0m:\n",
       "\u001b[2;32m│   \u001b[0m\u001b[1;35mSharedGate\u001b[0m\u001b[1m(\u001b[0m\n",
       "\u001b[2;32m│     \u001b[0m\u001b[33mwires\u001b[0m=\u001b[1m(\u001b[0m\u001b[1;36m0\u001b[0m, \u001b[1;36m1\u001b[0m\u001b[1m)\u001b[0m,\n",
       "\u001b[2;32m│     \u001b[0m\u001b[33mop\u001b[0m=\u001b[1;35mPhase\u001b[0m\u001b[1m(\u001b[0m\u001b[33mwires\u001b[0m=\u001b[1m(\u001b[0m\u001b[1;36m0\u001b[0m,\u001b[1m)\u001b[0m, \u001b[33mphi\u001b[0m=\u001b[35mweak_f64\u001b[0m\u001b[1m[\u001b[0m\u001b[1m]\u001b[0m\u001b[1m)\u001b[0m,\n",
       "\u001b[2;32m│     \u001b[0m\u001b[33mcopies\u001b[0m=\u001b[1m[\u001b[0m\u001b[1;35mPhase\u001b[0m\u001b[1m(\u001b[0m\u001b[33mwires\u001b[0m=\u001b[1m(\u001b[0m\u001b[1;36m1\u001b[0m,\u001b[1m)\u001b[0m, \u001b[33mphi\u001b[0m=\u001b[3;35mNone\u001b[0m\u001b[1m)\u001b[0m\u001b[1m]\u001b[0m,\n",
       "\u001b[2;32m│     \u001b[0m\u001b[33mwhere\u001b[0m=\u001b[1m<\u001b[0m\u001b[1;95mfunction\u001b[0m\u001b[39m <lambda>>,\u001b[0m\n",
       "\u001b[2;32m│     \u001b[0m\u001b[33mget\u001b[0m\u001b[39m=<function <lambda>\u001b[0m\u001b[1m>\u001b[0m\n",
       "\u001b[2;32m│   \u001b[0m\u001b[1m)\u001b[0m,\n",
       "\u001b[2;32m│   \u001b[0m\u001b[1;36m5\u001b[0m:\n",
       "\u001b[2;32m│   \u001b[0m\u001b[1;35mHGate\u001b[0m\u001b[1m(\u001b[0m\u001b[33mwires\u001b[0m=\u001b[1m(\u001b[0m\u001b[1;36m0\u001b[0m,\u001b[1m)\u001b[0m\u001b[1m)\u001b[0m,\n",
       "\u001b[2;32m│   \u001b[0m\u001b[1;36m6\u001b[0m:\n",
       "\u001b[2;32m│   \u001b[0m\u001b[1;35mHGate\u001b[0m\u001b[1m(\u001b[0m\u001b[33mwires\u001b[0m=\u001b[1m(\u001b[0m\u001b[1;36m1\u001b[0m,\u001b[1m)\u001b[0m\u001b[1m)\u001b[0m,\n",
       "\u001b[2;32m│   \u001b[0m\u001b[1;36m7\u001b[0m:\n",
       "\u001b[2;32m│   \u001b[0m\u001b[1;35mBitFlipChannel\u001b[0m\u001b[1m(\u001b[0m\u001b[33mwires\u001b[0m=\u001b[1m(\u001b[0m\u001b[1;36m0\u001b[0m,\u001b[1m)\u001b[0m, \u001b[33mp\u001b[0m=\u001b[35mweak_f64\u001b[0m\u001b[1m[\u001b[0m\u001b[1m]\u001b[0m\u001b[1m)\u001b[0m,\n",
       "\u001b[2;32m│   \u001b[0m\u001b[1;36m8\u001b[0m:\n",
       "\u001b[2;32m│   \u001b[0m\u001b[1;35mBitFlipChannel\u001b[0m\u001b[1m(\u001b[0m\u001b[33mwires\u001b[0m=\u001b[1m(\u001b[0m\u001b[1;36m1\u001b[0m,\u001b[1m)\u001b[0m, \u001b[33mp\u001b[0m=\u001b[35mweak_f64\u001b[0m\u001b[1m[\u001b[0m\u001b[1m]\u001b[0m\u001b[1m)\u001b[0m,\n",
       "\u001b[2;32m│   \u001b[0m\u001b[1;36m9\u001b[0m:\n",
       "\u001b[2;32m│   \u001b[0m\u001b[1;35mErasureChannel\u001b[0m\u001b[1m(\u001b[0m\u001b[33mwires\u001b[0m=\u001b[1m(\u001b[0m\u001b[1;36m0\u001b[0m,\u001b[1m)\u001b[0m\u001b[1m)\u001b[0m\n",
       "\u001b[2;32m  \u001b[0m\u001b[1m}\u001b[0m,\n",
       "\u001b[2;32m  \u001b[0m\u001b[33m_backend\u001b[0m=\u001b[32m'mixed'\u001b[0m\n",
       "\u001b[1m)\u001b[0m\n"
      ]
     },
     "metadata": {},
     "output_type": "display_data"
    }
   ],
   "source": [
    "n = 2  # number of qubits\n",
    "circuit = Circuit(backend=\"mixed\")\n",
    "\n",
    "circuit.add(MaximallyMixedState(wires=(0,)))\n",
    "for i in range(1, n):\n",
    "    circuit.add(DiscreteVariableState(wires=(i,), n=(0,)))\n",
    "\n",
    "circuit.add(HGate(wires=(0,)))\n",
    "for i in range(n - 1):\n",
    "    circuit.add(Conditional(gate=XGate, wires=(i, i + 1)))\n",
    "\n",
    "circuit.add(\n",
    "    SharedGate(op=Phase(wires=(0,), phi=0.1 * jnp.pi), wires=tuple(range(1, n))),\n",
    "    \"phase\",\n",
    ")\n",
    "\n",
    "for i in range(n):\n",
    "    circuit.add(HGate(wires=(i,)))\n",
    "\n",
    "for i in range(n):\n",
    "    circuit.add(BitFlipChannel(wires=(i,), p=0.4))\n",
    "\n",
    "circuit.add(ErasureChannel(wires=(0,)))\n",
    "\n",
    "pprint(circuit)"
   ]
  },
  {
   "cell_type": "code",
   "execution_count": 27,
   "id": "6f34cdd5",
   "metadata": {},
   "outputs": [],
   "source": [
    "diagram = draw(circuit)\n",
    "diagram.show()"
   ]
  }
 ],
 "metadata": {
  "kernelspec": {
   "display_name": ".venv",
   "language": "python",
   "name": "python3"
  },
  "language_info": {
   "codemirror_mode": {
    "name": "ipython",
    "version": 3
   },
   "file_extension": ".py",
   "mimetype": "text/x-python",
   "name": "python",
   "nbconvert_exporter": "python",
   "pygments_lexer": "ipython3",
   "version": "3.12.1"
  }
 },
 "nbformat": 4,
 "nbformat_minor": 5
}
