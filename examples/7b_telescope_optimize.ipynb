{
 "cells": [
  {
   "cell_type": "raw",
   "id": "190a48db",
   "metadata": {
    "vscode": {
     "languageId": "raw"
    }
   },
   "source": [
    "title: Quantum Telescope Numerics\n",
    "author: Benjamin MacLellan\n",
    "date: \"{{ datetime.now().strftime('%Y-%m-%d') }}\""
   ]
  },
  {
   "cell_type": "markdown",
   "id": "ccf71526",
   "metadata": {},
   "source": [
    "# Scheme 1 Proposal\n",
    "\n",
    "This notebook implements Scheme 1, using multimode, fixed-energy Fock state as the ancilla to estimate $|g|$ and $\\varphi$ of the weak thermal star photon state.\n",
    "\n",
    "We optimize over the tunable parameters of the scheme, including the superposition amplitudes of the ancilla state. "
   ]
  },
  {
   "cell_type": "code",
   "execution_count": 12,
   "id": "40fc0bef",
   "metadata": {},
   "outputs": [],
   "source": [
    "import dataclasses\n",
    "import itertools\n",
    "from typing import Any\n",
    "\n",
    "import equinox as eqx\n",
    "import jax.numpy as jnp\n",
    "import numpy as np\n",
    "from tqdm.auto import tqdm\n",
    "\n",
    "from squint.circuit import Circuit\n",
    "from squint.diagram import draw\n",
    "from squint.ops.fock import (\n",
    "    BeamSplitter,\n",
    "    FixedEnergyFockState,\n",
    "    FockState,\n",
    "    TwoModeWeakThermalState,\n",
    ")\n",
    "from squint.ops.noise import ErasureChannel"
   ]
  },
  {
   "cell_type": "markdown",
   "id": "959555ae",
   "metadata": {},
   "source": [
    "## Definition of the optical circuit\n",
    "We first define the optical circuit as a `squint.Circuit` object, which contains symbolic descriptions of the states, operators, and channels in sequential/causal order. \n",
    "\n",
    "The star is modelled as a weak thermal source, \n",
    "$$\n",
    "\\rho^{\\text{star}}_{s_0, s_1} = \n",
    "\\begin{bmatrix}\n",
    "1 - \\epsilon & 0 & 0 & 0 \\\\\n",
    "0 & \\epsilon / 2 &  |g|\\exp(i\\varphi) & 0 \\\\\n",
    "0 & |g|\\exp(-i\\varphi) & \\epsilon / 2 & 0 \\\\\n",
    "0 & 0 & 0 & 0 \\\\\n",
    "\\end{bmatrix}\n",
    ".\n",
    "$$\n",
    "\n",
    "The variational ancilla resource state is a multimode-entangled, fixed photon number state,\n",
    "$$\n",
    "|{\\rho}\\rangle^{\\text{ancilla}}_{a_0, a_1} = \n",
    "\\sum_{n,m}  \\alpha_{n,m}  |{n}\\rangle_{a_0}|{m}\\rangle_{a_1} .\n",
    "$$\n",
    "where $n+m = N$.\n",
    "\n",
    "This ancilla state is distributed to the left and right telescope through lossy channels, each modelled as a beamsplitter with the vacuum state on remaining port,\n",
    "$$\n",
    "|{\\rho}\\rangle^{\\text{loss}}_{d_0, d_1} = |{0}\\rangle_{d_0} |{0}\\rangle_{d_1}\n",
    "$$"
   ]
  },
  {
   "cell_type": "code",
   "execution_count": 13,
   "id": "bbeb979d",
   "metadata": {},
   "outputs": [],
   "source": [
    "def telescope(n_ancilla_modes: int = 1, n_ancilla_photons_per_mode: int = 1):\n",
    "    dim = n_ancilla_modes * n_ancilla_photons_per_mode + 1 + 1\n",
    "\n",
    "    wire_star_left = \"sl\"\n",
    "    wire_star_right = \"sr\"\n",
    "    wires_ancilla_left = tuple(f\"al{i}\" for i in range(n_ancilla_modes))\n",
    "    wires_ancilla_right = tuple(f\"ar{i}\" for i in range(n_ancilla_modes))\n",
    "    wires_dump_left = tuple(f\"dl{i}\" for i in range(n_ancilla_modes))\n",
    "    wires_dump_right = tuple(f\"dr{i}\" for i in range(n_ancilla_modes))\n",
    "\n",
    "    circuit = Circuit(backend=\"mixed\")\n",
    "\n",
    "    # star modes\n",
    "    circuit.add(\n",
    "        TwoModeWeakThermalState(\n",
    "            wires=(wire_star_left, wire_star_right), epsilon=1.0, g=1.0, phi=0.1\n",
    "        ),\n",
    "        \"star\",\n",
    "    )\n",
    "\n",
    "    # ancilla modes\n",
    "    for i, (wire_ancilla_left, wire_ancilla_right) in enumerate(\n",
    "        zip(wires_ancilla_left, wires_ancilla_right, strict=False)\n",
    "    ):\n",
    "        circuit.add(\n",
    "            FixedEnergyFockState(\n",
    "                wires=(wire_ancilla_left, wire_ancilla_right),\n",
    "                n=n_ancilla_photons_per_mode,\n",
    "            ),\n",
    "            f\"ancilla{i}\",\n",
    "        )\n",
    "\n",
    "    # loss modes\n",
    "    for i, wire_dump in enumerate(wires_dump_left + wires_dump_right):\n",
    "        circuit.add(FockState(wires=(wire_dump,), n=(0,)), f\"vac{i}\")\n",
    "\n",
    "    # loss beamsplitters\n",
    "    for i, (wire_ancilla, wire_dump) in enumerate(\n",
    "        zip(\n",
    "            wires_ancilla_left + wires_ancilla_right,\n",
    "            wires_dump_left + wires_dump_right,\n",
    "            strict=False,\n",
    "        )\n",
    "    ):\n",
    "        circuit.add(BeamSplitter(wires=(wire_ancilla, wire_dump), r=0.0), f\"loss{i}\")\n",
    "\n",
    "    iterator = itertools.count(0)\n",
    "    for i, wire_ancilla in enumerate(wires_ancilla_left):\n",
    "        circuit.add(\n",
    "            BeamSplitter(wires=(wire_ancilla, wire_star_left)), f\"ul{next(iterator)}\"\n",
    "        )\n",
    "    for wire_i, wire_j in itertools.combinations(wires_ancilla_left, 2):\n",
    "        circuit.add(BeamSplitter(wires=(wire_i, wire_j)), f\"ul{next(iterator)}\")\n",
    "\n",
    "    iterator = itertools.count(0)\n",
    "    for i, wire_ancilla in enumerate(wires_ancilla_right):\n",
    "        circuit.add(\n",
    "            BeamSplitter(wires=(wire_ancilla, wire_star_right)), f\"ur{next(iterator)}\"\n",
    "        )\n",
    "    for wire_i, wire_j in itertools.combinations(wires_ancilla_right, 2):\n",
    "        circuit.add(BeamSplitter(wires=(wire_i, wire_j)), f\"ur{next(iterator)}\")\n",
    "\n",
    "    # circuit.add(LinearOpticalUnitaryGate(wires=wires_ancilla_left + (wire_star_left,)), f\"ul\")\n",
    "    # circuit.add(LinearOpticalUnitaryGate(wires=wires_ancilla_right + (wire_star_right,)), f\"ur\")\n",
    "\n",
    "    for i, wire_dump in enumerate(wires_dump_left + wires_dump_right):\n",
    "        circuit.add(ErasureChannel(wires=(wire_dump,)), f\"ptrace{i}\")\n",
    "\n",
    "    return circuit, dim"
   ]
  },
  {
   "cell_type": "markdown",
   "id": "2ba158cc",
   "metadata": {},
   "source": [
    "With the circuit defined, we verify it was constructed properly (`circuit.verify()`), followed by drawing the tensor network diagram (`circuit.draw()`) and compiling the forward, gradient, and Fisher information methods `sim = circuit.compile()`. We also define the necessary `get` function, which identifies the parameters in our system for which we want to compute the Fisher information (matrix) with respect to."
   ]
  },
  {
   "cell_type": "code",
   "execution_count": 14,
   "id": "6bc941be",
   "metadata": {},
   "outputs": [
    {
     "name": "stdout",
     "output_type": "stream",
     "text": [
      "dim = 4\n"
     ]
    }
   ],
   "source": [
    "circuit, dim = telescope(n_ancilla_modes=1, n_ancilla_photons_per_mode=2)\n",
    "print(f\"dim = {dim}\")\n",
    "# pprint(circuit)"
   ]
  },
  {
   "cell_type": "code",
   "execution_count": 15,
   "id": "e40587d9",
   "metadata": {},
   "outputs": [],
   "source": [
    "circuit.verify()\n",
    "fig = draw(circuit)\n",
    "# fig.show()"
   ]
  },
  {
   "cell_type": "code",
   "execution_count": 16,
   "id": "d9637151",
   "metadata": {},
   "outputs": [],
   "source": [
    "@dataclasses.dataclass\n",
    "class TelescopeAncilla:\n",
    "    n_ancilla_modes: int\n",
    "    n_ancilla_photons_per_mode: int\n",
    "    dim: int\n",
    "    cfims: Any\n",
    "\n",
    "\n",
    "get = lambda pytree: jnp.array([pytree.ops[\"star\"].phi])\n",
    "phis = jnp.linspace(-jnp.pi, jnp.pi, 100)\n",
    "\n",
    "\n",
    "def update(phi, params):\n",
    "    return eqx.tree_at(lambda pytree: pytree.ops[\"star\"].phi, params, phi)\n",
    "\n",
    "\n",
    "data = []"
   ]
  },
  {
   "cell_type": "code",
   "execution_count": 17,
   "id": "696f9a9d",
   "metadata": {},
   "outputs": [
    {
     "name": "stdout",
     "output_type": "stream",
     "text": [
      "1 1\n"
     ]
    },
    {
     "ename": "KeyboardInterrupt",
     "evalue": "",
     "output_type": "error",
     "traceback": [
      "\u001b[0;31m---------------------------------------------------------------------------\u001b[0m",
      "\u001b[0;31mKeyboardInterrupt\u001b[0m                         Traceback (most recent call last)",
      "Cell \u001b[0;32mIn[17], line 5\u001b[0m\n\u001b[1;32m      1\u001b[0m \u001b[38;5;28;01mfor\u001b[39;00m n_ancilla_modes, n_ancilla_photons_per_mode \u001b[38;5;129;01min\u001b[39;00m (\n\u001b[1;32m      2\u001b[0m     (\u001b[38;5;241m1\u001b[39m, \u001b[38;5;241m1\u001b[39m), (\u001b[38;5;241m1\u001b[39m, \u001b[38;5;241m2\u001b[39m), (\u001b[38;5;241m1\u001b[39m, \u001b[38;5;241m3\u001b[39m)\n\u001b[1;32m      3\u001b[0m ):\n\u001b[1;32m      4\u001b[0m     \u001b[38;5;28mprint\u001b[39m(n_ancilla_modes, n_ancilla_photons_per_mode)\n\u001b[0;32m----> 5\u001b[0m     circuit, dim \u001b[38;5;241m=\u001b[39m \u001b[43mtelescope\u001b[49m\u001b[43m(\u001b[49m\u001b[43mn_ancilla_modes\u001b[49m\u001b[43m,\u001b[49m\u001b[43m \u001b[49m\u001b[43mn_ancilla_photons_per_mode\u001b[49m\u001b[43m)\u001b[49m\n\u001b[1;32m      6\u001b[0m     params, static \u001b[38;5;241m=\u001b[39m eqx\u001b[38;5;241m.\u001b[39mpartition(circuit, eqx\u001b[38;5;241m.\u001b[39mis_inexact_array)\n\u001b[1;32m      7\u001b[0m     sim \u001b[38;5;241m=\u001b[39m circuit\u001b[38;5;241m.\u001b[39mcompile(circuit, static, dim\u001b[38;5;241m=\u001b[39mdim)\u001b[38;5;241m.\u001b[39mjit()\n",
      "Cell \u001b[0;32mIn[13], line 47\u001b[0m, in \u001b[0;36mtelescope\u001b[0;34m(n_ancilla_modes, n_ancilla_photons_per_mode)\u001b[0m\n\u001b[1;32m     45\u001b[0m iterator \u001b[38;5;241m=\u001b[39m itertools\u001b[38;5;241m.\u001b[39mcount(\u001b[38;5;241m0\u001b[39m)\n\u001b[1;32m     46\u001b[0m \u001b[38;5;28;01mfor\u001b[39;00m i, wire_ancilla \u001b[38;5;129;01min\u001b[39;00m \u001b[38;5;28menumerate\u001b[39m(wires_ancilla_right):\n\u001b[0;32m---> 47\u001b[0m     circuit\u001b[38;5;241m.\u001b[39madd(\u001b[43mBeamSplitter\u001b[49m\u001b[43m(\u001b[49m\u001b[43mwires\u001b[49m\u001b[38;5;241;43m=\u001b[39;49m\u001b[43m(\u001b[49m\u001b[43mwire_ancilla\u001b[49m\u001b[43m,\u001b[49m\u001b[43m \u001b[49m\u001b[43mwire_star_right\u001b[49m\u001b[43m)\u001b[49m\u001b[43m)\u001b[49m, \u001b[38;5;124mf\u001b[39m\u001b[38;5;124m\"\u001b[39m\u001b[38;5;124mur\u001b[39m\u001b[38;5;132;01m{\u001b[39;00m\u001b[38;5;28mnext\u001b[39m(iterator)\u001b[38;5;132;01m}\u001b[39;00m\u001b[38;5;124m\"\u001b[39m)\n\u001b[1;32m     48\u001b[0m \u001b[38;5;28;01mfor\u001b[39;00m wire_i, wire_j \u001b[38;5;129;01min\u001b[39;00m itertools\u001b[38;5;241m.\u001b[39mcombinations(wires_ancilla_right, \u001b[38;5;241m2\u001b[39m):\n\u001b[1;32m     49\u001b[0m     circuit\u001b[38;5;241m.\u001b[39madd(BeamSplitter(wires\u001b[38;5;241m=\u001b[39m(wire_i, wire_j)), \u001b[38;5;124mf\u001b[39m\u001b[38;5;124m\"\u001b[39m\u001b[38;5;124mur\u001b[39m\u001b[38;5;132;01m{\u001b[39;00m\u001b[38;5;28mnext\u001b[39m(iterator)\u001b[38;5;132;01m}\u001b[39;00m\u001b[38;5;124m\"\u001b[39m)\n",
      "    \u001b[0;31m[... skipping hidden 3 frame]\u001b[0m\n",
      "File \u001b[0;32m<@beartype(squint.ops.fock.BeamSplitter.__init__) at 0x124433ec0>:67\u001b[0m, in \u001b[0;36m__init__\u001b[0;34m(__beartype_object_4902635776, __beartype_get_violation, __beartype_conf, __beartype_check_meta, __beartype_func, *args, **kwargs)\u001b[0m\n",
      "File \u001b[0;32m~/Desktop/1 - Projects/Quantum Intelligence Lab/repos/squint/src/squint/ops/fock.py:195\u001b[0m, in \u001b[0;36mBeamSplitter.__init__\u001b[0;34m(self, wires, r)\u001b[0m\n\u001b[1;32m    188\u001b[0m \u001b[38;5;129m@beartype\u001b[39m\n\u001b[1;32m    189\u001b[0m \u001b[38;5;28;01mdef\u001b[39;00m\u001b[38;5;250m \u001b[39m\u001b[38;5;21m__init__\u001b[39m(\n\u001b[1;32m    190\u001b[0m     \u001b[38;5;28mself\u001b[39m,\n\u001b[1;32m    191\u001b[0m     wires: \u001b[38;5;28mtuple\u001b[39m[WiresTypes, WiresTypes],\n\u001b[1;32m    192\u001b[0m     r: \u001b[38;5;28mfloat\u001b[39m \u001b[38;5;241m=\u001b[39m jnp\u001b[38;5;241m.\u001b[39mpi \u001b[38;5;241m/\u001b[39m \u001b[38;5;241m4\u001b[39m,\n\u001b[1;32m    193\u001b[0m ):\n\u001b[1;32m    194\u001b[0m     \u001b[38;5;28msuper\u001b[39m()\u001b[38;5;241m.\u001b[39m\u001b[38;5;21m__init__\u001b[39m(wires\u001b[38;5;241m=\u001b[39mwires)\n\u001b[0;32m--> 195\u001b[0m     \u001b[38;5;28mself\u001b[39m\u001b[38;5;241m.\u001b[39mr \u001b[38;5;241m=\u001b[39m \u001b[43mjnp\u001b[49m\u001b[38;5;241;43m.\u001b[39;49m\u001b[43marray\u001b[49m\u001b[43m(\u001b[49m\u001b[43mr\u001b[49m\u001b[43m)\u001b[49m\n\u001b[1;32m    196\u001b[0m     \u001b[38;5;28;01mreturn\u001b[39;00m\n",
      "File \u001b[0;32m~/Desktop/1 - Projects/Quantum Intelligence Lab/repos/squint/.venv/lib/python3.12/site-packages/jax/_src/numpy/lax_numpy.py:5653\u001b[0m, in \u001b[0;36marray\u001b[0;34m(object, dtype, copy, order, ndmin, device)\u001b[0m\n\u001b[1;32m   5651\u001b[0m \u001b[38;5;28;01melse\u001b[39;00m:\n\u001b[1;32m   5652\u001b[0m   \u001b[38;5;28;01mraise\u001b[39;00m \u001b[38;5;167;01mTypeError\u001b[39;00m(\u001b[38;5;124mf\u001b[39m\u001b[38;5;124m\"\u001b[39m\u001b[38;5;124mUnexpected input type for array: \u001b[39m\u001b[38;5;132;01m{\u001b[39;00m\u001b[38;5;28mtype\u001b[39m(\u001b[38;5;28mobject\u001b[39m)\u001b[38;5;132;01m}\u001b[39;00m\u001b[38;5;124m\"\u001b[39m)\n\u001b[0;32m-> 5653\u001b[0m out_array: Array \u001b[38;5;241m=\u001b[39m \u001b[43mlax_internal\u001b[49m\u001b[38;5;241;43m.\u001b[39;49m\u001b[43m_convert_element_type\u001b[49m\u001b[43m(\u001b[49m\n\u001b[1;32m   5654\u001b[0m \u001b[43m    \u001b[49m\u001b[43mout\u001b[49m\u001b[43m,\u001b[49m\u001b[43m \u001b[49m\u001b[43mdtype\u001b[49m\u001b[43m,\u001b[49m\u001b[43m \u001b[49m\u001b[43mweak_type\u001b[49m\u001b[38;5;241;43m=\u001b[39;49m\u001b[43mweak_type\u001b[49m\u001b[43m,\u001b[49m\u001b[43m \u001b[49m\u001b[43msharding\u001b[49m\u001b[38;5;241;43m=\u001b[39;49m\u001b[43msharding\u001b[49m\u001b[43m)\u001b[49m\n\u001b[1;32m   5655\u001b[0m \u001b[38;5;28;01mif\u001b[39;00m ndmin \u001b[38;5;241m>\u001b[39m ndim(out_array):\n\u001b[1;32m   5656\u001b[0m   out_array \u001b[38;5;241m=\u001b[39m lax\u001b[38;5;241m.\u001b[39mexpand_dims(out_array, \u001b[38;5;28mrange\u001b[39m(ndmin \u001b[38;5;241m-\u001b[39m ndim(out_array)))\n",
      "File \u001b[0;32m~/Desktop/1 - Projects/Quantum Intelligence Lab/repos/squint/.venv/lib/python3.12/site-packages/jax/_src/lax/lax.py:608\u001b[0m, in \u001b[0;36m_convert_element_type\u001b[0;34m(operand, new_dtype, weak_type, sharding)\u001b[0m\n\u001b[1;32m    606\u001b[0m   \u001b[38;5;28;01mreturn\u001b[39;00m operand\n\u001b[1;32m    607\u001b[0m \u001b[38;5;28;01melse\u001b[39;00m:\n\u001b[0;32m--> 608\u001b[0m   \u001b[38;5;28;01mreturn\u001b[39;00m \u001b[43mconvert_element_type_p\u001b[49m\u001b[38;5;241;43m.\u001b[39;49m\u001b[43mbind\u001b[49m\u001b[43m(\u001b[49m\n\u001b[1;32m    609\u001b[0m \u001b[43m      \u001b[49m\u001b[43moperand\u001b[49m\u001b[43m,\u001b[49m\u001b[43m \u001b[49m\u001b[43mnew_dtype\u001b[49m\u001b[38;5;241;43m=\u001b[39;49m\u001b[43mnew_dtype\u001b[49m\u001b[43m,\u001b[49m\u001b[43m \u001b[49m\u001b[43mweak_type\u001b[49m\u001b[38;5;241;43m=\u001b[39;49m\u001b[38;5;28;43mbool\u001b[39;49m\u001b[43m(\u001b[49m\u001b[43mweak_type\u001b[49m\u001b[43m)\u001b[49m\u001b[43m,\u001b[49m\n\u001b[1;32m    610\u001b[0m \u001b[43m      \u001b[49m\u001b[43msharding\u001b[49m\u001b[38;5;241;43m=\u001b[39;49m\u001b[43msharding\u001b[49m\u001b[43m)\u001b[49m\n",
      "File \u001b[0;32m~/Desktop/1 - Projects/Quantum Intelligence Lab/repos/squint/.venv/lib/python3.12/site-packages/jax/_src/core.py:463\u001b[0m, in \u001b[0;36mPrimitive.bind\u001b[0;34m(self, *args, **params)\u001b[0m\n\u001b[1;32m    461\u001b[0m trace_ctx\u001b[38;5;241m.\u001b[39mset_trace(eval_trace)\n\u001b[1;32m    462\u001b[0m \u001b[38;5;28;01mtry\u001b[39;00m:\n\u001b[0;32m--> 463\u001b[0m   \u001b[38;5;28;01mreturn\u001b[39;00m \u001b[38;5;28;43mself\u001b[39;49m\u001b[38;5;241;43m.\u001b[39;49m\u001b[43mbind_with_trace\u001b[49m\u001b[43m(\u001b[49m\u001b[43mprev_trace\u001b[49m\u001b[43m,\u001b[49m\u001b[43m \u001b[49m\u001b[43margs\u001b[49m\u001b[43m,\u001b[49m\u001b[43m \u001b[49m\u001b[43mparams\u001b[49m\u001b[43m)\u001b[49m\n\u001b[1;32m    464\u001b[0m \u001b[38;5;28;01mfinally\u001b[39;00m:\n\u001b[1;32m    465\u001b[0m   trace_ctx\u001b[38;5;241m.\u001b[39mset_trace(prev_trace)\n",
      "File \u001b[0;32m~/Desktop/1 - Projects/Quantum Intelligence Lab/repos/squint/.venv/lib/python3.12/site-packages/jax/_src/lax/lax.py:3081\u001b[0m, in \u001b[0;36m_convert_element_type_bind_with_trace\u001b[0;34m(trace, args, params)\u001b[0m\n\u001b[1;32m   3079\u001b[0m \u001b[38;5;28;01mdef\u001b[39;00m\u001b[38;5;250m \u001b[39m\u001b[38;5;21m_convert_element_type_bind_with_trace\u001b[39m(trace, args, params):\n\u001b[1;32m   3080\u001b[0m   sharding \u001b[38;5;241m=\u001b[39m params[\u001b[38;5;124m'\u001b[39m\u001b[38;5;124msharding\u001b[39m\u001b[38;5;124m'\u001b[39m]\n\u001b[0;32m-> 3081\u001b[0m   operand \u001b[38;5;241m=\u001b[39m \u001b[43mcore\u001b[49m\u001b[38;5;241;43m.\u001b[39;49m\u001b[43mPrimitive\u001b[49m\u001b[38;5;241;43m.\u001b[39;49m\u001b[43mbind_with_trace\u001b[49m\u001b[43m(\u001b[49m\u001b[43mconvert_element_type_p\u001b[49m\u001b[43m,\u001b[49m\u001b[43m \u001b[49m\u001b[43mtrace\u001b[49m\u001b[43m,\u001b[49m\u001b[43m \u001b[49m\u001b[43margs\u001b[49m\u001b[43m,\u001b[49m\u001b[43m \u001b[49m\u001b[43mparams\u001b[49m\u001b[43m)\u001b[49m\n\u001b[1;32m   3082\u001b[0m   \u001b[38;5;28;01mif\u001b[39;00m sharding \u001b[38;5;129;01mis\u001b[39;00m \u001b[38;5;129;01mnot\u001b[39;00m \u001b[38;5;28;01mNone\u001b[39;00m \u001b[38;5;129;01mand\u001b[39;00m \u001b[38;5;129;01mnot\u001b[39;00m config\u001b[38;5;241m.\u001b[39msharding_in_types\u001b[38;5;241m.\u001b[39mvalue:\n\u001b[1;32m   3083\u001b[0m     \u001b[38;5;28;01mwith\u001b[39;00m core\u001b[38;5;241m.\u001b[39mset_current_trace(trace):\n",
      "File \u001b[0;32m~/Desktop/1 - Projects/Quantum Intelligence Lab/repos/squint/.venv/lib/python3.12/site-packages/jax/_src/core.py:468\u001b[0m, in \u001b[0;36mPrimitive.bind_with_trace\u001b[0;34m(self, trace, args, params)\u001b[0m\n\u001b[1;32m    467\u001b[0m \u001b[38;5;28;01mdef\u001b[39;00m\u001b[38;5;250m \u001b[39m\u001b[38;5;21mbind_with_trace\u001b[39m(\u001b[38;5;28mself\u001b[39m, trace, args, params):\n\u001b[0;32m--> 468\u001b[0m   \u001b[38;5;28;01mreturn\u001b[39;00m \u001b[43mtrace\u001b[49m\u001b[38;5;241;43m.\u001b[39;49m\u001b[43mprocess_primitive\u001b[49m\u001b[43m(\u001b[49m\u001b[38;5;28;43mself\u001b[39;49m\u001b[43m,\u001b[49m\u001b[43m \u001b[49m\u001b[43margs\u001b[49m\u001b[43m,\u001b[49m\u001b[43m \u001b[49m\u001b[43mparams\u001b[49m\u001b[43m)\u001b[49m\n",
      "File \u001b[0;32m~/Desktop/1 - Projects/Quantum Intelligence Lab/repos/squint/.venv/lib/python3.12/site-packages/jax/_src/core.py:941\u001b[0m, in \u001b[0;36mEvalTrace.process_primitive\u001b[0;34m(self, primitive, args, params)\u001b[0m\n\u001b[1;32m    939\u001b[0m       \u001b[38;5;28;01mreturn\u001b[39;00m primitive\u001b[38;5;241m.\u001b[39mbind_with_trace(arg\u001b[38;5;241m.\u001b[39m_trace, args, params)\n\u001b[1;32m    940\u001b[0m check_eval_args(args)\n\u001b[0;32m--> 941\u001b[0m \u001b[38;5;28;01mreturn\u001b[39;00m \u001b[43mprimitive\u001b[49m\u001b[38;5;241;43m.\u001b[39;49m\u001b[43mimpl\u001b[49m\u001b[43m(\u001b[49m\u001b[38;5;241;43m*\u001b[39;49m\u001b[43margs\u001b[49m\u001b[43m,\u001b[49m\u001b[43m \u001b[49m\u001b[38;5;241;43m*\u001b[39;49m\u001b[38;5;241;43m*\u001b[39;49m\u001b[43mparams\u001b[49m\u001b[43m)\u001b[49m\n",
      "File \u001b[0;32m~/Desktop/1 - Projects/Quantum Intelligence Lab/repos/squint/.venv/lib/python3.12/site-packages/jax/_src/dispatch.py:90\u001b[0m, in \u001b[0;36mapply_primitive\u001b[0;34m(prim, *args, **params)\u001b[0m\n\u001b[1;32m     88\u001b[0m prev \u001b[38;5;241m=\u001b[39m lib\u001b[38;5;241m.\u001b[39mjax_jit\u001b[38;5;241m.\u001b[39mswap_thread_local_state_disable_jit(\u001b[38;5;28;01mFalse\u001b[39;00m)\n\u001b[1;32m     89\u001b[0m \u001b[38;5;28;01mtry\u001b[39;00m:\n\u001b[0;32m---> 90\u001b[0m   outs \u001b[38;5;241m=\u001b[39m \u001b[43mfun\u001b[49m\u001b[43m(\u001b[49m\u001b[38;5;241;43m*\u001b[39;49m\u001b[43margs\u001b[49m\u001b[43m)\u001b[49m\n\u001b[1;32m     91\u001b[0m \u001b[38;5;28;01mfinally\u001b[39;00m:\n\u001b[1;32m     92\u001b[0m   lib\u001b[38;5;241m.\u001b[39mjax_jit\u001b[38;5;241m.\u001b[39mswap_thread_local_state_disable_jit(prev)\n",
      "\u001b[0;31mKeyboardInterrupt\u001b[0m: "
     ]
    }
   ],
   "source": [
    "for n_ancilla_modes, n_ancilla_photons_per_mode in ((1, 1), (1, 2), (1, 3)):\n",
    "    print(n_ancilla_modes, n_ancilla_photons_per_mode)\n",
    "    circuit, dim = telescope(n_ancilla_modes, n_ancilla_photons_per_mode)\n",
    "    params, static = eqx.partition(circuit, eqx.is_inexact_array)\n",
    "    sim = circuit.compile(circuit, static, dim=dim).jit()\n",
    "\n",
    "    # cfims = jax.lax.map(lambda phi: sim.probabilities.cfim(get, update(phi, params)), phis)\n",
    "    cfims = []\n",
    "    for phi in tqdm(phis):\n",
    "        cfims.append(sim.probabilities.cfim(get, update(phi, params)))\n",
    "    cfims = jnp.array(cfims)\n",
    "\n",
    "    d = TelescopeAncilla(\n",
    "        n_ancilla_modes=n_ancilla_modes,\n",
    "        n_ancilla_photons_per_mode=n_ancilla_photons_per_mode,\n",
    "        dim=dim,\n",
    "        cfims=np.array(cfims),\n",
    "    )"
   ]
  },
  {
   "cell_type": "code",
   "execution_count": null,
   "id": "5ea5abf6",
   "metadata": {},
   "outputs": [],
   "source": [
    "# colors = itertools.cycle(sns.color_palette('deep', n_colors=3))\n",
    "# styles = itertools.cycle([\"--\", \"-.\", \":\", \"solid\", \"dashed\", \"dashdot\", \"dotted\"])\n",
    "# fig, ax = plt.subplots()\n",
    "\n",
    "# for d in data:\n",
    "# #     print(cfims.shape)\n",
    "#     label = r\"$m_{\\text{mode}}=\"+f\"{d.n_ancilla_modes},\"+r\" n_{\\text{photon}}=\" + f\"{d.n_ancilla_photons_per_mode}\" + r\"$\"\n",
    "#     ax.plot(\n",
    "#         phis,\n",
    "#         d.cfims.squeeze(),\n",
    "# #         color=next(colors),\n",
    "# #         ls=next(styles),\n",
    "# #         alpha=0.8,\n",
    "#         label=label,\n",
    "#     )\n",
    "# ax.legend()\n",
    "# ax.set(xlabel=r\"Phase, $\\varphi$\", ylabel=r\"CFIM\")"
   ]
  },
  {
   "cell_type": "code",
   "execution_count": null,
   "id": "9c234144",
   "metadata": {},
   "outputs": [],
   "source": [
    "# colors = itertools.cycle(sns.color_palette('deep', n_colors=3))\n",
    "# styles = itertools.cycle([\"--\", \"-.\", \":\", \"solid\", \"dashed\", \"dashdot\", \"dotted\"])\n",
    "# fig, ax = plt.subplots()\n",
    "# print(data[0].squeeze())\n",
    "# plt.plot(phis, data[0].squeeze())\n",
    "\n",
    "# for cfims in data:\n",
    "#     print(cfims.shape)\n",
    "#     # label = r\"$m_{\\text{mode}}=\"+f\"{d.n_ancilla_modes},\"+r\" n_{\\text{photon}}=\" + f\"{d.n_ancilla_photons_per_mode}\" + r\"$\"\n",
    "#     ax.plot(\n",
    "#         phis,\n",
    "#         cfims[:, 0, 0],\n",
    "#         color=next(colors),\n",
    "#         ls=next(styles),\n",
    "#         alpha=0.8,\n",
    "#         label=label,\n",
    "#     )\n",
    "# # ax.legend()\n",
    "# # ax.set(xlabel=r\"Phase, $\\varphi$\", ylabel=r\"CFIM\")"
   ]
  }
 ],
 "metadata": {
  "kernelspec": {
   "display_name": ".venv",
   "language": "python",
   "name": "python3"
  },
  "language_info": {
   "codemirror_mode": {
    "name": "ipython",
    "version": 3
   },
   "file_extension": ".py",
   "mimetype": "text/x-python",
   "name": "python",
   "nbconvert_exporter": "python",
   "pygments_lexer": "ipython3",
   "version": "3.12.1"
  }
 },
 "nbformat": 4,
 "nbformat_minor": 5
}
