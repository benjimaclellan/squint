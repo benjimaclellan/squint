{
 "cells": [
  {
   "cell_type": "code",
   "execution_count": null,
   "id": "40fc0bef",
   "metadata": {},
   "outputs": [],
   "source": [
    "import equinox as eqx\n",
    "import jax\n",
    "import jax.numpy as jnp\n",
    "from rich.pretty import pprint\n",
    "\n",
    "from squint.circuit import Circuit\n",
    "from squint.ops.fock import (\n",
    "    BeamSplitter,\n",
    "    FockState,\n",
    "    TwoModeWeakThermalSource,\n",
    ")\n",
    "from squint.utils import print_nonzero_entries"
   ]
  },
  {
   "cell_type": "code",
   "execution_count": null,
   "id": "bbeb979d",
   "metadata": {},
   "outputs": [],
   "source": [
    "n_phases = 1\n",
    "wires_star = tuple(i for i in range(n_phases + 1))\n",
    "wires_lab = tuple(i for i in range(n_phases + 1, 2 * (n_phases + 1)))\n",
    "\n",
    "circuit = Circuit(backend=\"mixed\")\n",
    "circuit.add(\n",
    "    TwoModeWeakCoherentSource(wires=(0, 1), epsilon=0.3, g=1.0, phi=0.2), \"star\"\n",
    ")\n",
    "# circuit.add(\n",
    "#     FockState(\n",
    "#         wires=wires_star,\n",
    "#         n=[(1.0, tuple(1 if i == j else 0 for i in wires_star)) for j in wires_star]\n",
    "#     )\n",
    "# )\n",
    "circuit.add(\n",
    "    FockState(\n",
    "        wires=wires_lab,\n",
    "        n=[(1.0, tuple(1 if i == j else 0 for i in wires_lab)) for j in wires_lab],\n",
    "    )\n",
    ")\n",
    "# for i in range(1, n_phases+1):\n",
    "#     circuit.add(Phase(wires=(i,), phi=0.1), f\"phase{i}\")\n",
    "\n",
    "for wire_star, wire_lab in zip(wires_star, wires_lab, strict=False):\n",
    "    circuit.add(BeamSplitter(wires=(wire_star, wire_lab)))\n",
    "\n",
    "# circuit.add(ErasureChannel(wires=(0,)))\n",
    "pprint(circuit)\n",
    "print(circuit.wires)"
   ]
  }
 ],
 "metadata": {
  "language_info": {
   "name": "python"
  }
 },
 "nbformat": 4,
 "nbformat_minor": 5
}
