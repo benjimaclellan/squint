{
 "cells": [
  {
   "cell_type": "code",
   "execution_count": 56,
   "id": "40fc0bef",
   "metadata": {},
   "outputs": [],
   "source": [
    "import functools\n",
    "import itertools\n",
    "\n",
    "import equinox as eqx\n",
    "import jax\n",
    "import jax.numpy as jnp\n",
    "import matplotlib.pyplot as plt\n",
    "import seaborn as sns\n",
    "from rich.pretty import pprint\n",
    "\n",
    "from squint.circuit import Circuit\n",
    "from squint.ops.fock import (\n",
    "    BeamSplitter,\n",
    "    FockState,\n",
    ")\n",
    "from squint.ops.noise import ErasureChannel\n",
    "from squint.utils import print_nonzero_entries"
   ]
  },
  {
   "cell_type": "code",
   "execution_count": 37,
   "id": "bbeb979d",
   "metadata": {},
   "outputs": [
    {
     "data": {
      "text/html": [
       "<pre style=\"white-space:pre;overflow-x:auto;line-height:normal;font-family:Menlo,'DejaVu Sans Mono',consolas,'Courier New',monospace\"><span style=\"color: #800080; text-decoration-color: #800080; font-weight: bold\">Circuit</span><span style=\"font-weight: bold\">(</span>\n",
       "<span style=\"color: #7fbf7f; text-decoration-color: #7fbf7f\">  </span><span style=\"color: #808000; text-decoration-color: #808000\">dims</span>=<span style=\"color: #800080; text-decoration-color: #800080; font-style: italic\">None</span>,\n",
       "<span style=\"color: #7fbf7f; text-decoration-color: #7fbf7f\">  </span><span style=\"color: #808000; text-decoration-color: #808000\">ops</span>=<span style=\"font-weight: bold\">{</span>\n",
       "<span style=\"color: #7fbf7f; text-decoration-color: #7fbf7f\">│   </span><span style=\"color: #008080; text-decoration-color: #008080; font-weight: bold\">0</span>:\n",
       "<span style=\"color: #7fbf7f; text-decoration-color: #7fbf7f\">│   </span><span style=\"color: #800080; text-decoration-color: #800080; font-weight: bold\">FockState</span><span style=\"font-weight: bold\">(</span><span style=\"color: #808000; text-decoration-color: #808000\">wires</span>=<span style=\"font-weight: bold\">(</span><span style=\"color: #008000; text-decoration-color: #008000\">'a0'</span>,<span style=\"font-weight: bold\">)</span>, <span style=\"color: #808000; text-decoration-color: #808000\">n</span>=<span style=\"font-weight: bold\">[(</span><span style=\"color: #008080; text-decoration-color: #008080; font-weight: bold\">1.0</span>, <span style=\"font-weight: bold\">(</span><span style=\"color: #008080; text-decoration-color: #008080; font-weight: bold\">1</span>,<span style=\"font-weight: bold\">))])</span>,\n",
       "<span style=\"color: #7fbf7f; text-decoration-color: #7fbf7f\">│   </span><span style=\"color: #008080; text-decoration-color: #008080; font-weight: bold\">1</span>:\n",
       "<span style=\"color: #7fbf7f; text-decoration-color: #7fbf7f\">│   </span><span style=\"color: #800080; text-decoration-color: #800080; font-weight: bold\">FockState</span><span style=\"font-weight: bold\">(</span><span style=\"color: #808000; text-decoration-color: #808000\">wires</span>=<span style=\"font-weight: bold\">(</span><span style=\"color: #008000; text-decoration-color: #008000\">'d0'</span>,<span style=\"font-weight: bold\">)</span>, <span style=\"color: #808000; text-decoration-color: #808000\">n</span>=<span style=\"font-weight: bold\">[(</span><span style=\"color: #008080; text-decoration-color: #008080; font-weight: bold\">1.0</span>, <span style=\"font-weight: bold\">(</span><span style=\"color: #008080; text-decoration-color: #008080; font-weight: bold\">0</span>,<span style=\"font-weight: bold\">))])</span>,\n",
       "<span style=\"color: #7fbf7f; text-decoration-color: #7fbf7f\">│   </span><span style=\"color: #008000; text-decoration-color: #008000\">'loss0'</span>:\n",
       "<span style=\"color: #7fbf7f; text-decoration-color: #7fbf7f\">│   </span><span style=\"color: #800080; text-decoration-color: #800080; font-weight: bold\">BeamSplitter</span><span style=\"font-weight: bold\">(</span><span style=\"color: #808000; text-decoration-color: #808000\">wires</span>=<span style=\"font-weight: bold\">(</span><span style=\"color: #008000; text-decoration-color: #008000\">'a0'</span>, <span style=\"color: #008000; text-decoration-color: #008000\">'d0'</span><span style=\"font-weight: bold\">)</span>, <span style=\"color: #808000; text-decoration-color: #808000\">r</span>=<span style=\"color: #800080; text-decoration-color: #800080\">weak_f64</span><span style=\"font-weight: bold\">[])</span>,\n",
       "<span style=\"color: #7fbf7f; text-decoration-color: #7fbf7f\">│   </span><span style=\"color: #008080; text-decoration-color: #008080; font-weight: bold\">3</span>:\n",
       "<span style=\"color: #7fbf7f; text-decoration-color: #7fbf7f\">│   </span><span style=\"color: #800080; text-decoration-color: #800080; font-weight: bold\">ErasureChannel</span><span style=\"font-weight: bold\">(</span><span style=\"color: #808000; text-decoration-color: #808000\">wires</span>=<span style=\"font-weight: bold\">(</span><span style=\"color: #008000; text-decoration-color: #008000\">'d0'</span>,<span style=\"font-weight: bold\">))</span>\n",
       "<span style=\"color: #7fbf7f; text-decoration-color: #7fbf7f\">  </span><span style=\"font-weight: bold\">}</span>,\n",
       "<span style=\"color: #7fbf7f; text-decoration-color: #7fbf7f\">  </span><span style=\"color: #808000; text-decoration-color: #808000\">_backend</span>=<span style=\"color: #008000; text-decoration-color: #008000\">'mixed'</span>\n",
       "<span style=\"font-weight: bold\">)</span>\n",
       "</pre>\n"
      ],
      "text/plain": [
       "\u001b[1;35mCircuit\u001b[0m\u001b[1m(\u001b[0m\n",
       "\u001b[2;32m  \u001b[0m\u001b[33mdims\u001b[0m=\u001b[3;35mNone\u001b[0m,\n",
       "\u001b[2;32m  \u001b[0m\u001b[33mops\u001b[0m=\u001b[1m{\u001b[0m\n",
       "\u001b[2;32m│   \u001b[0m\u001b[1;36m0\u001b[0m:\n",
       "\u001b[2;32m│   \u001b[0m\u001b[1;35mFockState\u001b[0m\u001b[1m(\u001b[0m\u001b[33mwires\u001b[0m=\u001b[1m(\u001b[0m\u001b[32m'a0'\u001b[0m,\u001b[1m)\u001b[0m, \u001b[33mn\u001b[0m=\u001b[1m[\u001b[0m\u001b[1m(\u001b[0m\u001b[1;36m1.0\u001b[0m, \u001b[1m(\u001b[0m\u001b[1;36m1\u001b[0m,\u001b[1m)\u001b[0m\u001b[1m)\u001b[0m\u001b[1m]\u001b[0m\u001b[1m)\u001b[0m,\n",
       "\u001b[2;32m│   \u001b[0m\u001b[1;36m1\u001b[0m:\n",
       "\u001b[2;32m│   \u001b[0m\u001b[1;35mFockState\u001b[0m\u001b[1m(\u001b[0m\u001b[33mwires\u001b[0m=\u001b[1m(\u001b[0m\u001b[32m'd0'\u001b[0m,\u001b[1m)\u001b[0m, \u001b[33mn\u001b[0m=\u001b[1m[\u001b[0m\u001b[1m(\u001b[0m\u001b[1;36m1.0\u001b[0m, \u001b[1m(\u001b[0m\u001b[1;36m0\u001b[0m,\u001b[1m)\u001b[0m\u001b[1m)\u001b[0m\u001b[1m]\u001b[0m\u001b[1m)\u001b[0m,\n",
       "\u001b[2;32m│   \u001b[0m\u001b[32m'loss0'\u001b[0m:\n",
       "\u001b[2;32m│   \u001b[0m\u001b[1;35mBeamSplitter\u001b[0m\u001b[1m(\u001b[0m\u001b[33mwires\u001b[0m=\u001b[1m(\u001b[0m\u001b[32m'a0'\u001b[0m, \u001b[32m'd0'\u001b[0m\u001b[1m)\u001b[0m, \u001b[33mr\u001b[0m=\u001b[35mweak_f64\u001b[0m\u001b[1m[\u001b[0m\u001b[1m]\u001b[0m\u001b[1m)\u001b[0m,\n",
       "\u001b[2;32m│   \u001b[0m\u001b[1;36m3\u001b[0m:\n",
       "\u001b[2;32m│   \u001b[0m\u001b[1;35mErasureChannel\u001b[0m\u001b[1m(\u001b[0m\u001b[33mwires\u001b[0m=\u001b[1m(\u001b[0m\u001b[32m'd0'\u001b[0m,\u001b[1m)\u001b[0m\u001b[1m)\u001b[0m\n",
       "\u001b[2;32m  \u001b[0m\u001b[1m}\u001b[0m,\n",
       "\u001b[2;32m  \u001b[0m\u001b[33m_backend\u001b[0m=\u001b[32m'mixed'\u001b[0m\n",
       "\u001b[1m)\u001b[0m\n"
      ]
     },
     "metadata": {},
     "output_type": "display_data"
    }
   ],
   "source": [
    "n_modes = 1\n",
    "wires_star = tuple(f\"s{i}\" for i in range(n_modes))\n",
    "wires_ancilla = tuple(f\"a{i}\" for i in range(n_modes))\n",
    "wires_dump = tuple(f\"d{i}\" for i in range(n_modes))\n",
    "\n",
    "circuit = Circuit(backend=\"mixed\")\n",
    "\n",
    "# # star modes\n",
    "# circuit.add(\n",
    "#     TwoModeWeakThermalState(wires=wires_star, epsilon=1.0, g=1.0, phi=0.1), \"star\"\n",
    "# )\n",
    "\n",
    "# ancilla modes\n",
    "circuit.add(\n",
    "    FockState(\n",
    "        wires=wires_ancilla,\n",
    "        n=[\n",
    "            (1.0, tuple(1 if i == j else 0 for i in wires_ancilla))\n",
    "            for j in wires_ancilla\n",
    "        ],\n",
    "    )\n",
    ")\n",
    "\n",
    "# loss modes\n",
    "for wire_dump in wires_dump:\n",
    "    circuit.add(FockState(wires=(wire_dump,)))\n",
    "\n",
    "for i in range(n_modes):\n",
    "    circuit.add(\n",
    "        BeamSplitter(wires=(wires_ancilla[i], wires_dump[i]), r=0.0), f\"loss{i}\"\n",
    "    )\n",
    "\n",
    "# for wire_ancilla, wire_star in zip(wires_ancilla, wires_star):\n",
    "# circuit.add(BeamSplitter(wires=(wire_ancilla, wire_star)))\n",
    "\n",
    "for wire_dump in wires_dump:\n",
    "    circuit.add(ErasureChannel(wires=(wire_dump,)))\n",
    "\n",
    "pprint(circuit)"
   ]
  },
  {
   "cell_type": "code",
   "execution_count": 49,
   "id": "1bcc8028",
   "metadata": {},
   "outputs": [],
   "source": [
    "circuit.verify()\n",
    "\n",
    "get = lambda pytree: [pytree.op[\"phase\"].phi]\n",
    "params, static = eqx.partition(circuit, eqx.is_inexact_array)\n",
    "sim = circuit.compile(circuit, static, dim=3)"
   ]
  },
  {
   "cell_type": "code",
   "execution_count": 50,
   "id": "4e0362bf",
   "metadata": {},
   "outputs": [
    {
     "name": "stdout",
     "output_type": "stream",
     "text": [
      "Basis: [1], Value: 1.0\n"
     ]
    }
   ],
   "source": [
    "print_nonzero_entries(sim.probabilities.forward(params))"
   ]
  },
  {
   "cell_type": "code",
   "execution_count": 53,
   "id": "a4289456",
   "metadata": {},
   "outputs": [],
   "source": [
    "rs = jnp.linspace(0, jnp.pi / 2, 50)\n",
    "\n",
    "\n",
    "def sweep(r, params):\n",
    "    params = eqx.tree_at(\n",
    "        lambda pytree: [pytree.ops[f\"loss{i}\"].r for i in range(n_modes)],\n",
    "        params,\n",
    "        [r for i in range(n_modes)],\n",
    "    )\n",
    "    return sim.probabilities.forward(params)\n",
    "\n",
    "\n",
    "probs = jax.lax.map(functools.partial(sweep, params=params), rs)"
   ]
  },
  {
   "cell_type": "code",
   "execution_count": 61,
   "id": "86bb887e",
   "metadata": {},
   "outputs": [
    {
     "data": {
      "text/plain": [
       "<matplotlib.legend.Legend at 0x13e816240>"
      ]
     },
     "execution_count": 61,
     "metadata": {},
     "output_type": "execute_result"
    },
    {
     "data": {
      "image/png": "[encoded data removed]",
      "text/plain": [
       "<Figure size 640x480 with 1 Axes>"
      ]
     },
     "metadata": {},
     "output_type": "display_data"
    }
   ],
   "source": [
    "colors = sns.color_palette(n_colors=jnp.prod(jnp.array(probs.shape[1:])))\n",
    "fig, ax = plt.subplots(ncols=1)\n",
    "for i, idx in enumerate(\n",
    "    itertools.product(*[list(range(ell)) for ell in probs.shape[1:]])\n",
    "):\n",
    "    ax.plot(\n",
    "        rs,\n",
    "        probs[:, *idx],\n",
    "        label=f\"$p({''.join(map(str, idx))}\" + r\"| r )$\",\n",
    "        color=colors[i],\n",
    "    )\n",
    "\n",
    "ax.legend()"
   ]
  }
 ],
 "metadata": {
  "kernelspec": {
   "display_name": ".venv",
   "language": "python",
   "name": "python3"
  },
  "language_info": {
   "codemirror_mode": {
    "name": "ipython",
    "version": 3
   },
   "file_extension": ".py",
   "mimetype": "text/x-python",
   "name": "python",
   "nbconvert_exporter": "python",
   "pygments_lexer": "ipython3",
   "version": "3.12.1"
  }
 },
 "nbformat": 4,
 "nbformat_minor": 5
}
